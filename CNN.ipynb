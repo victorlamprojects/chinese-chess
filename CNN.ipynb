{
 "cells": [
  {
   "cell_type": "code",
   "execution_count": 1,
   "id": "inner-agent",
   "metadata": {
    "colab": {
     "base_uri": "https://localhost:8080/",
     "height": 17
    },
    "executionInfo": {
     "elapsed": 3,
     "status": "ok",
     "timestamp": 1647813942195,
     "user": {
      "displayName": "Victor Lam",
      "photoUrl": "https://lh3.googleusercontent.com/a/default-user=s64",
      "userId": "14748696853212044832"
     },
     "user_tz": -480
    },
    "id": "inner-agent",
    "outputId": "f47b2b03-6b00-4d33-9942-053d4f24e04c"
   },
   "outputs": [
    {
     "name": "stderr",
     "output_type": "stream",
     "text": [
      "/tmp/ipykernel_84185/2593268057.py:30: DeprecationWarning: Importing display from IPython.core.display is deprecated since IPython 7.14, please import from IPython display\n",
      "  from IPython.core.display import display, HTML\n"
     ]
    },
    {
     "data": {
      "text/html": [
       "<style>.container { width:75% !important; }</style>"
      ],
      "text/plain": [
       "<IPython.core.display.HTML object>"
      ]
     },
     "metadata": {},
     "output_type": "display_data"
    }
   ],
   "source": [
    "# Global Config\n",
    "from common.GlobalConfig import *\n",
    "# Global Util\n",
    "from common.Util import *\n",
    "# System\n",
    "import time\n",
    "import os\n",
    "import random\n",
    "# Statistics\n",
    "import numpy as np\n",
    "import pandas as pd\n",
    "# Graph\n",
    "import matplotlib.pyplot as plt\n",
    "from sklearn.metrics import confusion_matrix, accuracy_score, f1_score\n",
    "# Bayesian Optimization\n",
    "from bayes_opt import BayesianOptimization\n",
    "# Pytorch\n",
    "import torch\n",
    "from torch import nn\n",
    "import torch.nn.functional as F\n",
    "import tqdm\n",
    "from torch.utils.data import DataLoader, TensorDataset\n",
    "# Model\n",
    "from models.CNN import cnn\n",
    "\n",
    "# Create folder if not exist\n",
    "if not os.path.exists('./best_model'):\n",
    "    os.makedirs('best_model')\n",
    "# To show wider screen for output\n",
    "from IPython.core.display import display, HTML\n",
    "display(HTML(\"<style>.container { width:75% !important; }</style>\"))\n",
    "\n",
    "device = torch.device(\"cuda\" if torch.cuda.is_available() else \"cpu\")\n",
    "\n",
    "max_cnn_acc = 0.8346\n",
    "max_random_acc = 0.8183\n",
    "max_bay_acc = 0.8346"
   ]
  },
  {
   "cell_type": "markdown",
   "id": "bacterial-newspaper",
   "metadata": {
    "id": "bacterial-newspaper"
   },
   "source": [
    "# 1. Helper Function"
   ]
  },
  {
   "cell_type": "code",
   "execution_count": 2,
   "id": "voluntary-measure",
   "metadata": {
    "executionInfo": {
     "elapsed": 4,
     "status": "ok",
     "timestamp": 1647813942196,
     "user": {
      "displayName": "Victor Lam",
      "photoUrl": "https://lh3.googleusercontent.com/a/default-user=s64",
      "userId": "14748696853212044832"
     },
     "user_tz": -480
    },
    "id": "voluntary-measure"
   },
   "outputs": [],
   "source": [
    "def train_cnn(hidden_size, dropout_rate, learning_rate, l2_reg, num_filters, pool_size, num_mlp_layers, num_cnn_layers, stride=1, kernel_index=0, sigmoid=0, num_of_epochs=5, verbose=False, plot=False, verbose_itr=False, method='bay'):\n",
    "    # Build Model\n",
    "    kernel_size = kernel_sizes_map[int(kernel_index)-1]\n",
    "    sigmoid = True\n",
    "#     print(hidden_size, dropout_rate, learning_rate, l2_reg, num_filters, pool_size, num_mlp_layers, num_cnn_layers, kernel_index)\n",
    "    if not check_valid_cnn_output_size(init_size=10, n_layers=int(num_cnn_layers), kernel_sizes=kernel_size, pool_size=int(pool_size), stride=int(stride)):\n",
    "        return 0\n",
    "    model = cnn(input_length=10, vocab_size=9, hidden_size=int(hidden_size), kernel_sizes=kernel_size,\n",
    "                     dropout_rate=dropout_rate, num_filters=int(num_filters), num_mlp_layers=int(num_mlp_layers), output_size=output_size,\n",
    "                     num_cnn_layers=int(num_cnn_layers), pool_size=int(pool_size), stride=int(stride), sigmoid=sigmoid)\n",
    "    model.to(device)\n",
    "    optimizer = torch.optim.Adam(model.parameters(), lr=learning_rate, weight_decay=l2_reg)\n",
    "    criterion = get_loss_function('BCE')\n",
    "    model.to(device)\n",
    "    total_train_acc=[]\n",
    "    total_valid_acc=[]\n",
    "    global max_cnn_acc\n",
    "    global max_random_acc\n",
    "    global max_bay_acc\n",
    "    model.train()\n",
    "    for e in range(int(num_of_epochs)):    \n",
    "        if verbose_itr:\n",
    "            print('Epoch', e+1, flush=True)\n",
    "        train_acc = 0\n",
    "        train_count = 0\n",
    "        train_loss = 0\n",
    "        train_acc_list = []\n",
    "        with tqdm.tqdm(train_loader, disable=verbose==False) as t:\n",
    "            for x, y in t:\n",
    "                x_ = x.to(device)\n",
    "                y_ = y.to(device)\n",
    "                optimizer.zero_grad()\n",
    "                logits = model(x_)\n",
    "                loss, cor_count = criterion(logits, y_)\n",
    "                loss.backward()\n",
    "                train_acc += cor_count\n",
    "                train_count += y.size(0)\n",
    "                train_loss += loss.item()\n",
    "                optimizer.step()\n",
    "                t.set_postfix({'Train loss': train_loss/train_count, 'Train acc': train_acc/train_count})\n",
    "            total_train_acc.append(train_acc/train_count)\n",
    "    model.eval()\n",
    "    valid_acc = 0\n",
    "    valid_count = 0\n",
    "    valid_loss = 0\n",
    "    with tqdm.tqdm(test_loader, disable=verbose==False) as t:\n",
    "        for x, y in t:\n",
    "            x_ = x.to(device)\n",
    "            y_ = y.to(device)\n",
    "            logits = model(x_)\n",
    "            loss, cor_count = criterion(logits, y_)\n",
    "            valid_acc += cor_count\n",
    "            valid_count += y.size(0)\n",
    "            valid_loss += loss.item()\n",
    "            t.set_postfix({'Valid loss': valid_loss/valid_count, 'Valid acc': valid_acc/valid_count})\n",
    "        total_valid_acc.append(valid_acc/valid_count)\n",
    "    max_val_acc = valid_acc/valid_count\n",
    "    if method == 'random':\n",
    "        if max_val_acc > max_random_acc:\n",
    "            save_model(model, f'best_cnn_model_random')\n",
    "            max_random_acc = max_val_acc\n",
    "    else:\n",
    "        if max_val_acc > max_bay_acc:\n",
    "            save_model(model, f'best_cnn_model_bay')\n",
    "            max_bay_acc = max_val_acc\n",
    "    \n",
    "    if max_val_acc > max_cnn_acc:\n",
    "        save_model(model, f'best_cnn_model')\n",
    "        max_cnn_acc = max_val_acc\n",
    "    if plot:\n",
    "        t = plt.plot(range(1, epochs + 1), total_train_acc, c='blue')[0]\n",
    "        v = plt.plot(range(1, epochs + 1), total_valid_acc, c='green')[0]\n",
    "        plt.legend([t, v], ['Train accuracy', 'Validation accuracy'])\n",
    "        plt.xlabel('Epochs')\n",
    "        plt.ylim(0.4, 0.8)\n",
    "        plt.xticks(range(1, epochs + 1))\n",
    "        plt.show()\n",
    "    return max_val_acc\n",
    "def get_trained_model(hidden_size, dropout_rate, learning_rate, l2_reg, num_filters, pool_size, num_mlp_layers, num_cnn_layers, stride=1, kernel_index=0, sigmoid=0, num_of_epochs=5):\n",
    "    # Build Model\n",
    "    kernel_size = kernel_sizes_map[int(kernel_index)-1]\n",
    "    if sigmoid > 0.5:\n",
    "        sigmoid = True\n",
    "    else:\n",
    "        sigmoid = False\n",
    "    model = cnn(input_length=max_length, vocab_size=vocab_size, hidden_size=int(hidden_size), kernel_sizes=kernel_size,\n",
    "                     dropout_rate=dropout_rate, num_filters=int(num_filters), num_mlp_layers=int(num_mlp_layers), output_size=output_size,\n",
    "                     num_cnn_layers=int(num_cnn_layers), pool_size=int(pool_size), stride=int(stride), sigmoid=sigmoid)\n",
    "    model.to(device)\n",
    "    \n",
    "    optimizer = torch.optim.Adam(model.parameters(), lr=learning_rate, weight_decay=l2_reg)\n",
    "    criterion = get_loss_function('BCE')\n",
    "    model.to(device)\n",
    "    max_val_acc = 0\n",
    "    for e in range(int(num_of_epochs)):\n",
    "        model.train()\n",
    "        with tqdm.tqdm(train_loader, disable=True) as t:\n",
    "            for x, y in t:\n",
    "                x_ = x.to(device)\n",
    "                y_ = y.to(device)\n",
    "                optimizer.zero_grad()\n",
    "                logits = model(x_)\n",
    "                loss, _ = criterion(logits, y_)\n",
    "                loss.backward()\n",
    "                optimizer.step()\n",
    "    return model"
   ]
  },
  {
   "cell_type": "markdown",
   "id": "associate-witch",
   "metadata": {
    "id": "associate-witch"
   },
   "source": [
    "# 2. Load Data"
   ]
  },
  {
   "cell_type": "code",
   "execution_count": 3,
   "id": "another-bhutan",
   "metadata": {
    "colab": {
     "base_uri": "https://localhost:8080/"
    },
    "executionInfo": {
     "elapsed": 5006,
     "status": "ok",
     "timestamp": 1647813947199,
     "user": {
      "displayName": "Victor Lam",
      "photoUrl": "https://lh3.googleusercontent.com/a/default-user=s64",
      "userId": "14748696853212044832"
     },
     "user_tz": -480
    },
    "id": "another-bhutan",
    "outputId": "2f6db5cd-9e40-45cb-c10f-48652252b004"
   },
   "outputs": [
    {
     "name": "stdout",
     "output_type": "stream",
     "text": [
      "Train set shape: (3919, 10, 9)\n",
      "Test set shape: (980, 10, 9)\n",
      "Output size: 1\n"
     ]
    }
   ],
   "source": [
    "train_X = np.load(f'{preprocessed_folder_path}/train_X.npy', allow_pickle=True)\n",
    "train_Y = np.load(f'{preprocessed_folder_path}/train_Y.npy', allow_pickle=True)\n",
    "test_X = np.load(f'{preprocessed_folder_path}/test_X.npy', allow_pickle=True)\n",
    "test_Y = np.load(f'{preprocessed_folder_path}/test_Y.npy', allow_pickle=True)\n",
    "output_size = train_Y.shape[1]\n",
    "\n",
    "print(f\"Train set shape: {train_X.shape}\")\n",
    "print(f\"Test set shape: {test_X.shape}\")\n",
    "print(f\"Output size: {output_size}\")"
   ]
  },
  {
   "cell_type": "code",
   "execution_count": 4,
   "id": "coastal-pride",
   "metadata": {
    "executionInfo": {
     "elapsed": 10,
     "status": "ok",
     "timestamp": 1647813947200,
     "user": {
      "displayName": "Victor Lam",
      "photoUrl": "https://lh3.googleusercontent.com/a/default-user=s64",
      "userId": "14748696853212044832"
     },
     "user_tz": -480
    },
    "id": "coastal-pride"
   },
   "outputs": [],
   "source": [
    "train_loader = DataLoader(MyDataset(train_X, train_Y), batch_size=batch_size, shuffle=True)\n",
    "test_loader = DataLoader(MyDataset(test_X, test_Y), batch_size=batch_size)"
   ]
  },
  {
   "cell_type": "markdown",
   "id": "serial-consequence",
   "metadata": {
    "id": "serial-consequence"
   },
   "source": [
    "# 3. Hyperparameter Tuning"
   ]
  },
  {
   "cell_type": "markdown",
   "id": "injured-procurement",
   "metadata": {
    "id": "injured-procurement"
   },
   "source": [
    "## 3.1 Random Search"
   ]
  },
  {
   "cell_type": "code",
   "execution_count": 5,
   "id": "sporting-yahoo",
   "metadata": {
    "executionInfo": {
     "elapsed": 10,
     "status": "ok",
     "timestamp": 1647813947200,
     "user": {
      "displayName": "Victor Lam",
      "photoUrl": "https://lh3.googleusercontent.com/a/default-user=s64",
      "userId": "14748696853212044832"
     },
     "user_tz": -480
    },
    "id": "sporting-yahoo"
   },
   "outputs": [],
   "source": [
    "random_param_grid = {\n",
    "    'hidden_size': [i for i in range(param_grid['hidden_size'][0], param_grid['hidden_size'][1]+1)],\n",
    "    'dropout_rate': [i for i in np.arange(param_grid['dropout_rate'][0], param_grid['dropout_rate'][1]+0.1, 0.1)], \n",
    "    'learning_rate': [i for i in np.arange(param_grid['learning_rate'][0], param_grid['learning_rate'][1]+0.001, 0.001)], \n",
    "    'l2_reg': [i for i in np.arange(param_grid['l2_reg'][0], param_grid['l2_reg'][1]+0.0001, 0.0001)],\n",
    "    'num_filters': [i for i in range(param_grid['num_filters'][0], param_grid['num_filters'][1]+1)],\n",
    "    'pool_size': [i for i in range (param_grid['pool_size'][0], param_grid['pool_size'][1]+1)],\n",
    "    'num_mlp_layers': [i for i in range(param_grid['num_mlp_layers'][0], param_grid['num_mlp_layers'][1]+1)],\n",
    "    'num_cnn_layers': [i for i in range(param_grid['num_cnn_layers'][0], param_grid['num_cnn_layers'][1]+1)],\n",
    "    'kernel_index': [i for i in range(param_grid['kernel_index'][0], param_grid['kernel_index'][1]+1)],\n",
    "    'num_of_epochs': [i for i in range(param_grid['num_of_epochs'][0], param_grid['num_of_epochs'][1]+1)],\n",
    "}\n",
    "def random_search(n=10):\n",
    "    best_accuracy = 0 \n",
    "    best_params = {}\n",
    "    tried_combinations = set()\n",
    "    for i in range(n):\n",
    "        print(f\"Random Searching...{i+1}/{n}\", flush=True)\n",
    "        # Randomly get a combination\n",
    "        train_param = {}\n",
    "        while str(train_param) == '{}' or str(train_param) in tried_combinations:\n",
    "            for param in random_param_grid:\n",
    "                train_param[param] = random.choice(param_grid[param])\n",
    "        train_accuracy = train_cnn(**train_param, verbose=100, method='random')\n",
    "        if train_accuracy > best_accuracy:\n",
    "            best_accuracy = train_accuracy\n",
    "            best_params = train_param\n",
    "        tried_combinations.add(str(train_param))\n",
    "    return best_params"
   ]
  },
  {
   "cell_type": "code",
   "execution_count": 6,
   "id": "cosmetic-appendix",
   "metadata": {
    "colab": {
     "base_uri": "https://localhost:8080/"
    },
    "executionInfo": {
     "elapsed": 20342703,
     "status": "ok",
     "timestamp": 1647778180755,
     "user": {
      "displayName": "Victor Lam",
      "photoUrl": "https://lh3.googleusercontent.com/a/default-user=s64",
      "userId": "14748696853212044832"
     },
     "user_tz": -480
    },
    "id": "cosmetic-appendix",
    "outputId": "6e0053c4-a0ad-45cb-d220-bd70c7aa4518"
   },
   "outputs": [
    {
     "name": "stdout",
     "output_type": "stream",
     "text": [
      "Random Searching...1/50\n",
      "Random Searching...2/50\n"
     ]
    },
    {
     "name": "stderr",
     "output_type": "stream",
     "text": [
      "100%|████| 245/245 [00:01<00:00, 145.99it/s, Train loss=0.0435, Train acc=0.695]\n",
      "100%|████| 245/245 [00:01<00:00, 145.59it/s, Train loss=0.0433, Train acc=0.697]\n",
      "100%|████| 245/245 [00:01<00:00, 159.89it/s, Train loss=0.0433, Train acc=0.697]\n",
      "100%|████| 245/245 [00:01<00:00, 139.94it/s, Train loss=0.0433, Train acc=0.697]\n",
      "100%|████| 245/245 [00:01<00:00, 141.55it/s, Train loss=0.0433, Train acc=0.697]\n",
      "100%|███████| 62/62 [00:00<00:00, 342.11it/s, Valid loss=0.0439, Valid acc=0.68]"
     ]
    },
    {
     "name": "stdout",
     "output_type": "stream",
     "text": [
      "Random Searching...3/50\n"
     ]
    },
    {
     "name": "stderr",
     "output_type": "stream",
     "text": [
      "\n",
      "100%|██████| 245/245 [00:04<00:00, 54.92it/s, Train loss=0.045, Train acc=0.687]\n",
      "100%|█████| 245/245 [00:03<00:00, 68.94it/s, Train loss=0.0434, Train acc=0.697]\n",
      "100%|█████| 245/245 [00:03<00:00, 81.16it/s, Train loss=0.0434, Train acc=0.697]\n",
      "100%|█████| 245/245 [00:03<00:00, 67.42it/s, Train loss=0.0434, Train acc=0.697]\n",
      "100%|█████| 245/245 [00:02<00:00, 85.43it/s, Train loss=0.0433, Train acc=0.697]\n",
      "100%|█████| 245/245 [00:03<00:00, 78.46it/s, Train loss=0.0433, Train acc=0.697]\n",
      "100%|█████| 245/245 [00:03<00:00, 81.24it/s, Train loss=0.0433, Train acc=0.697]\n",
      "100%|█████| 245/245 [00:02<00:00, 85.17it/s, Train loss=0.0433, Train acc=0.697]\n",
      "100%|█████| 245/245 [00:02<00:00, 83.28it/s, Train loss=0.0433, Train acc=0.697]\n",
      "100%|█████| 245/245 [00:03<00:00, 75.62it/s, Train loss=0.0433, Train acc=0.697]\n",
      "100%|█████| 245/245 [00:03<00:00, 79.97it/s, Train loss=0.0433, Train acc=0.697]\n",
      "100%|█████| 245/245 [00:03<00:00, 78.08it/s, Train loss=0.0433, Train acc=0.697]\n",
      "100%|█████| 245/245 [00:02<00:00, 91.32it/s, Train loss=0.0433, Train acc=0.697]\n",
      "100%|█████| 245/245 [00:03<00:00, 79.10it/s, Train loss=0.0433, Train acc=0.697]\n",
      "100%|█████| 245/245 [00:03<00:00, 72.70it/s, Train loss=0.0433, Train acc=0.697]\n",
      "100%|███████| 62/62 [00:00<00:00, 151.01it/s, Valid loss=0.0439, Valid acc=0.68]"
     ]
    },
    {
     "name": "stdout",
     "output_type": "stream",
     "text": [
      "Random Searching...4/50\n"
     ]
    },
    {
     "name": "stderr",
     "output_type": "stream",
     "text": [
      "\n",
      "100%|█████| 245/245 [00:03<00:00, 73.56it/s, Train loss=0.0435, Train acc=0.697]\n",
      "100%|█████| 245/245 [00:03<00:00, 70.53it/s, Train loss=0.0434, Train acc=0.696]\n",
      "100%|█████| 245/245 [00:03<00:00, 73.24it/s, Train loss=0.0433, Train acc=0.697]\n",
      "100%|█████| 245/245 [00:03<00:00, 76.35it/s, Train loss=0.0433, Train acc=0.697]\n",
      "100%|█████| 245/245 [00:03<00:00, 66.10it/s, Train loss=0.0433, Train acc=0.697]\n",
      "100%|█████| 245/245 [00:03<00:00, 66.85it/s, Train loss=0.0433, Train acc=0.697]\n",
      "100%|█████| 245/245 [00:03<00:00, 74.81it/s, Train loss=0.0433, Train acc=0.697]\n",
      "100%|█████| 245/245 [00:03<00:00, 75.58it/s, Train loss=0.0433, Train acc=0.697]\n",
      "100%|█████| 245/245 [00:03<00:00, 70.59it/s, Train loss=0.0433, Train acc=0.697]\n",
      "100%|█████| 245/245 [00:03<00:00, 72.75it/s, Train loss=0.0433, Train acc=0.697]\n",
      "100%|█████| 245/245 [00:03<00:00, 72.97it/s, Train loss=0.0433, Train acc=0.697]\n",
      "100%|█████| 245/245 [00:03<00:00, 66.81it/s, Train loss=0.0433, Train acc=0.697]\n",
      "100%|█████| 245/245 [00:03<00:00, 61.94it/s, Train loss=0.0433, Train acc=0.697]\n",
      "100%|█████| 245/245 [00:03<00:00, 72.07it/s, Train loss=0.0433, Train acc=0.697]\n",
      "100%|█████| 245/245 [00:04<00:00, 55.84it/s, Train loss=0.0433, Train acc=0.697]\n",
      "100%|███████| 62/62 [00:00<00:00, 130.20it/s, Valid loss=0.0439, Valid acc=0.68]"
     ]
    },
    {
     "name": "stdout",
     "output_type": "stream",
     "text": [
      "Random Searching...5/50\n",
      "Random Searching...6/50\n"
     ]
    },
    {
     "name": "stderr",
     "output_type": "stream",
     "text": [
      "\n",
      "100%|█████| 245/245 [00:04<00:00, 53.48it/s, Train loss=0.0434, Train acc=0.697]\n",
      "100%|█████| 245/245 [00:03<00:00, 64.98it/s, Train loss=0.0433, Train acc=0.697]\n",
      "100%|█████| 245/245 [00:03<00:00, 64.70it/s, Train loss=0.0433, Train acc=0.697]\n",
      "100%|█████| 245/245 [00:03<00:00, 62.00it/s, Train loss=0.0433, Train acc=0.697]\n",
      "100%|█████| 245/245 [00:03<00:00, 62.45it/s, Train loss=0.0433, Train acc=0.697]\n",
      "100%|████████| 62/62 [00:00<00:00, 96.63it/s, Valid loss=0.0439, Valid acc=0.68]"
     ]
    },
    {
     "name": "stdout",
     "output_type": "stream",
     "text": [
      "Random Searching...7/50\n"
     ]
    },
    {
     "name": "stderr",
     "output_type": "stream",
     "text": [
      "\n",
      "100%|█████| 245/245 [00:03<00:00, 68.82it/s, Train loss=0.0435, Train acc=0.696]\n",
      "100%|█████| 245/245 [00:03<00:00, 76.24it/s, Train loss=0.0433, Train acc=0.697]\n",
      "100%|█████| 245/245 [00:03<00:00, 68.48it/s, Train loss=0.0433, Train acc=0.697]\n",
      "100%|█████| 245/245 [00:04<00:00, 54.72it/s, Train loss=0.0434, Train acc=0.697]\n",
      "100%|█████| 245/245 [00:03<00:00, 65.18it/s, Train loss=0.0434, Train acc=0.698]\n",
      "100%|███████| 62/62 [00:00<00:00, 126.72it/s, Valid loss=0.0439, Valid acc=0.68]"
     ]
    },
    {
     "name": "stdout",
     "output_type": "stream",
     "text": [
      "Random Searching...8/50\n"
     ]
    },
    {
     "name": "stderr",
     "output_type": "stream",
     "text": [
      "\n",
      "100%|█████| 245/245 [00:04<00:00, 50.29it/s, Train loss=0.0434, Train acc=0.698]\n",
      "100%|█████| 245/245 [00:03<00:00, 71.55it/s, Train loss=0.0433, Train acc=0.697]\n",
      "100%|█████| 245/245 [00:03<00:00, 68.45it/s, Train loss=0.0433, Train acc=0.697]\n",
      "100%|█████| 245/245 [00:03<00:00, 69.66it/s, Train loss=0.0433, Train acc=0.697]\n",
      "100%|█████| 245/245 [00:03<00:00, 73.12it/s, Train loss=0.0433, Train acc=0.697]\n",
      "100%|███████| 62/62 [00:00<00:00, 127.47it/s, Valid loss=0.0439, Valid acc=0.68]"
     ]
    },
    {
     "name": "stdout",
     "output_type": "stream",
     "text": [
      "Random Searching...9/50\n"
     ]
    },
    {
     "name": "stderr",
     "output_type": "stream",
     "text": [
      "\n",
      "100%|█████| 245/245 [00:03<00:00, 79.17it/s, Train loss=0.0434, Train acc=0.697]\n",
      "100%|█████| 245/245 [00:03<00:00, 79.90it/s, Train loss=0.0433, Train acc=0.697]\n",
      "100%|█████| 245/245 [00:02<00:00, 85.93it/s, Train loss=0.0433, Train acc=0.699]\n",
      "100%|█████| 245/245 [00:02<00:00, 88.36it/s, Train loss=0.0432, Train acc=0.702]\n",
      "100%|██████| 245/245 [00:02<00:00, 81.99it/s, Train loss=0.043, Train acc=0.721]\n",
      "100%|██████| 62/62 [00:00<00:00, 158.63it/s, Valid loss=0.0432, Valid acc=0.713]"
     ]
    },
    {
     "name": "stdout",
     "output_type": "stream",
     "text": [
      "Random Searching...10/50\n"
     ]
    },
    {
     "name": "stderr",
     "output_type": "stream",
     "text": [
      "\n",
      "100%|█████| 245/245 [00:02<00:00, 93.42it/s, Train loss=0.0435, Train acc=0.697]\n",
      "100%|█████| 245/245 [00:02<00:00, 92.12it/s, Train loss=0.0434, Train acc=0.697]\n",
      "100%|█████| 245/245 [00:03<00:00, 64.31it/s, Train loss=0.0434, Train acc=0.697]\n",
      "100%|█████| 245/245 [00:03<00:00, 75.68it/s, Train loss=0.0433, Train acc=0.698]\n",
      "100%|█████| 245/245 [00:03<00:00, 64.06it/s, Train loss=0.0426, Train acc=0.731]\n",
      "100%|██████| 62/62 [00:00<00:00, 100.62it/s, Valid loss=0.0426, Valid acc=0.728]"
     ]
    },
    {
     "name": "stdout",
     "output_type": "stream",
     "text": [
      "Random Searching...11/50\n"
     ]
    },
    {
     "name": "stderr",
     "output_type": "stream",
     "text": [
      "\n",
      "100%|████| 245/245 [00:02<00:00, 118.86it/s, Train loss=0.0434, Train acc=0.696]\n",
      "100%|████| 245/245 [00:01<00:00, 125.58it/s, Train loss=0.0435, Train acc=0.692]\n",
      "100%|████| 245/245 [00:02<00:00, 110.82it/s, Train loss=0.0433, Train acc=0.697]\n",
      "100%|████| 245/245 [00:01<00:00, 136.32it/s, Train loss=0.0433, Train acc=0.697]\n",
      "100%|████| 245/245 [00:01<00:00, 140.85it/s, Train loss=0.0433, Train acc=0.697]\n",
      "100%|███████| 62/62 [00:00<00:00, 334.01it/s, Valid loss=0.0439, Valid acc=0.68]"
     ]
    },
    {
     "name": "stdout",
     "output_type": "stream",
     "text": [
      "Random Searching...12/50\n"
     ]
    },
    {
     "name": "stderr",
     "output_type": "stream",
     "text": [
      "\n",
      "100%|█████| 245/245 [00:02<00:00, 87.41it/s, Train loss=0.0434, Train acc=0.696]\n",
      "100%|█████| 245/245 [00:03<00:00, 80.45it/s, Train loss=0.0433, Train acc=0.698]\n",
      "100%|█████| 245/245 [00:03<00:00, 74.59it/s, Train loss=0.0433, Train acc=0.698]\n",
      "100%|█████| 245/245 [00:03<00:00, 78.86it/s, Train loss=0.0433, Train acc=0.701]\n",
      "100%|███████| 245/245 [00:03<00:00, 75.82it/s, Train loss=0.0433, Train acc=0.7]\n",
      "100%|███████| 62/62 [00:00<00:00, 112.87it/s, Valid loss=0.0438, Valid acc=0.68]"
     ]
    },
    {
     "name": "stdout",
     "output_type": "stream",
     "text": [
      "Random Searching...13/50\n"
     ]
    },
    {
     "name": "stderr",
     "output_type": "stream",
     "text": [
      "\n",
      "100%|█████| 245/245 [00:02<00:00, 86.60it/s, Train loss=0.0437, Train acc=0.695]\n",
      "100%|█████| 245/245 [00:02<00:00, 84.33it/s, Train loss=0.0433, Train acc=0.697]\n",
      "100%|█████| 245/245 [00:03<00:00, 77.36it/s, Train loss=0.0433, Train acc=0.697]\n",
      "100%|█████| 245/245 [00:03<00:00, 78.94it/s, Train loss=0.0433, Train acc=0.697]\n",
      "100%|█████| 245/245 [00:03<00:00, 81.18it/s, Train loss=0.0433, Train acc=0.697]\n",
      "100%|███████| 62/62 [00:00<00:00, 111.21it/s, Valid loss=0.0439, Valid acc=0.68]"
     ]
    },
    {
     "name": "stdout",
     "output_type": "stream",
     "text": [
      "Random Searching...14/50\n",
      "Random Searching...15/50\n",
      "Random Searching...16/50\n",
      "Random Searching...17/50\n"
     ]
    },
    {
     "name": "stderr",
     "output_type": "stream",
     "text": [
      "\n",
      "100%|█████| 245/245 [00:03<00:00, 77.08it/s, Train loss=0.0437, Train acc=0.695]\n",
      "100%|█████| 245/245 [00:03<00:00, 78.93it/s, Train loss=0.0434, Train acc=0.697]\n",
      "100%|█████| 245/245 [00:02<00:00, 86.69it/s, Train loss=0.0434, Train acc=0.697]\n",
      "100%|█████| 245/245 [00:03<00:00, 72.92it/s, Train loss=0.0434, Train acc=0.697]\n",
      "100%|█████| 245/245 [00:02<00:00, 82.90it/s, Train loss=0.0433, Train acc=0.697]\n",
      "100%|███████| 62/62 [00:00<00:00, 137.66it/s, Valid loss=0.0438, Valid acc=0.68]"
     ]
    },
    {
     "name": "stdout",
     "output_type": "stream",
     "text": [
      "Random Searching...18/50\n",
      "Random Searching...19/50\n",
      "Random Searching...20/50\n"
     ]
    },
    {
     "name": "stderr",
     "output_type": "stream",
     "text": [
      "\n"
     ]
    },
    {
     "name": "stdout",
     "output_type": "stream",
     "text": [
      "Random Searching...21/50\n"
     ]
    },
    {
     "name": "stderr",
     "output_type": "stream",
     "text": [
      "100%|█████| 245/245 [00:03<00:00, 62.44it/s, Train loss=0.0435, Train acc=0.696]\n",
      "100%|█████| 245/245 [00:04<00:00, 60.06it/s, Train loss=0.0433, Train acc=0.697]\n",
      "100%|█████| 245/245 [00:04<00:00, 60.56it/s, Train loss=0.0433, Train acc=0.697]\n",
      "100%|██████| 245/245 [00:03<00:00, 61.67it/s, Train loss=0.043, Train acc=0.715]\n",
      "100%|█████| 245/245 [00:04<00:00, 61.22it/s, Train loss=0.0429, Train acc=0.724]\n",
      "100%|██████| 62/62 [00:00<00:00, 114.11it/s, Valid loss=0.0435, Valid acc=0.692]"
     ]
    },
    {
     "name": "stdout",
     "output_type": "stream",
     "text": [
      "Random Searching...22/50\n",
      "Random Searching...23/50\n"
     ]
    },
    {
     "name": "stderr",
     "output_type": "stream",
     "text": [
      "\n",
      "100%|█████| 245/245 [00:03<00:00, 63.99it/s, Train loss=0.0438, Train acc=0.692]\n",
      "100%|█████| 245/245 [00:03<00:00, 67.91it/s, Train loss=0.0434, Train acc=0.697]\n",
      "100%|█████| 245/245 [00:03<00:00, 69.28it/s, Train loss=0.0433, Train acc=0.697]\n",
      "100%|█████| 245/245 [00:03<00:00, 71.52it/s, Train loss=0.0433, Train acc=0.697]\n",
      "100%|█████| 245/245 [00:03<00:00, 72.23it/s, Train loss=0.0432, Train acc=0.705]\n",
      "100%|███████| 62/62 [00:00<00:00, 86.54it/s, Valid loss=0.0434, Valid acc=0.701]"
     ]
    },
    {
     "name": "stdout",
     "output_type": "stream",
     "text": [
      "Random Searching...24/50\n",
      "Random Searching...25/50\n",
      "Random Searching...26/50\n",
      "Random Searching...27/50\n"
     ]
    },
    {
     "name": "stderr",
     "output_type": "stream",
     "text": [
      "\n",
      "100%|█████| 245/245 [00:03<00:00, 72.83it/s, Train loss=0.0451, Train acc=0.689]\n",
      "100%|█████| 245/245 [00:02<00:00, 84.73it/s, Train loss=0.0435, Train acc=0.697]\n",
      "100%|█████| 245/245 [00:02<00:00, 86.87it/s, Train loss=0.0434, Train acc=0.697]\n",
      "100%|█████| 245/245 [00:03<00:00, 79.57it/s, Train loss=0.0434, Train acc=0.697]\n",
      "100%|█████| 245/245 [00:02<00:00, 90.47it/s, Train loss=0.0434, Train acc=0.697]\n",
      "100%|███████| 62/62 [00:00<00:00, 130.69it/s, Valid loss=0.0439, Valid acc=0.68]"
     ]
    },
    {
     "name": "stdout",
     "output_type": "stream",
     "text": [
      "Random Searching...28/50\n",
      "Random Searching...29/50\n"
     ]
    },
    {
     "name": "stderr",
     "output_type": "stream",
     "text": [
      "\n",
      "100%|█████| 245/245 [00:01<00:00, 230.44it/s, Train loss=0.048, Train acc=0.671]\n",
      "100%|████| 245/245 [00:01<00:00, 239.93it/s, Train loss=0.0441, Train acc=0.697]\n",
      "100%|████| 245/245 [00:01<00:00, 239.67it/s, Train loss=0.0436, Train acc=0.697]\n",
      "100%|████| 245/245 [00:01<00:00, 221.96it/s, Train loss=0.0435, Train acc=0.697]\n",
      "100%|████| 245/245 [00:00<00:00, 246.04it/s, Train loss=0.0434, Train acc=0.697]\n",
      "100%|████| 245/245 [00:01<00:00, 243.97it/s, Train loss=0.0434, Train acc=0.697]\n",
      "100%|████| 245/245 [00:00<00:00, 295.02it/s, Train loss=0.0434, Train acc=0.697]\n",
      "100%|████| 245/245 [00:00<00:00, 296.20it/s, Train loss=0.0434, Train acc=0.697]\n",
      "100%|████| 245/245 [00:00<00:00, 290.06it/s, Train loss=0.0434, Train acc=0.697]\n",
      "100%|████| 245/245 [00:01<00:00, 236.12it/s, Train loss=0.0433, Train acc=0.697]\n",
      "100%|████| 245/245 [00:01<00:00, 212.18it/s, Train loss=0.0433, Train acc=0.697]\n",
      "100%|████| 245/245 [00:01<00:00, 215.49it/s, Train loss=0.0433, Train acc=0.697]\n",
      "100%|████| 245/245 [00:01<00:00, 223.06it/s, Train loss=0.0433, Train acc=0.697]\n",
      "100%|████| 245/245 [00:01<00:00, 217.78it/s, Train loss=0.0433, Train acc=0.697]\n",
      "100%|████| 245/245 [00:01<00:00, 216.10it/s, Train loss=0.0433, Train acc=0.697]\n",
      "100%|███████| 62/62 [00:00<00:00, 283.34it/s, Valid loss=0.0439, Valid acc=0.68]"
     ]
    },
    {
     "name": "stdout",
     "output_type": "stream",
     "text": [
      "Random Searching...30/50\n"
     ]
    },
    {
     "name": "stderr",
     "output_type": "stream",
     "text": [
      "\n",
      "100%|█████| 245/245 [00:03<00:00, 73.31it/s, Train loss=0.0436, Train acc=0.697]\n",
      "100%|█████| 245/245 [00:03<00:00, 80.84it/s, Train loss=0.0433, Train acc=0.697]\n",
      "100%|█████| 245/245 [00:03<00:00, 80.75it/s, Train loss=0.0433, Train acc=0.697]\n",
      "100%|█████| 245/245 [00:03<00:00, 72.66it/s, Train loss=0.0433, Train acc=0.697]\n",
      "100%|█████| 245/245 [00:03<00:00, 76.06it/s, Train loss=0.0433, Train acc=0.697]\n",
      "100%|█████| 245/245 [00:02<00:00, 86.06it/s, Train loss=0.0433, Train acc=0.697]\n",
      "100%|█████| 245/245 [00:03<00:00, 76.50it/s, Train loss=0.0433, Train acc=0.697]\n",
      "100%|█████| 245/245 [00:03<00:00, 79.72it/s, Train loss=0.0433, Train acc=0.697]\n",
      "100%|█████| 245/245 [00:03<00:00, 78.96it/s, Train loss=0.0433, Train acc=0.697]\n",
      "100%|█████| 245/245 [00:02<00:00, 82.91it/s, Train loss=0.0433, Train acc=0.697]\n",
      "100%|█████| 245/245 [00:03<00:00, 80.82it/s, Train loss=0.0433, Train acc=0.697]\n",
      "100%|███████| 245/245 [00:02<00:00, 82.97it/s, Train loss=0.0433, Train acc=0.7]\n",
      "100%|██████| 245/245 [00:02<00:00, 84.39it/s, Train loss=0.042, Train acc=0.759]\n",
      "100%|█████| 245/245 [00:02<00:00, 86.10it/s, Train loss=0.0413, Train acc=0.792]\n",
      "100%|█████| 245/245 [00:03<00:00, 71.11it/s, Train loss=0.0407, Train acc=0.817]\n",
      "100%|████████| 62/62 [00:00<00:00, 105.31it/s, Valid loss=0.0411, Valid acc=0.8]\n"
     ]
    },
    {
     "name": "stdout",
     "output_type": "stream",
     "text": [
      "Random Searching...31/50\n",
      "Random Searching...32/50\n"
     ]
    },
    {
     "name": "stderr",
     "output_type": "stream",
     "text": [
      "100%|█████| 245/245 [00:03<00:00, 71.63it/s, Train loss=0.0434, Train acc=0.697]\n",
      "100%|█████| 245/245 [00:03<00:00, 72.23it/s, Train loss=0.0433, Train acc=0.697]\n",
      "100%|█████| 245/245 [00:03<00:00, 67.59it/s, Train loss=0.0433, Train acc=0.699]\n",
      "100%|█████| 245/245 [00:03<00:00, 68.48it/s, Train loss=0.0433, Train acc=0.697]\n",
      "100%|█████| 245/245 [00:03<00:00, 69.57it/s, Train loss=0.0433, Train acc=0.697]\n",
      "100%|███████| 62/62 [00:00<00:00, 134.61it/s, Valid loss=0.0439, Valid acc=0.68]"
     ]
    },
    {
     "name": "stdout",
     "output_type": "stream",
     "text": [
      "Random Searching...33/50\n",
      "Random Searching...34/50\n",
      "Random Searching...35/50\n"
     ]
    },
    {
     "name": "stderr",
     "output_type": "stream",
     "text": [
      "\n",
      "100%|█████| 245/245 [00:03<00:00, 68.37it/s, Train loss=0.0444, Train acc=0.678]\n",
      "100%|█████| 245/245 [00:03<00:00, 73.86it/s, Train loss=0.0433, Train acc=0.697]\n",
      "100%|█████| 245/245 [00:03<00:00, 69.53it/s, Train loss=0.0433, Train acc=0.697]\n",
      "100%|█████| 245/245 [00:04<00:00, 57.39it/s, Train loss=0.0433, Train acc=0.697]\n",
      "100%|█████| 245/245 [00:03<00:00, 73.99it/s, Train loss=0.0433, Train acc=0.697]\n",
      "100%|███████| 62/62 [00:00<00:00, 122.25it/s, Valid loss=0.0439, Valid acc=0.68]"
     ]
    },
    {
     "name": "stdout",
     "output_type": "stream",
     "text": [
      "Random Searching...36/50\n"
     ]
    },
    {
     "name": "stderr",
     "output_type": "stream",
     "text": [
      "\n",
      "100%|████| 245/245 [00:01<00:00, 235.31it/s, Train loss=0.0498, Train acc=0.543]\n",
      "100%|████| 245/245 [00:01<00:00, 239.85it/s, Train loss=0.0456, Train acc=0.696]\n",
      "100%|████| 245/245 [00:01<00:00, 233.85it/s, Train loss=0.0441, Train acc=0.697]\n",
      "100%|████| 245/245 [00:01<00:00, 242.00it/s, Train loss=0.0438, Train acc=0.697]\n",
      "100%|████| 245/245 [00:01<00:00, 230.05it/s, Train loss=0.0436, Train acc=0.697]\n",
      "100%|███████| 62/62 [00:00<00:00, 420.63it/s, Valid loss=0.0439, Valid acc=0.68]"
     ]
    },
    {
     "name": "stdout",
     "output_type": "stream",
     "text": [
      "Random Searching...37/50\n"
     ]
    },
    {
     "name": "stderr",
     "output_type": "stream",
     "text": [
      "\n",
      "100%|████| 245/245 [00:01<00:00, 229.19it/s, Train loss=0.0443, Train acc=0.695]\n",
      "100%|████| 245/245 [00:01<00:00, 215.42it/s, Train loss=0.0434, Train acc=0.697]\n",
      "100%|████| 245/245 [00:01<00:00, 232.13it/s, Train loss=0.0434, Train acc=0.697]\n",
      "100%|████| 245/245 [00:01<00:00, 241.84it/s, Train loss=0.0433, Train acc=0.697]\n",
      "100%|████| 245/245 [00:01<00:00, 237.70it/s, Train loss=0.0433, Train acc=0.697]\n",
      "100%|████| 245/245 [00:01<00:00, 240.19it/s, Train loss=0.0433, Train acc=0.697]\n",
      "100%|████| 245/245 [00:01<00:00, 232.18it/s, Train loss=0.0433, Train acc=0.697]\n",
      "100%|████| 245/245 [00:01<00:00, 236.82it/s, Train loss=0.0433, Train acc=0.699]\n",
      "100%|████| 245/245 [00:01<00:00, 241.98it/s, Train loss=0.0428, Train acc=0.727]\n",
      "100%|████| 245/245 [00:01<00:00, 190.99it/s, Train loss=0.0421, Train acc=0.762]\n",
      "100%|█████| 245/245 [00:01<00:00, 224.90it/s, Train loss=0.0419, Train acc=0.77]\n",
      "100%|████| 245/245 [00:01<00:00, 239.72it/s, Train loss=0.0417, Train acc=0.777]\n",
      "100%|████| 245/245 [00:01<00:00, 232.45it/s, Train loss=0.0416, Train acc=0.782]\n",
      "100%|████| 245/245 [00:01<00:00, 240.70it/s, Train loss=0.0415, Train acc=0.788]\n",
      "100%|████| 245/245 [00:01<00:00, 236.21it/s, Train loss=0.0415, Train acc=0.787]\n",
      "100%|██████| 62/62 [00:00<00:00, 351.39it/s, Valid loss=0.0422, Valid acc=0.756]"
     ]
    },
    {
     "name": "stdout",
     "output_type": "stream",
     "text": [
      "Random Searching...38/50\n"
     ]
    },
    {
     "name": "stderr",
     "output_type": "stream",
     "text": [
      "\n",
      "100%|█████| 245/245 [00:03<00:00, 80.00it/s, Train loss=0.0435, Train acc=0.697]\n",
      "100%|█████| 245/245 [00:02<00:00, 83.27it/s, Train loss=0.0434, Train acc=0.697]\n",
      "100%|█████| 245/245 [00:02<00:00, 88.95it/s, Train loss=0.0434, Train acc=0.697]\n",
      "100%|█████| 245/245 [00:02<00:00, 86.05it/s, Train loss=0.0434, Train acc=0.697]\n",
      "100%|█████| 245/245 [00:03<00:00, 80.25it/s, Train loss=0.0434, Train acc=0.697]\n",
      "100%|█████| 245/245 [00:02<00:00, 82.56it/s, Train loss=0.0434, Train acc=0.697]\n",
      "100%|███████| 245/245 [00:02<00:00, 87.25it/s, Train loss=0.0433, Train acc=0.7]\n",
      "100%|█████| 245/245 [00:02<00:00, 86.34it/s, Train loss=0.0434, Train acc=0.697]\n",
      "100%|█████| 245/245 [00:03<00:00, 80.96it/s, Train loss=0.0432, Train acc=0.704]\n",
      "100%|█████| 245/245 [00:02<00:00, 86.88it/s, Train loss=0.0431, Train acc=0.712]\n",
      "100%|█████| 245/245 [00:02<00:00, 83.71it/s, Train loss=0.0429, Train acc=0.723]\n",
      "100%|█████| 245/245 [00:03<00:00, 79.94it/s, Train loss=0.0428, Train acc=0.729]\n",
      "100%|█████| 245/245 [00:03<00:00, 77.04it/s, Train loss=0.0428, Train acc=0.727]\n",
      "100%|█████| 245/245 [00:03<00:00, 80.60it/s, Train loss=0.0426, Train acc=0.736]\n",
      "100%|█████| 245/245 [00:03<00:00, 69.03it/s, Train loss=0.0426, Train acc=0.737]\n",
      "100%|██████| 62/62 [00:00<00:00, 116.19it/s, Valid loss=0.0431, Valid acc=0.705]"
     ]
    },
    {
     "name": "stdout",
     "output_type": "stream",
     "text": [
      "Random Searching...39/50\n",
      "Random Searching...40/50\n",
      "Random Searching...41/50\n",
      "Random Searching...42/50\n",
      "Random Searching...43/50\n",
      "Random Searching...44/50\n",
      "Random Searching...45/50\n"
     ]
    },
    {
     "name": "stderr",
     "output_type": "stream",
     "text": [
      "\n",
      "100%|████| 245/245 [00:01<00:00, 239.97it/s, Train loss=0.0441, Train acc=0.697]\n",
      "100%|████| 245/245 [00:01<00:00, 221.56it/s, Train loss=0.0434, Train acc=0.697]\n",
      "100%|████| 245/245 [00:01<00:00, 235.99it/s, Train loss=0.0433, Train acc=0.697]\n",
      "100%|████| 245/245 [00:01<00:00, 237.84it/s, Train loss=0.0433, Train acc=0.697]\n",
      "100%|████| 245/245 [00:01<00:00, 242.00it/s, Train loss=0.0433, Train acc=0.697]\n",
      "100%|████| 245/245 [00:01<00:00, 231.73it/s, Train loss=0.0433, Train acc=0.697]\n",
      "100%|████| 245/245 [00:01<00:00, 241.26it/s, Train loss=0.0433, Train acc=0.697]\n",
      "100%|████| 245/245 [00:01<00:00, 239.00it/s, Train loss=0.0433, Train acc=0.697]\n",
      "100%|████| 245/245 [00:01<00:00, 229.32it/s, Train loss=0.0433, Train acc=0.697]\n",
      "100%|████| 245/245 [00:01<00:00, 239.17it/s, Train loss=0.0433, Train acc=0.697]\n",
      "100%|████| 245/245 [00:00<00:00, 248.71it/s, Train loss=0.0433, Train acc=0.697]\n",
      "100%|████| 245/245 [00:00<00:00, 248.07it/s, Train loss=0.0433, Train acc=0.697]\n",
      "100%|████| 245/245 [00:00<00:00, 245.96it/s, Train loss=0.0433, Train acc=0.697]\n",
      "100%|████| 245/245 [00:01<00:00, 234.51it/s, Train loss=0.0433, Train acc=0.697]\n",
      "100%|████| 245/245 [00:01<00:00, 213.19it/s, Train loss=0.0433, Train acc=0.697]\n",
      "100%|███████| 62/62 [00:00<00:00, 314.11it/s, Valid loss=0.0439, Valid acc=0.68]"
     ]
    },
    {
     "name": "stdout",
     "output_type": "stream",
     "text": [
      "Random Searching...46/50\n"
     ]
    },
    {
     "name": "stderr",
     "output_type": "stream",
     "text": [
      "\n"
     ]
    },
    {
     "name": "stdout",
     "output_type": "stream",
     "text": [
      "Random Searching...47/50\n",
      "Random Searching...48/50\n",
      "Random Searching...49/50\n"
     ]
    },
    {
     "name": "stderr",
     "output_type": "stream",
     "text": [
      "100%|████| 245/245 [00:01<00:00, 135.30it/s, Train loss=0.0434, Train acc=0.697]\n",
      "100%|████| 245/245 [00:01<00:00, 143.21it/s, Train loss=0.0433, Train acc=0.697]\n",
      "100%|████| 245/245 [00:02<00:00, 111.36it/s, Train loss=0.0433, Train acc=0.697]\n",
      "100%|████| 245/245 [00:01<00:00, 131.55it/s, Train loss=0.0433, Train acc=0.697]\n",
      "100%|████| 245/245 [00:01<00:00, 134.35it/s, Train loss=0.0433, Train acc=0.697]\n",
      "100%|███████| 62/62 [00:00<00:00, 371.59it/s, Valid loss=0.0439, Valid acc=0.68]"
     ]
    },
    {
     "name": "stdout",
     "output_type": "stream",
     "text": [
      "Random Searching...50/50\n"
     ]
    },
    {
     "name": "stderr",
     "output_type": "stream",
     "text": [
      "\n",
      "100%|█████| 245/245 [00:03<00:00, 73.84it/s, Train loss=0.0456, Train acc=0.676]\n",
      "100%|█████| 245/245 [00:02<00:00, 88.96it/s, Train loss=0.0436, Train acc=0.697]\n",
      "100%|█████| 245/245 [00:02<00:00, 93.17it/s, Train loss=0.0434, Train acc=0.697]\n",
      "100%|█████| 245/245 [00:02<00:00, 82.34it/s, Train loss=0.0434, Train acc=0.697]\n",
      "100%|█████| 245/245 [00:02<00:00, 88.60it/s, Train loss=0.0434, Train acc=0.697]\n",
      "100%|█████| 245/245 [00:02<00:00, 88.62it/s, Train loss=0.0434, Train acc=0.697]\n",
      "100%|█████| 245/245 [00:02<00:00, 92.17it/s, Train loss=0.0434, Train acc=0.697]\n",
      "100%|█████| 245/245 [00:02<00:00, 82.50it/s, Train loss=0.0434, Train acc=0.697]\n",
      "100%|█████| 245/245 [00:02<00:00, 92.90it/s, Train loss=0.0434, Train acc=0.697]\n",
      "100%|█████| 245/245 [00:02<00:00, 87.97it/s, Train loss=0.0434, Train acc=0.697]\n",
      "100%|█████| 245/245 [00:02<00:00, 82.59it/s, Train loss=0.0434, Train acc=0.697]\n",
      "100%|█████| 245/245 [00:02<00:00, 88.26it/s, Train loss=0.0434, Train acc=0.697]\n",
      "100%|█████| 245/245 [00:02<00:00, 89.34it/s, Train loss=0.0434, Train acc=0.697]\n",
      "100%|█████| 245/245 [00:02<00:00, 86.77it/s, Train loss=0.0434, Train acc=0.697]\n",
      "100%|█████| 245/245 [00:02<00:00, 92.51it/s, Train loss=0.0434, Train acc=0.697]\n",
      "100%|████████| 62/62 [00:00<00:00, 90.24it/s, Valid loss=0.0439, Valid acc=0.68]\n"
     ]
    }
   ],
   "source": [
    "random_time_start = time.time()\n",
    "best_random_params = random_search(50)\n",
    "random_time_end = time.time()\n",
    "del random_param_grid\n",
    "random_training_time = (random_time_end - random_time_start)/60"
   ]
  },
  {
   "cell_type": "code",
   "execution_count": 6,
   "id": "formal-smooth",
   "metadata": {
    "colab": {
     "base_uri": "https://localhost:8080/"
    },
    "executionInfo": {
     "elapsed": 5,
     "status": "ok",
     "timestamp": 1647813949250,
     "user": {
      "displayName": "Victor Lam",
      "photoUrl": "https://lh3.googleusercontent.com/a/default-user=s64",
      "userId": "14748696853212044832"
     },
     "user_tz": -480
    },
    "id": "formal-smooth",
    "outputId": "d767b6b8-753c-4b59-a9dc-4b978cd3c1be"
   },
   "outputs": [
    {
     "data": {
      "text/plain": [
       "({'hidden_size': 16,\n",
       "  'dropout_rate': 0.1,\n",
       "  'learning_rate': 0.001,\n",
       "  'l2_reg': 0.0001,\n",
       "  'num_filters': 16,\n",
       "  'pool_size': 16,\n",
       "  'num_mlp_layers': 1,\n",
       "  'num_cnn_layers': 1,\n",
       "  'kernel_index': 31,\n",
       "  'num_of_epochs': 20},\n",
       " 20.481936212380727)"
      ]
     },
     "execution_count": 6,
     "metadata": {},
     "output_type": "execute_result"
    }
   ],
   "source": [
    "# best_random_params = {'hidden_size': 16,\n",
    "#   'dropout_rate': 0.1,\n",
    "#   'learning_rate': 0.001,\n",
    "#   'l2_reg': 0.0001,\n",
    "#   'num_filters': 16,\n",
    "#   'pool_size': 16,\n",
    "#   'num_mlp_layers': 1,\n",
    "#   'num_cnn_layers': 1,\n",
    "#   'kernel_index': 31,\n",
    "#   'num_of_epochs': 20}\n",
    "# random_training_time = 20.481936212380727\n",
    "best_random_params, random_training_time"
   ]
  },
  {
   "cell_type": "code",
   "execution_count": 5,
   "id": "royal-robert",
   "metadata": {
    "colab": {
     "base_uri": "https://localhost:8080/"
    },
    "executionInfo": {
     "elapsed": 482,
     "status": "ok",
     "timestamp": 1647813949729,
     "user": {
      "displayName": "Victor Lam",
      "photoUrl": "https://lh3.googleusercontent.com/a/default-user=s64",
      "userId": "14748696853212044832"
     },
     "user_tz": -480
    },
    "id": "royal-robert",
    "outputId": "d0316dd4-8f2c-4cf0-a103-f3c8619dde49"
   },
   "outputs": [
    {
     "ename": "NameError",
     "evalue": "name 'y_true' is not defined",
     "output_type": "error",
     "traceback": [
      "\u001b[0;31m---------------------------------------------------------------------------\u001b[0m",
      "\u001b[0;31mNameError\u001b[0m                                 Traceback (most recent call last)",
      "Cell \u001b[0;32mIn [5], line 5\u001b[0m\n\u001b[1;32m      1\u001b[0m best_random_model \u001b[38;5;241m=\u001b[39m load_model(\u001b[38;5;124mf\u001b[39m\u001b[38;5;124m'\u001b[39m\u001b[38;5;124mbest_cnn_model_random\u001b[39m\u001b[38;5;124m'\u001b[39m)\n\u001b[1;32m      2\u001b[0m \u001b[38;5;66;03m# y_true, y_random_pred = predict(best_random_model, test_loader)\u001b[39;00m\n\u001b[1;32m      3\u001b[0m \n\u001b[1;32m      4\u001b[0m \u001b[38;5;66;03m# accuracy\u001b[39;00m\n\u001b[0;32m----> 5\u001b[0m best_random_acc \u001b[38;5;241m=\u001b[39m accuracy_score(\u001b[43my_true\u001b[49m, y_random_pred)\n\u001b[1;32m      6\u001b[0m best_random_acc, best_random_params\n",
      "\u001b[0;31mNameError\u001b[0m: name 'y_true' is not defined"
     ]
    }
   ],
   "source": [
    "best_random_model = load_model(f'best_cnn_model_random')\n",
    "y_true, y_random_pred = predict(best_random_model, test_loader)\n",
    "\n",
    "# accuracy\n",
    "best_random_acc = accuracy_score(y_true, y_random_pred)\n",
    "best_random_acc, best_random_params"
   ]
  },
  {
   "cell_type": "code",
   "execution_count": 9,
   "id": "postal-viking",
   "metadata": {
    "colab": {
     "base_uri": "https://localhost:8080/"
    },
    "executionInfo": {
     "elapsed": 603,
     "status": "ok",
     "timestamp": 1647813958456,
     "user": {
      "displayName": "Victor Lam",
      "photoUrl": "https://lh3.googleusercontent.com/a/default-user=s64",
      "userId": "14748696853212044832"
     },
     "user_tz": -480
    },
    "id": "postal-viking",
    "outputId": "c84b0441-4b02-45db-94fc-fd4b0b9c8227",
    "scrolled": true
   },
   "outputs": [
    {
     "name": "stdout",
     "output_type": "stream",
     "text": [
      "Classification Report:\n",
      "              precision    recall  f1-score   support\n",
      "\n",
      "           0       0.79      0.99      0.88       666\n",
      "           1       0.96      0.45      0.61       314\n",
      "\n",
      "    accuracy                           0.82       980\n",
      "   macro avg       0.88      0.72      0.75       980\n",
      "weighted avg       0.85      0.82      0.80       980\n",
      "\n"
     ]
    }
   ],
   "source": [
    "print_classification_report(y_random_pred, y_true, [\"0\", \"1\"], title='Classification Report:')"
   ]
  },
  {
   "cell_type": "markdown",
   "id": "analyzed-nepal",
   "metadata": {
    "id": "analyzed-nepal"
   },
   "source": [
    "## 3.2 Bayesian Optimization"
   ]
  },
  {
   "cell_type": "code",
   "execution_count": 29,
   "id": "thorough-alarm",
   "metadata": {
    "colab": {
     "base_uri": "https://localhost:8080/"
    },
    "executionInfo": {
     "elapsed": 3434816,
     "status": "ok",
     "timestamp": 1647813925207,
     "user": {
      "displayName": "Victor Lam",
      "photoUrl": "https://lh3.googleusercontent.com/a/default-user=s64",
      "userId": "14748696853212044832"
     },
     "user_tz": -480
    },
    "id": "thorough-alarm",
    "outputId": "148e8229-c506-4e01-9810-e506276e050b"
   },
   "outputs": [
    {
     "name": "stdout",
     "output_type": "stream",
     "text": [
      "|   iter    |  target   | dropou... | hidden... | kernel... |  l2_reg   | learni... | num_cn... | num_fi... | num_ml... | num_of... | pool_size |\n",
      "-------------------------------------------------------------------------------------------------------------------------------------------------\n",
      "| \u001b[0m1        \u001b[0m | \u001b[0m0.0      \u001b[0m | \u001b[0m0.2467   \u001b[0m | \u001b[0m43.9     \u001b[0m | \u001b[0m10.51    \u001b[0m | \u001b[0m0.0007435\u001b[0m | \u001b[0m0.006052 \u001b[0m | \u001b[0m2.264    \u001b[0m | \u001b[0m14.54    \u001b[0m | \u001b[0m1.489    \u001b[0m | \u001b[0m6.08     \u001b[0m | \u001b[0m13.6     \u001b[0m |\n",
      "| \u001b[0m2        \u001b[0m | \u001b[0m0.0      \u001b[0m | \u001b[0m0.2994   \u001b[0m | \u001b[0m44.98    \u001b[0m | \u001b[0m12.26    \u001b[0m | \u001b[0m0.0005871\u001b[0m | \u001b[0m0.003809 \u001b[0m | \u001b[0m4.599    \u001b[0m | \u001b[0m7.058    \u001b[0m | \u001b[0m3.243    \u001b[0m | \u001b[0m7.27     \u001b[0m | \u001b[0m3.884    \u001b[0m |\n",
      "| \u001b[0m3        \u001b[0m | \u001b[0m0.0      \u001b[0m | \u001b[0m0.4555   \u001b[0m | \u001b[0m39.92    \u001b[0m | \u001b[0m23.26    \u001b[0m | \u001b[0m0.0006037\u001b[0m | \u001b[0m0.007255 \u001b[0m | \u001b[0m3.919    \u001b[0m | \u001b[0m14.32    \u001b[0m | \u001b[0m4.514    \u001b[0m | \u001b[0m6.013    \u001b[0m | \u001b[0m10.93    \u001b[0m |\n",
      "| \u001b[95m4        \u001b[0m | \u001b[95m0.7316   \u001b[0m | \u001b[95m0.1047   \u001b[0m | \u001b[95m82.4     \u001b[0m | \u001b[95m7.656    \u001b[0m | \u001b[95m0.0004773\u001b[0m | \u001b[95m0.004355 \u001b[0m | \u001b[95m1.406    \u001b[0m | \u001b[95m13.92    \u001b[0m | \u001b[95m3.744    \u001b[0m | \u001b[95m5.136    \u001b[0m | \u001b[95m10.9     \u001b[0m |\n",
      "| \u001b[95m5        \u001b[0m | \u001b[95m0.7724   \u001b[0m | \u001b[95m0.1714   \u001b[0m | \u001b[95m99.18    \u001b[0m | \u001b[95m28.06    \u001b[0m | \u001b[95m0.0008061\u001b[0m | \u001b[95m0.007357 \u001b[0m | \u001b[95m1.867    \u001b[0m | \u001b[95m8.436    \u001b[0m | \u001b[95m2.547    \u001b[0m | \u001b[95m14.31    \u001b[0m | \u001b[95m11.64    \u001b[0m |\n",
      "| \u001b[0m6        \u001b[0m | \u001b[0m0.0      \u001b[0m | \u001b[0m0.2785   \u001b[0m | \u001b[0m109.8    \u001b[0m | \u001b[0m16.38    \u001b[0m | \u001b[0m0.000102 \u001b[0m | \u001b[0m0.001468 \u001b[0m | \u001b[0m4.705    \u001b[0m | \u001b[0m3.802    \u001b[0m | \u001b[0m1.477    \u001b[0m | \u001b[0m13.63    \u001b[0m | \u001b[0m2.063    \u001b[0m |\n",
      "| \u001b[0m7        \u001b[0m | \u001b[0m0.0      \u001b[0m | \u001b[0m0.3419   \u001b[0m | \u001b[0m84.47    \u001b[0m | \u001b[0m29.98    \u001b[0m | \u001b[0m0.0002704\u001b[0m | \u001b[0m0.007674 \u001b[0m | \u001b[0m2.533    \u001b[0m | \u001b[0m13.55    \u001b[0m | \u001b[0m2.282    \u001b[0m | \u001b[0m13.17    \u001b[0m | \u001b[0m3.294    \u001b[0m |\n",
      "| \u001b[0m8        \u001b[0m | \u001b[0m0.0      \u001b[0m | \u001b[0m0.4798   \u001b[0m | \u001b[0m70.79    \u001b[0m | \u001b[0m13.24    \u001b[0m | \u001b[0m0.0009542\u001b[0m | \u001b[0m0.009974 \u001b[0m | \u001b[0m2.192    \u001b[0m | \u001b[0m14.59    \u001b[0m | \u001b[0m2.698    \u001b[0m | \u001b[0m9.164    \u001b[0m | \u001b[0m11.7     \u001b[0m |\n",
      "| \u001b[0m9        \u001b[0m | \u001b[0m0.7337   \u001b[0m | \u001b[0m0.4206   \u001b[0m | \u001b[0m39.94    \u001b[0m | \u001b[0m18.08    \u001b[0m | \u001b[0m0.0008006\u001b[0m | \u001b[0m0.008667 \u001b[0m | \u001b[0m1.065    \u001b[0m | \u001b[0m9.93     \u001b[0m | \u001b[0m1.764    \u001b[0m | \u001b[0m7.242    \u001b[0m | \u001b[0m8.288    \u001b[0m |\n",
      "| \u001b[0m10       \u001b[0m | \u001b[0m0.0      \u001b[0m | \u001b[0m0.3991   \u001b[0m | \u001b[0m59.32    \u001b[0m | \u001b[0m6.224    \u001b[0m | \u001b[0m0.000931 \u001b[0m | \u001b[0m0.001096 \u001b[0m | \u001b[0m3.379    \u001b[0m | \u001b[0m2.993    \u001b[0m | \u001b[0m3.366    \u001b[0m | \u001b[0m7.27     \u001b[0m | \u001b[0m15.39    \u001b[0m |\n",
      "| \u001b[0m11       \u001b[0m | \u001b[0m0.0      \u001b[0m | \u001b[0m0.3028   \u001b[0m | \u001b[0m34.1     \u001b[0m | \u001b[0m28.35    \u001b[0m | \u001b[0m0.0009486\u001b[0m | \u001b[0m0.007753 \u001b[0m | \u001b[0m3.318    \u001b[0m | \u001b[0m9.653    \u001b[0m | \u001b[0m3.493    \u001b[0m | \u001b[0m5.58     \u001b[0m | \u001b[0m13.73    \u001b[0m |\n",
      "| \u001b[0m12       \u001b[0m | \u001b[0m0.0      \u001b[0m | \u001b[0m0.4632   \u001b[0m | \u001b[0m96.73    \u001b[0m | \u001b[0m8.807    \u001b[0m | \u001b[0m0.000197 \u001b[0m | \u001b[0m0.00731  \u001b[0m | \u001b[0m4.564    \u001b[0m | \u001b[0m4.725    \u001b[0m | \u001b[0m4.843    \u001b[0m | \u001b[0m7.993    \u001b[0m | \u001b[0m4.373    \u001b[0m |\n",
      "| \u001b[0m13       \u001b[0m | \u001b[0m0.7316   \u001b[0m | \u001b[0m0.2998   \u001b[0m | \u001b[0m71.26    \u001b[0m | \u001b[0m8.397    \u001b[0m | \u001b[0m0.0001257\u001b[0m | \u001b[0m0.005613 \u001b[0m | \u001b[0m1.15     \u001b[0m | \u001b[0m15.86    \u001b[0m | \u001b[0m2.504    \u001b[0m | \u001b[0m14.1     \u001b[0m | \u001b[0m14.99    \u001b[0m |\n",
      "| \u001b[0m14       \u001b[0m | \u001b[0m0.0      \u001b[0m | \u001b[0m0.1613   \u001b[0m | \u001b[0m44.51    \u001b[0m | \u001b[0m9.952    \u001b[0m | \u001b[0m0.00049  \u001b[0m | \u001b[0m0.005429 \u001b[0m | \u001b[0m3.043    \u001b[0m | \u001b[0m5.413    \u001b[0m | \u001b[0m4.547    \u001b[0m | \u001b[0m7.021    \u001b[0m | \u001b[0m11.36    \u001b[0m |\n",
      "| \u001b[0m15       \u001b[0m | \u001b[0m0.0      \u001b[0m | \u001b[0m0.4686   \u001b[0m | \u001b[0m122.7    \u001b[0m | \u001b[0m17.82    \u001b[0m | \u001b[0m0.000462 \u001b[0m | \u001b[0m0.002044 \u001b[0m | \u001b[0m3.0      \u001b[0m | \u001b[0m4.231    \u001b[0m | \u001b[0m1.413    \u001b[0m | \u001b[0m11.5     \u001b[0m | \u001b[0m15.1     \u001b[0m |\n",
      "| \u001b[0m16       \u001b[0m | \u001b[0m0.0      \u001b[0m | \u001b[0m0.2767   \u001b[0m | \u001b[0m80.3     \u001b[0m | \u001b[0m23.53    \u001b[0m | \u001b[0m0.0005419\u001b[0m | \u001b[0m0.005902 \u001b[0m | \u001b[0m3.824    \u001b[0m | \u001b[0m12.51    \u001b[0m | \u001b[0m4.261    \u001b[0m | \u001b[0m6.294    \u001b[0m | \u001b[0m7.877    \u001b[0m |\n",
      "| \u001b[0m17       \u001b[0m | \u001b[0m0.6816   \u001b[0m | \u001b[0m0.3287   \u001b[0m | \u001b[0m100.6    \u001b[0m | \u001b[0m21.37    \u001b[0m | \u001b[0m0.0001615\u001b[0m | \u001b[0m0.005691 \u001b[0m | \u001b[0m1.645    \u001b[0m | \u001b[0m3.509    \u001b[0m | \u001b[0m3.34     \u001b[0m | \u001b[0m13.19    \u001b[0m | \u001b[0m6.57     \u001b[0m |\n",
      "| \u001b[0m18       \u001b[0m | \u001b[0m0.0      \u001b[0m | \u001b[0m0.2394   \u001b[0m | \u001b[0m123.4    \u001b[0m | \u001b[0m27.85    \u001b[0m | \u001b[0m0.0006351\u001b[0m | \u001b[0m0.009539 \u001b[0m | \u001b[0m3.632    \u001b[0m | \u001b[0m7.448    \u001b[0m | \u001b[0m4.63     \u001b[0m | \u001b[0m7.835    \u001b[0m | \u001b[0m2.7      \u001b[0m |\n",
      "| \u001b[0m19       \u001b[0m | \u001b[0m0.0      \u001b[0m | \u001b[0m0.4393   \u001b[0m | \u001b[0m64.98    \u001b[0m | \u001b[0m30.63    \u001b[0m | \u001b[0m0.00088  \u001b[0m | \u001b[0m0.002954 \u001b[0m | \u001b[0m3.797    \u001b[0m | \u001b[0m8.217    \u001b[0m | \u001b[0m1.919    \u001b[0m | \u001b[0m7.144    \u001b[0m | \u001b[0m7.111    \u001b[0m |\n",
      "| \u001b[0m20       \u001b[0m | \u001b[0m0.748    \u001b[0m | \u001b[0m0.3127   \u001b[0m | \u001b[0m39.73    \u001b[0m | \u001b[0m5.153    \u001b[0m | \u001b[0m0.0007068\u001b[0m | \u001b[0m0.002494 \u001b[0m | \u001b[0m1.574    \u001b[0m | \u001b[0m7.468    \u001b[0m | \u001b[0m1.214    \u001b[0m | \u001b[0m12.52    \u001b[0m | \u001b[0m13.81    \u001b[0m |\n",
      "| \u001b[0m21       \u001b[0m | \u001b[0m0.6796   \u001b[0m | \u001b[0m0.3283   \u001b[0m | \u001b[0m63.54    \u001b[0m | \u001b[0m21.97    \u001b[0m | \u001b[0m0.0008881\u001b[0m | \u001b[0m0.007449 \u001b[0m | \u001b[0m1.262    \u001b[0m | \u001b[0m6.236    \u001b[0m | \u001b[0m4.335    \u001b[0m | \u001b[0m10.69    \u001b[0m | \u001b[0m4.772    \u001b[0m |\n",
      "| \u001b[0m22       \u001b[0m | \u001b[0m0.6847   \u001b[0m | \u001b[0m0.3504   \u001b[0m | \u001b[0m27.59    \u001b[0m | \u001b[0m30.4     \u001b[0m | \u001b[0m0.0005107\u001b[0m | \u001b[0m0.008634 \u001b[0m | \u001b[0m1.971    \u001b[0m | \u001b[0m14.03    \u001b[0m | \u001b[0m2.089    \u001b[0m | \u001b[0m6.463    \u001b[0m | \u001b[0m3.912    \u001b[0m |\n",
      "| \u001b[95m23       \u001b[0m | \u001b[95m0.7888   \u001b[0m | \u001b[95m0.1307   \u001b[0m | \u001b[95m85.3     \u001b[0m | \u001b[95m9.043    \u001b[0m | \u001b[95m0.000949 \u001b[0m | \u001b[95m0.007391 \u001b[0m | \u001b[95m1.983    \u001b[0m | \u001b[95m10.8     \u001b[0m | \u001b[95m1.546    \u001b[0m | \u001b[95m9.304    \u001b[0m | \u001b[95m3.341    \u001b[0m |\n",
      "| \u001b[0m24       \u001b[0m | \u001b[0m0.0      \u001b[0m | \u001b[0m0.1132   \u001b[0m | \u001b[0m102.9    \u001b[0m | \u001b[0m8.86     \u001b[0m | \u001b[0m0.0002722\u001b[0m | \u001b[0m0.002815 \u001b[0m | \u001b[0m2.394    \u001b[0m | \u001b[0m11.38    \u001b[0m | \u001b[0m1.321    \u001b[0m | \u001b[0m13.72    \u001b[0m | \u001b[0m5.278    \u001b[0m |\n",
      "| \u001b[0m25       \u001b[0m | \u001b[0m0.0      \u001b[0m | \u001b[0m0.255    \u001b[0m | \u001b[0m79.49    \u001b[0m | \u001b[0m10.76    \u001b[0m | \u001b[0m0.0002466\u001b[0m | \u001b[0m0.006845 \u001b[0m | \u001b[0m2.657    \u001b[0m | \u001b[0m2.547    \u001b[0m | \u001b[0m1.154    \u001b[0m | \u001b[0m9.546    \u001b[0m | \u001b[0m6.348    \u001b[0m |\n",
      "| \u001b[0m26       \u001b[0m | \u001b[0m0.7296   \u001b[0m | \u001b[0m0.1203   \u001b[0m | \u001b[0m61.65    \u001b[0m | \u001b[0m19.88    \u001b[0m | \u001b[0m0.0009946\u001b[0m | \u001b[0m0.008175 \u001b[0m | \u001b[0m1.408    \u001b[0m | \u001b[0m4.188    \u001b[0m | \u001b[0m1.042    \u001b[0m | \u001b[0m5.545    \u001b[0m | \u001b[0m14.39    \u001b[0m |\n",
      "| \u001b[0m27       \u001b[0m | \u001b[0m0.0      \u001b[0m | \u001b[0m0.3664   \u001b[0m | \u001b[0m109.4    \u001b[0m | \u001b[0m7.709    \u001b[0m | \u001b[0m0.0005277\u001b[0m | \u001b[0m0.009034 \u001b[0m | \u001b[0m4.747    \u001b[0m | \u001b[0m3.128    \u001b[0m | \u001b[0m4.105    \u001b[0m | \u001b[0m9.075    \u001b[0m | \u001b[0m9.155    \u001b[0m |\n",
      "| \u001b[0m28       \u001b[0m | \u001b[0m0.0      \u001b[0m | \u001b[0m0.237    \u001b[0m | \u001b[0m16.19    \u001b[0m | \u001b[0m18.79    \u001b[0m | \u001b[0m0.0007396\u001b[0m | \u001b[0m0.004912 \u001b[0m | \u001b[0m2.915    \u001b[0m | \u001b[0m15.52    \u001b[0m | \u001b[0m2.457    \u001b[0m | \u001b[0m14.41    \u001b[0m | \u001b[0m5.552    \u001b[0m |\n",
      "| \u001b[0m29       \u001b[0m | \u001b[0m0.0      \u001b[0m | \u001b[0m0.486    \u001b[0m | \u001b[0m20.78    \u001b[0m | \u001b[0m21.14    \u001b[0m | \u001b[0m0.0008933\u001b[0m | \u001b[0m0.006384 \u001b[0m | \u001b[0m3.797    \u001b[0m | \u001b[0m11.68    \u001b[0m | \u001b[0m1.5      \u001b[0m | \u001b[0m8.265    \u001b[0m | \u001b[0m8.773    \u001b[0m |\n",
      "| \u001b[0m30       \u001b[0m | \u001b[0m0.0      \u001b[0m | \u001b[0m0.1007   \u001b[0m | \u001b[0m110.3    \u001b[0m | \u001b[0m15.71    \u001b[0m | \u001b[0m0.0007435\u001b[0m | \u001b[0m0.009575 \u001b[0m | \u001b[0m4.197    \u001b[0m | \u001b[0m13.55    \u001b[0m | \u001b[0m3.042    \u001b[0m | \u001b[0m14.73    \u001b[0m | \u001b[0m13.08    \u001b[0m |\n",
      "| \u001b[0m31       \u001b[0m | \u001b[0m0.0      \u001b[0m | \u001b[0m0.2328   \u001b[0m | \u001b[0m120.8    \u001b[0m | \u001b[0m11.38    \u001b[0m | \u001b[0m0.0008536\u001b[0m | \u001b[0m0.009593 \u001b[0m | \u001b[0m3.243    \u001b[0m | \u001b[0m12.5     \u001b[0m | \u001b[0m3.519    \u001b[0m | \u001b[0m8.902    \u001b[0m | \u001b[0m6.762    \u001b[0m |\n",
      "| \u001b[0m32       \u001b[0m | \u001b[0m0.748    \u001b[0m | \u001b[0m0.2183   \u001b[0m | \u001b[0m44.22    \u001b[0m | \u001b[0m11.25    \u001b[0m | \u001b[0m0.0009445\u001b[0m | \u001b[0m0.007347 \u001b[0m | \u001b[0m1.937    \u001b[0m | \u001b[0m14.73    \u001b[0m | \u001b[0m4.455    \u001b[0m | \u001b[0m12.16    \u001b[0m | \u001b[0m15.9     \u001b[0m |\n",
      "| \u001b[0m33       \u001b[0m | \u001b[0m0.0      \u001b[0m | \u001b[0m0.1284   \u001b[0m | \u001b[0m79.54    \u001b[0m | \u001b[0m6.984    \u001b[0m | \u001b[0m0.0003478\u001b[0m | \u001b[0m0.007887 \u001b[0m | \u001b[0m3.83     \u001b[0m | \u001b[0m4.675    \u001b[0m | \u001b[0m1.404    \u001b[0m | \u001b[0m9.433    \u001b[0m | \u001b[0m7.893    \u001b[0m |\n",
      "| \u001b[0m34       \u001b[0m | \u001b[0m0.0      \u001b[0m | \u001b[0m0.4552   \u001b[0m | \u001b[0m106.5    \u001b[0m | \u001b[0m24.43    \u001b[0m | \u001b[0m0.0006139\u001b[0m | \u001b[0m0.008904 \u001b[0m | \u001b[0m3.036    \u001b[0m | \u001b[0m9.757    \u001b[0m | \u001b[0m4.365    \u001b[0m | \u001b[0m13.56    \u001b[0m | \u001b[0m10.71    \u001b[0m |\n",
      "| \u001b[0m35       \u001b[0m | \u001b[0m0.0      \u001b[0m | \u001b[0m0.3788   \u001b[0m | \u001b[0m119.2    \u001b[0m | \u001b[0m17.43    \u001b[0m | \u001b[0m0.0008302\u001b[0m | \u001b[0m0.002979 \u001b[0m | \u001b[0m4.87     \u001b[0m | \u001b[0m5.046    \u001b[0m | \u001b[0m4.298    \u001b[0m | \u001b[0m7.134    \u001b[0m | \u001b[0m15.76    \u001b[0m |\n",
      "| \u001b[0m36       \u001b[0m | \u001b[0m0.0      \u001b[0m | \u001b[0m0.3544   \u001b[0m | \u001b[0m71.2     \u001b[0m | \u001b[0m27.29    \u001b[0m | \u001b[0m0.0003773\u001b[0m | \u001b[0m0.009929 \u001b[0m | \u001b[0m3.832    \u001b[0m | \u001b[0m13.16    \u001b[0m | \u001b[0m1.842    \u001b[0m | \u001b[0m10.49    \u001b[0m | \u001b[0m9.96     \u001b[0m |\n",
      "| \u001b[0m37       \u001b[0m | \u001b[0m0.0      \u001b[0m | \u001b[0m0.4877   \u001b[0m | \u001b[0m17.03    \u001b[0m | \u001b[0m19.4     \u001b[0m | \u001b[0m0.0007919\u001b[0m | \u001b[0m0.002978 \u001b[0m | \u001b[0m3.577    \u001b[0m | \u001b[0m12.26    \u001b[0m | \u001b[0m4.936    \u001b[0m | \u001b[0m13.47    \u001b[0m | \u001b[0m2.753    \u001b[0m |\n",
      "| \u001b[0m38       \u001b[0m | \u001b[0m0.0      \u001b[0m | \u001b[0m0.3432   \u001b[0m | \u001b[0m101.0    \u001b[0m | \u001b[0m12.35    \u001b[0m | \u001b[0m0.0002727\u001b[0m | \u001b[0m0.006788 \u001b[0m | \u001b[0m2.735    \u001b[0m | \u001b[0m4.812    \u001b[0m | \u001b[0m4.862    \u001b[0m | \u001b[0m6.143    \u001b[0m | \u001b[0m9.807    \u001b[0m |\n",
      "| \u001b[0m39       \u001b[0m | \u001b[0m0.0      \u001b[0m | \u001b[0m0.3532   \u001b[0m | \u001b[0m108.4    \u001b[0m | \u001b[0m29.93    \u001b[0m | \u001b[0m0.0007517\u001b[0m | \u001b[0m0.005386 \u001b[0m | \u001b[0m2.213    \u001b[0m | \u001b[0m5.855    \u001b[0m | \u001b[0m3.553    \u001b[0m | \u001b[0m7.054    \u001b[0m | \u001b[0m7.225    \u001b[0m |\n",
      "| \u001b[0m40       \u001b[0m | \u001b[0m0.0      \u001b[0m | \u001b[0m0.2907   \u001b[0m | \u001b[0m99.05    \u001b[0m | \u001b[0m25.44    \u001b[0m | \u001b[0m0.0006511\u001b[0m | \u001b[0m0.002354 \u001b[0m | \u001b[0m2.357    \u001b[0m | \u001b[0m4.11     \u001b[0m | \u001b[0m1.787    \u001b[0m | \u001b[0m8.784    \u001b[0m | \u001b[0m12.81    \u001b[0m |\n"
     ]
    },
    {
     "name": "stdout",
     "output_type": "stream",
     "text": [
      "| \u001b[0m41       \u001b[0m | \u001b[0m0.7765   \u001b[0m | \u001b[0m0.1721   \u001b[0m | \u001b[0m98.98    \u001b[0m | \u001b[0m26.87    \u001b[0m | \u001b[0m0.0006511\u001b[0m | \u001b[0m0.007571 \u001b[0m | \u001b[0m1.62     \u001b[0m | \u001b[0m7.619    \u001b[0m | \u001b[0m2.747    \u001b[0m | \u001b[0m14.98    \u001b[0m | \u001b[0m10.06    \u001b[0m |\n",
      "| \u001b[0m42       \u001b[0m | \u001b[0m0.7653   \u001b[0m | \u001b[0m0.1119   \u001b[0m | \u001b[0m84.36    \u001b[0m | \u001b[0m8.378    \u001b[0m | \u001b[0m0.0007739\u001b[0m | \u001b[0m0.005864 \u001b[0m | \u001b[0m1.538    \u001b[0m | \u001b[0m12.93    \u001b[0m | \u001b[0m2.612    \u001b[0m | \u001b[0m7.291    \u001b[0m | \u001b[0m6.661    \u001b[0m |\n",
      "| \u001b[0m43       \u001b[0m | \u001b[0m0.7653   \u001b[0m | \u001b[0m0.2862   \u001b[0m | \u001b[0m41.26    \u001b[0m | \u001b[0m8.453    \u001b[0m | \u001b[0m0.0009188\u001b[0m | \u001b[0m0.005285 \u001b[0m | \u001b[0m1.334    \u001b[0m | \u001b[0m11.42    \u001b[0m | \u001b[0m3.223    \u001b[0m | \u001b[0m14.67    \u001b[0m | \u001b[0m15.58    \u001b[0m |\n",
      "| \u001b[0m44       \u001b[0m | \u001b[0m0.7429   \u001b[0m | \u001b[0m0.1      \u001b[0m | \u001b[0m60.98    \u001b[0m | \u001b[0m20.23    \u001b[0m | \u001b[0m0.001    \u001b[0m | \u001b[0m0.01     \u001b[0m | \u001b[0m1.0      \u001b[0m | \u001b[0m3.05     \u001b[0m | \u001b[0m2.994    \u001b[0m | \u001b[0m8.834    \u001b[0m | \u001b[0m9.406    \u001b[0m |\n",
      "| \u001b[0m45       \u001b[0m | \u001b[0m0.7837   \u001b[0m | \u001b[0m0.4189   \u001b[0m | \u001b[0m39.1     \u001b[0m | \u001b[0m14.33    \u001b[0m | \u001b[0m0.001    \u001b[0m | \u001b[0m0.009248 \u001b[0m | \u001b[0m1.0      \u001b[0m | \u001b[0m10.71    \u001b[0m | \u001b[0m1.85     \u001b[0m | \u001b[0m14.05    \u001b[0m | \u001b[0m11.91    \u001b[0m |\n",
      "| \u001b[0m46       \u001b[0m | \u001b[0m0.7224   \u001b[0m | \u001b[0m0.5      \u001b[0m | \u001b[0m34.52    \u001b[0m | \u001b[0m9.125    \u001b[0m | \u001b[0m0.001    \u001b[0m | \u001b[0m0.01     \u001b[0m | \u001b[0m1.0      \u001b[0m | \u001b[0m8.239    \u001b[0m | \u001b[0m1.0      \u001b[0m | \u001b[0m14.9     \u001b[0m | \u001b[0m14.25    \u001b[0m |\n",
      "| \u001b[95m47       \u001b[0m | \u001b[95m0.8041   \u001b[0m | \u001b[95m0.1      \u001b[0m | \u001b[95m38.2     \u001b[0m | \u001b[95m12.88    \u001b[0m | \u001b[95m0.001    \u001b[0m | \u001b[95m0.001    \u001b[0m | \u001b[95m1.0      \u001b[0m | \u001b[95m16.0     \u001b[0m | \u001b[95m5.0      \u001b[0m | \u001b[95m15.0     \u001b[0m | \u001b[95m16.0     \u001b[0m |\n",
      "| \u001b[0m48       \u001b[0m | \u001b[0m0.7551   \u001b[0m | \u001b[0m0.5      \u001b[0m | \u001b[0m36.96    \u001b[0m | \u001b[0m8.256    \u001b[0m | \u001b[0m0.001    \u001b[0m | \u001b[0m0.001    \u001b[0m | \u001b[0m1.0      \u001b[0m | \u001b[0m14.05    \u001b[0m | \u001b[0m5.0      \u001b[0m | \u001b[0m15.0     \u001b[0m | \u001b[0m9.645    \u001b[0m |\n",
      "| \u001b[0m49       \u001b[0m | \u001b[0m0.7929   \u001b[0m | \u001b[0m0.1      \u001b[0m | \u001b[0m84.21    \u001b[0m | \u001b[0m5.161    \u001b[0m | \u001b[0m0.001    \u001b[0m | \u001b[0m0.001517 \u001b[0m | \u001b[0m1.0      \u001b[0m | \u001b[0m16.0     \u001b[0m | \u001b[0m1.779    \u001b[0m | \u001b[0m13.23    \u001b[0m | \u001b[0m4.178    \u001b[0m |\n",
      "| \u001b[0m50       \u001b[0m | \u001b[0m0.7796   \u001b[0m | \u001b[0m0.1      \u001b[0m | \u001b[0m79.64    \u001b[0m | \u001b[0m4.034    \u001b[0m | \u001b[0m0.0001   \u001b[0m | \u001b[0m0.001    \u001b[0m | \u001b[0m1.0      \u001b[0m | \u001b[0m16.0     \u001b[0m | \u001b[0m3.281    \u001b[0m | \u001b[0m14.52    \u001b[0m | \u001b[0m14.5     \u001b[0m |\n",
      "| \u001b[0m51       \u001b[0m | \u001b[0m0.6796   \u001b[0m | \u001b[0m0.1      \u001b[0m | \u001b[0m85.67    \u001b[0m | \u001b[0m1.0      \u001b[0m | \u001b[0m0.001    \u001b[0m | \u001b[0m0.01     \u001b[0m | \u001b[0m1.0      \u001b[0m | \u001b[0m16.0     \u001b[0m | \u001b[0m1.0      \u001b[0m | \u001b[0m7.741    \u001b[0m | \u001b[0m10.73    \u001b[0m |\n",
      "| \u001b[0m52       \u001b[0m | \u001b[0m0.7643   \u001b[0m | \u001b[0m0.1      \u001b[0m | \u001b[0m86.69    \u001b[0m | \u001b[0m9.926    \u001b[0m | \u001b[0m0.001    \u001b[0m | \u001b[0m0.01     \u001b[0m | \u001b[0m1.0      \u001b[0m | \u001b[0m16.0     \u001b[0m | \u001b[0m1.0      \u001b[0m | \u001b[0m13.89    \u001b[0m | \u001b[0m11.48    \u001b[0m |\n",
      "| \u001b[0m53       \u001b[0m | \u001b[0m0.7173   \u001b[0m | \u001b[0m0.5      \u001b[0m | \u001b[0m36.26    \u001b[0m | \u001b[0m19.36    \u001b[0m | \u001b[0m0.001    \u001b[0m | \u001b[0m0.01     \u001b[0m | \u001b[0m1.0      \u001b[0m | \u001b[0m9.787    \u001b[0m | \u001b[0m1.0      \u001b[0m | \u001b[0m13.32    \u001b[0m | \u001b[0m2.928    \u001b[0m |\n",
      "| \u001b[0m54       \u001b[0m | \u001b[0m0.6959   \u001b[0m | \u001b[0m0.1      \u001b[0m | \u001b[0m70.28    \u001b[0m | \u001b[0m1.0      \u001b[0m | \u001b[0m0.0001   \u001b[0m | \u001b[0m0.001    \u001b[0m | \u001b[0m1.0      \u001b[0m | \u001b[0m16.0     \u001b[0m | \u001b[0m5.0      \u001b[0m | \u001b[0m15.0     \u001b[0m | \u001b[0m16.0     \u001b[0m |\n",
      "| \u001b[0m55       \u001b[0m | \u001b[0m0.749    \u001b[0m | \u001b[0m0.1      \u001b[0m | \u001b[0m88.55    \u001b[0m | \u001b[0m12.5     \u001b[0m | \u001b[0m0.001    \u001b[0m | \u001b[0m0.01     \u001b[0m | \u001b[0m1.0      \u001b[0m | \u001b[0m16.0     \u001b[0m | \u001b[0m1.0      \u001b[0m | \u001b[0m11.71    \u001b[0m | \u001b[0m2.0      \u001b[0m |\n",
      "| \u001b[0m56       \u001b[0m | \u001b[0m0.6796   \u001b[0m | \u001b[0m0.1      \u001b[0m | \u001b[0m95.96    \u001b[0m | \u001b[0m25.42    \u001b[0m | \u001b[0m0.0001   \u001b[0m | \u001b[0m0.01     \u001b[0m | \u001b[0m1.0      \u001b[0m | \u001b[0m2.0      \u001b[0m | \u001b[0m5.0      \u001b[0m | \u001b[0m15.0     \u001b[0m | \u001b[0m2.0      \u001b[0m |\n",
      "| \u001b[95m57       \u001b[0m | \u001b[95m0.8051   \u001b[0m | \u001b[95m0.1      \u001b[0m | \u001b[95m54.91    \u001b[0m | \u001b[95m21.69    \u001b[0m | \u001b[95m0.001    \u001b[0m | \u001b[95m0.01     \u001b[0m | \u001b[95m1.0      \u001b[0m | \u001b[95m6.319    \u001b[0m | \u001b[95m1.0      \u001b[0m | \u001b[95m15.0     \u001b[0m | \u001b[95m15.9     \u001b[0m |\n",
      "| \u001b[0m58       \u001b[0m | \u001b[0m0.799    \u001b[0m | \u001b[0m0.1      \u001b[0m | \u001b[0m51.57    \u001b[0m | \u001b[0m17.41    \u001b[0m | \u001b[0m0.0008567\u001b[0m | \u001b[0m0.004272 \u001b[0m | \u001b[0m1.0      \u001b[0m | \u001b[0m15.91    \u001b[0m | \u001b[0m5.0      \u001b[0m | \u001b[0m15.0     \u001b[0m | \u001b[0m16.0     \u001b[0m |\n",
      "| \u001b[0m59       \u001b[0m | \u001b[0m0.7908   \u001b[0m | \u001b[0m0.1      \u001b[0m | \u001b[0m48.54    \u001b[0m | \u001b[0m22.79    \u001b[0m | \u001b[0m0.001    \u001b[0m | \u001b[0m0.01     \u001b[0m | \u001b[0m1.0      \u001b[0m | \u001b[0m7.996    \u001b[0m | \u001b[0m1.0      \u001b[0m | \u001b[0m15.0     \u001b[0m | \u001b[0m6.948    \u001b[0m |\n",
      "| \u001b[0m60       \u001b[0m | \u001b[0m0.7612   \u001b[0m | \u001b[0m0.1      \u001b[0m | \u001b[0m55.68    \u001b[0m | \u001b[0m23.85    \u001b[0m | \u001b[0m0.001    \u001b[0m | \u001b[0m0.001    \u001b[0m | \u001b[0m1.0      \u001b[0m | \u001b[0m2.0      \u001b[0m | \u001b[0m5.0      \u001b[0m | \u001b[0m15.0     \u001b[0m | \u001b[0m2.0      \u001b[0m |\n",
      "| \u001b[0m61       \u001b[0m | \u001b[0m0.6796   \u001b[0m | \u001b[0m0.5      \u001b[0m | \u001b[0m43.91    \u001b[0m | \u001b[0m21.6     \u001b[0m | \u001b[0m0.0001   \u001b[0m | \u001b[0m0.01     \u001b[0m | \u001b[0m1.0      \u001b[0m | \u001b[0m2.0      \u001b[0m | \u001b[0m1.0      \u001b[0m | \u001b[0m15.0     \u001b[0m | \u001b[0m13.87    \u001b[0m |\n",
      "| \u001b[0m62       \u001b[0m | \u001b[0m0.6796   \u001b[0m | \u001b[0m0.1      \u001b[0m | \u001b[0m33.86    \u001b[0m | \u001b[0m1.0      \u001b[0m | \u001b[0m0.0001   \u001b[0m | \u001b[0m0.001    \u001b[0m | \u001b[0m1.0      \u001b[0m | \u001b[0m2.0      \u001b[0m | \u001b[0m5.0      \u001b[0m | \u001b[0m15.0     \u001b[0m | \u001b[0m16.0     \u001b[0m |\n",
      "| \u001b[0m63       \u001b[0m | \u001b[0m0.7561   \u001b[0m | \u001b[0m0.1      \u001b[0m | \u001b[0m95.56    \u001b[0m | \u001b[0m31.0     \u001b[0m | \u001b[0m0.001    \u001b[0m | \u001b[0m0.01     \u001b[0m | \u001b[0m1.0      \u001b[0m | \u001b[0m16.0     \u001b[0m | \u001b[0m1.0      \u001b[0m | \u001b[0m15.0     \u001b[0m | \u001b[0m16.0     \u001b[0m |\n",
      "| \u001b[0m64       \u001b[0m | \u001b[0m0.7776   \u001b[0m | \u001b[0m0.1      \u001b[0m | \u001b[0m41.92    \u001b[0m | \u001b[0m30.38    \u001b[0m | \u001b[0m0.001    \u001b[0m | \u001b[0m0.01     \u001b[0m | \u001b[0m1.0      \u001b[0m | \u001b[0m2.0      \u001b[0m | \u001b[0m1.0      \u001b[0m | \u001b[0m15.0     \u001b[0m | \u001b[0m2.0      \u001b[0m |\n",
      "| \u001b[0m65       \u001b[0m | \u001b[0m0.6796   \u001b[0m | \u001b[0m0.1      \u001b[0m | \u001b[0m32.73    \u001b[0m | \u001b[0m1.0      \u001b[0m | \u001b[0m0.0001   \u001b[0m | \u001b[0m0.001    \u001b[0m | \u001b[0m1.0      \u001b[0m | \u001b[0m5.851    \u001b[0m | \u001b[0m1.0      \u001b[0m | \u001b[0m15.0     \u001b[0m | \u001b[0m4.721    \u001b[0m |\n",
      "| \u001b[0m66       \u001b[0m | \u001b[0m0.7347   \u001b[0m | \u001b[0m0.1      \u001b[0m | \u001b[0m62.3     \u001b[0m | \u001b[0m24.19    \u001b[0m | \u001b[0m0.0001   \u001b[0m | \u001b[0m0.001    \u001b[0m | \u001b[0m1.0      \u001b[0m | \u001b[0m2.0      \u001b[0m | \u001b[0m5.0      \u001b[0m | \u001b[0m15.0     \u001b[0m | \u001b[0m16.0     \u001b[0m |\n",
      "| \u001b[0m67       \u001b[0m | \u001b[0m0.75     \u001b[0m | \u001b[0m0.1      \u001b[0m | \u001b[0m32.94    \u001b[0m | \u001b[0m1.0      \u001b[0m | \u001b[0m0.0001   \u001b[0m | \u001b[0m0.001    \u001b[0m | \u001b[0m1.0      \u001b[0m | \u001b[0m16.0     \u001b[0m | \u001b[0m5.0      \u001b[0m | \u001b[0m15.0     \u001b[0m | \u001b[0m16.0     \u001b[0m |\n",
      "| \u001b[0m68       \u001b[0m | \u001b[0m0.7337   \u001b[0m | \u001b[0m0.1      \u001b[0m | \u001b[0m37.75    \u001b[0m | \u001b[0m24.97    \u001b[0m | \u001b[0m0.0001   \u001b[0m | \u001b[0m0.01     \u001b[0m | \u001b[0m1.0      \u001b[0m | \u001b[0m2.0      \u001b[0m | \u001b[0m1.0      \u001b[0m | \u001b[0m5.285    \u001b[0m | \u001b[0m2.0      \u001b[0m |\n",
      "| \u001b[0m69       \u001b[0m | \u001b[0m0.751    \u001b[0m | \u001b[0m0.1      \u001b[0m | \u001b[0m29.81    \u001b[0m | \u001b[0m31.0     \u001b[0m | \u001b[0m0.0001   \u001b[0m | \u001b[0m0.01     \u001b[0m | \u001b[0m1.0      \u001b[0m | \u001b[0m2.0      \u001b[0m | \u001b[0m1.0      \u001b[0m | \u001b[0m15.0     \u001b[0m | \u001b[0m2.0      \u001b[0m |\n",
      "| \u001b[0m70       \u001b[0m | \u001b[0m0.6796   \u001b[0m | \u001b[0m0.1      \u001b[0m | \u001b[0m54.69    \u001b[0m | \u001b[0m21.11    \u001b[0m | \u001b[0m0.0001   \u001b[0m | \u001b[0m0.01     \u001b[0m | \u001b[0m1.0      \u001b[0m | \u001b[0m16.0     \u001b[0m | \u001b[0m5.0      \u001b[0m | \u001b[0m15.0     \u001b[0m | \u001b[0m2.0      \u001b[0m |\n",
      "| \u001b[0m71       \u001b[0m | \u001b[0m0.6796   \u001b[0m | \u001b[0m0.1      \u001b[0m | \u001b[0m26.46    \u001b[0m | \u001b[0m31.0     \u001b[0m | \u001b[0m0.0001   \u001b[0m | \u001b[0m0.01     \u001b[0m | \u001b[0m1.0      \u001b[0m | \u001b[0m2.0      \u001b[0m | \u001b[0m5.0      \u001b[0m | \u001b[0m5.0      \u001b[0m | \u001b[0m2.0      \u001b[0m |\n",
      "| \u001b[0m72       \u001b[0m | \u001b[0m0.6796   \u001b[0m | \u001b[0m0.1      \u001b[0m | \u001b[0m51.73    \u001b[0m | \u001b[0m31.0     \u001b[0m | \u001b[0m0.0001   \u001b[0m | \u001b[0m0.01     \u001b[0m | \u001b[0m1.0      \u001b[0m | \u001b[0m2.0      \u001b[0m | \u001b[0m5.0      \u001b[0m | \u001b[0m15.0     \u001b[0m | \u001b[0m12.37    \u001b[0m |\n",
      "| \u001b[0m73       \u001b[0m | \u001b[0m0.0      \u001b[0m | \u001b[0m0.417    \u001b[0m | \u001b[0m17.29    \u001b[0m | \u001b[0m1.107    \u001b[0m | \u001b[0m0.0008602\u001b[0m | \u001b[0m0.001871 \u001b[0m | \u001b[0m2.783    \u001b[0m | \u001b[0m3.73     \u001b[0m | \u001b[0m2.512    \u001b[0m | \u001b[0m11.28    \u001b[0m | \u001b[0m14.03    \u001b[0m |\n",
      "| \u001b[0m74       \u001b[0m | \u001b[0m0.6796   \u001b[0m | \u001b[0m0.5      \u001b[0m | \u001b[0m36.51    \u001b[0m | \u001b[0m31.0     \u001b[0m | \u001b[0m0.0003843\u001b[0m | \u001b[0m0.01     \u001b[0m | \u001b[0m1.0      \u001b[0m | \u001b[0m11.71    \u001b[0m | \u001b[0m5.0      \u001b[0m | \u001b[0m15.0     \u001b[0m | \u001b[0m2.0      \u001b[0m |\n"
     ]
    },
    {
     "name": "stdout",
     "output_type": "stream",
     "text": [
      "| \u001b[0m75       \u001b[0m | \u001b[0m0.0      \u001b[0m | \u001b[0m0.5      \u001b[0m | \u001b[0m85.07    \u001b[0m | \u001b[0m3.3      \u001b[0m | \u001b[0m0.001    \u001b[0m | \u001b[0m0.01     \u001b[0m | \u001b[0m5.0      \u001b[0m | \u001b[0m16.0     \u001b[0m | \u001b[0m5.0      \u001b[0m | \u001b[0m5.0      \u001b[0m | \u001b[0m2.0      \u001b[0m |\n",
      "| \u001b[0m76       \u001b[0m | \u001b[0m0.6796   \u001b[0m | \u001b[0m0.5      \u001b[0m | \u001b[0m54.13    \u001b[0m | \u001b[0m25.99    \u001b[0m | \u001b[0m0.001    \u001b[0m | \u001b[0m0.001    \u001b[0m | \u001b[0m1.0      \u001b[0m | \u001b[0m2.0      \u001b[0m | \u001b[0m1.0      \u001b[0m | \u001b[0m5.152    \u001b[0m | \u001b[0m16.0     \u001b[0m |\n",
      "| \u001b[0m77       \u001b[0m | \u001b[0m0.7694   \u001b[0m | \u001b[0m0.1      \u001b[0m | \u001b[0m38.42    \u001b[0m | \u001b[0m22.12    \u001b[0m | \u001b[0m0.0001   \u001b[0m | \u001b[0m0.001    \u001b[0m | \u001b[0m1.0      \u001b[0m | \u001b[0m2.0      \u001b[0m | \u001b[0m5.0      \u001b[0m | \u001b[0m15.0     \u001b[0m | \u001b[0m3.486    \u001b[0m |\n",
      "| \u001b[0m78       \u001b[0m | \u001b[0m0.3204   \u001b[0m | \u001b[0m0.1      \u001b[0m | \u001b[0m46.55    \u001b[0m | \u001b[0m1.0      \u001b[0m | \u001b[0m0.0001   \u001b[0m | \u001b[0m0.01     \u001b[0m | \u001b[0m1.0      \u001b[0m | \u001b[0m16.0     \u001b[0m | \u001b[0m5.0      \u001b[0m | \u001b[0m15.0     \u001b[0m | \u001b[0m16.0     \u001b[0m |\n",
      "| \u001b[0m79       \u001b[0m | \u001b[0m0.6959   \u001b[0m | \u001b[0m0.5      \u001b[0m | \u001b[0m48.22    \u001b[0m | \u001b[0m31.0     \u001b[0m | \u001b[0m0.0001   \u001b[0m | \u001b[0m0.001    \u001b[0m | \u001b[0m1.0      \u001b[0m | \u001b[0m2.0      \u001b[0m | \u001b[0m5.0      \u001b[0m | \u001b[0m5.807    \u001b[0m | \u001b[0m2.0      \u001b[0m |\n",
      "| \u001b[95m80       \u001b[0m | \u001b[95m0.8163   \u001b[0m | \u001b[95m0.1      \u001b[0m | \u001b[95m98.74    \u001b[0m | \u001b[95m31.0     \u001b[0m | \u001b[95m0.001    \u001b[0m | \u001b[95m0.001    \u001b[0m | \u001b[95m1.0      \u001b[0m | \u001b[95m14.8     \u001b[0m | \u001b[95m1.0      \u001b[0m | \u001b[95m15.0     \u001b[0m | \u001b[95m6.619    \u001b[0m |\n",
      "| \u001b[0m81       \u001b[0m | \u001b[0m0.7388   \u001b[0m | \u001b[0m0.1      \u001b[0m | \u001b[0m49.47    \u001b[0m | \u001b[0m31.0     \u001b[0m | \u001b[0m0.0001   \u001b[0m | \u001b[0m0.001    \u001b[0m | \u001b[0m1.0      \u001b[0m | \u001b[0m13.22    \u001b[0m | \u001b[0m1.0      \u001b[0m | \u001b[0m15.0     \u001b[0m | \u001b[0m2.0      \u001b[0m |\n",
      "| \u001b[0m82       \u001b[0m | \u001b[0m0.7347   \u001b[0m | \u001b[0m0.1      \u001b[0m | \u001b[0m53.4     \u001b[0m | \u001b[0m29.12    \u001b[0m | \u001b[0m0.0001   \u001b[0m | \u001b[0m0.01     \u001b[0m | \u001b[0m1.0      \u001b[0m | \u001b[0m16.0     \u001b[0m | \u001b[0m1.0      \u001b[0m | \u001b[0m15.0     \u001b[0m | \u001b[0m16.0     \u001b[0m |\n",
      "| \u001b[0m83       \u001b[0m | \u001b[0m0.7602   \u001b[0m | \u001b[0m0.1      \u001b[0m | \u001b[0m85.79    \u001b[0m | \u001b[0m11.19    \u001b[0m | \u001b[0m0.0001   \u001b[0m | \u001b[0m0.001    \u001b[0m | \u001b[0m1.0      \u001b[0m | \u001b[0m11.8     \u001b[0m | \u001b[0m5.0      \u001b[0m | \u001b[0m15.0     \u001b[0m | \u001b[0m4.332    \u001b[0m |\n",
      "| \u001b[0m84       \u001b[0m | \u001b[0m0.3204   \u001b[0m | \u001b[0m0.5      \u001b[0m | \u001b[0m56.7     \u001b[0m | \u001b[0m24.37    \u001b[0m | \u001b[0m0.0001   \u001b[0m | \u001b[0m0.01     \u001b[0m | \u001b[0m1.0      \u001b[0m | \u001b[0m10.03    \u001b[0m | \u001b[0m5.0      \u001b[0m | \u001b[0m15.0     \u001b[0m | \u001b[0m9.991    \u001b[0m |\n",
      "| \u001b[0m85       \u001b[0m | \u001b[0m0.7214   \u001b[0m | \u001b[0m0.1      \u001b[0m | \u001b[0m62.75    \u001b[0m | \u001b[0m16.23    \u001b[0m | \u001b[0m0.0001   \u001b[0m | \u001b[0m0.001    \u001b[0m | \u001b[0m1.0      \u001b[0m | \u001b[0m2.0      \u001b[0m | \u001b[0m5.0      \u001b[0m | \u001b[0m15.0     \u001b[0m | \u001b[0m2.0      \u001b[0m |\n",
      "| \u001b[0m86       \u001b[0m | \u001b[0m0.8092   \u001b[0m | \u001b[0m0.1544   \u001b[0m | \u001b[0m46.11    \u001b[0m | \u001b[0m19.67    \u001b[0m | \u001b[0m0.000617 \u001b[0m | \u001b[0m0.001363 \u001b[0m | \u001b[0m1.101    \u001b[0m | \u001b[0m15.7     \u001b[0m | \u001b[0m3.078    \u001b[0m | \u001b[0m14.46    \u001b[0m | \u001b[0m5.013    \u001b[0m |\n",
      "| \u001b[0m87       \u001b[0m | \u001b[0m0.6796   \u001b[0m | \u001b[0m0.1      \u001b[0m | \u001b[0m88.36    \u001b[0m | \u001b[0m8.849    \u001b[0m | \u001b[0m0.001    \u001b[0m | \u001b[0m0.001    \u001b[0m | \u001b[0m1.0      \u001b[0m | \u001b[0m16.0     \u001b[0m | \u001b[0m1.0      \u001b[0m | \u001b[0m5.0      \u001b[0m | \u001b[0m16.0     \u001b[0m |\n",
      "| \u001b[0m88       \u001b[0m | \u001b[0m0.0      \u001b[0m | \u001b[0m0.1      \u001b[0m | \u001b[0m45.89    \u001b[0m | \u001b[0m18.07    \u001b[0m | \u001b[0m0.0001   \u001b[0m | \u001b[0m0.01     \u001b[0m | \u001b[0m5.0      \u001b[0m | \u001b[0m16.0     \u001b[0m | \u001b[0m1.0      \u001b[0m | \u001b[0m15.0     \u001b[0m | \u001b[0m16.0     \u001b[0m |\n",
      "| \u001b[95m89       \u001b[0m | \u001b[95m0.8214   \u001b[0m | \u001b[95m0.1      \u001b[0m | \u001b[95m58.54    \u001b[0m | \u001b[95m11.53    \u001b[0m | \u001b[95m0.001    \u001b[0m | \u001b[95m0.001    \u001b[0m | \u001b[95m1.0      \u001b[0m | \u001b[95m16.0     \u001b[0m | \u001b[95m5.0      \u001b[0m | \u001b[95m15.0     \u001b[0m | \u001b[95m16.0     \u001b[0m |\n",
      "| \u001b[0m90       \u001b[0m | \u001b[0m0.0      \u001b[0m | \u001b[0m0.1      \u001b[0m | \u001b[0m47.53    \u001b[0m | \u001b[0m24.32    \u001b[0m | \u001b[0m0.001    \u001b[0m | \u001b[0m0.001    \u001b[0m | \u001b[0m5.0      \u001b[0m | \u001b[0m2.0      \u001b[0m | \u001b[0m1.0      \u001b[0m | \u001b[0m15.0     \u001b[0m | \u001b[0m2.0      \u001b[0m |\n",
      "| \u001b[0m91       \u001b[0m | \u001b[0m0.6796   \u001b[0m | \u001b[0m0.1      \u001b[0m | \u001b[0m40.47    \u001b[0m | \u001b[0m31.0     \u001b[0m | \u001b[0m0.001    \u001b[0m | \u001b[0m0.001    \u001b[0m | \u001b[0m1.0      \u001b[0m | \u001b[0m8.656    \u001b[0m | \u001b[0m1.0      \u001b[0m | \u001b[0m7.519    \u001b[0m | \u001b[0m2.0      \u001b[0m |\n",
      "| \u001b[0m92       \u001b[0m | \u001b[0m0.7551   \u001b[0m | \u001b[0m0.1      \u001b[0m | \u001b[0m37.74    \u001b[0m | \u001b[0m31.0     \u001b[0m | \u001b[0m0.0001   \u001b[0m | \u001b[0m0.001    \u001b[0m | \u001b[0m1.0      \u001b[0m | \u001b[0m2.0      \u001b[0m | \u001b[0m5.0      \u001b[0m | \u001b[0m15.0     \u001b[0m | \u001b[0m8.434    \u001b[0m |\n",
      "| \u001b[0m93       \u001b[0m | \u001b[0m0.8092   \u001b[0m | \u001b[0m0.1      \u001b[0m | \u001b[0m52.03    \u001b[0m | \u001b[0m12.05    \u001b[0m | \u001b[0m0.001    \u001b[0m | \u001b[0m0.001    \u001b[0m | \u001b[0m1.0      \u001b[0m | \u001b[0m16.0     \u001b[0m | \u001b[0m5.0      \u001b[0m | \u001b[0m15.0     \u001b[0m | \u001b[0m8.134    \u001b[0m |\n",
      "| \u001b[0m94       \u001b[0m | \u001b[0m0.6796   \u001b[0m | \u001b[0m0.1      \u001b[0m | \u001b[0m60.37    \u001b[0m | \u001b[0m16.8     \u001b[0m | \u001b[0m0.001    \u001b[0m | \u001b[0m0.001    \u001b[0m | \u001b[0m1.0      \u001b[0m | \u001b[0m2.0      \u001b[0m | \u001b[0m1.0      \u001b[0m | \u001b[0m15.0     \u001b[0m | \u001b[0m16.0     \u001b[0m |\n",
      "| \u001b[0m95       \u001b[0m | \u001b[0m0.6796   \u001b[0m | \u001b[0m0.1      \u001b[0m | \u001b[0m94.93    \u001b[0m | \u001b[0m31.0     \u001b[0m | \u001b[0m0.001    \u001b[0m | \u001b[0m0.01     \u001b[0m | \u001b[0m1.0      \u001b[0m | \u001b[0m10.72    \u001b[0m | \u001b[0m5.0      \u001b[0m | \u001b[0m15.0     \u001b[0m | \u001b[0m10.92    \u001b[0m |\n",
      "| \u001b[0m96       \u001b[0m | \u001b[0m0.7653   \u001b[0m | \u001b[0m0.1      \u001b[0m | \u001b[0m61.16    \u001b[0m | \u001b[0m5.181    \u001b[0m | \u001b[0m0.0001   \u001b[0m | \u001b[0m0.001    \u001b[0m | \u001b[0m1.0      \u001b[0m | \u001b[0m16.0     \u001b[0m | \u001b[0m5.0      \u001b[0m | \u001b[0m15.0     \u001b[0m | \u001b[0m2.0      \u001b[0m |\n",
      "| \u001b[0m97       \u001b[0m | \u001b[0m0.7939   \u001b[0m | \u001b[0m0.1      \u001b[0m | \u001b[0m58.11    \u001b[0m | \u001b[0m12.67    \u001b[0m | \u001b[0m0.001    \u001b[0m | \u001b[0m0.001    \u001b[0m | \u001b[0m1.0      \u001b[0m | \u001b[0m16.0     \u001b[0m | \u001b[0m1.0      \u001b[0m | \u001b[0m15.0     \u001b[0m | \u001b[0m2.0      \u001b[0m |\n",
      "| \u001b[0m98       \u001b[0m | \u001b[0m0.6796   \u001b[0m | \u001b[0m0.1      \u001b[0m | \u001b[0m33.17    \u001b[0m | \u001b[0m19.5     \u001b[0m | \u001b[0m0.0001   \u001b[0m | \u001b[0m0.001    \u001b[0m | \u001b[0m1.0      \u001b[0m | \u001b[0m2.0      \u001b[0m | \u001b[0m1.0      \u001b[0m | \u001b[0m15.0     \u001b[0m | \u001b[0m9.31     \u001b[0m |\n",
      "| \u001b[0m99       \u001b[0m | \u001b[0m0.8102   \u001b[0m | \u001b[0m0.1      \u001b[0m | \u001b[0m95.43    \u001b[0m | \u001b[0m22.74    \u001b[0m | \u001b[0m0.001    \u001b[0m | \u001b[0m0.001    \u001b[0m | \u001b[0m1.0      \u001b[0m | \u001b[0m16.0     \u001b[0m | \u001b[0m1.0      \u001b[0m | \u001b[0m15.0     \u001b[0m | \u001b[0m10.67    \u001b[0m |\n",
      "| \u001b[0m100      \u001b[0m | \u001b[0m0.6796   \u001b[0m | \u001b[0m0.1      \u001b[0m | \u001b[0m96.07    \u001b[0m | \u001b[0m21.49    \u001b[0m | \u001b[0m0.0001   \u001b[0m | \u001b[0m0.001    \u001b[0m | \u001b[0m1.0      \u001b[0m | \u001b[0m9.888    \u001b[0m | \u001b[0m1.0      \u001b[0m | \u001b[0m15.0     \u001b[0m | \u001b[0m2.0      \u001b[0m |\n",
      "| \u001b[0m101      \u001b[0m | \u001b[0m0.6796   \u001b[0m | \u001b[0m0.5      \u001b[0m | \u001b[0m31.12    \u001b[0m | \u001b[0m1.0      \u001b[0m | \u001b[0m0.0001   \u001b[0m | \u001b[0m0.001    \u001b[0m | \u001b[0m1.0      \u001b[0m | \u001b[0m16.0     \u001b[0m | \u001b[0m1.0      \u001b[0m | \u001b[0m15.0     \u001b[0m | \u001b[0m2.0      \u001b[0m |\n",
      "| \u001b[0m102      \u001b[0m | \u001b[0m0.6796   \u001b[0m | \u001b[0m0.1      \u001b[0m | \u001b[0m59.05    \u001b[0m | \u001b[0m21.67    \u001b[0m | \u001b[0m0.001    \u001b[0m | \u001b[0m0.01     \u001b[0m | \u001b[0m1.0      \u001b[0m | \u001b[0m2.0      \u001b[0m | \u001b[0m5.0      \u001b[0m | \u001b[0m5.0      \u001b[0m | \u001b[0m2.0      \u001b[0m |\n",
      "| \u001b[0m103      \u001b[0m | \u001b[0m0.6796   \u001b[0m | \u001b[0m0.1      \u001b[0m | \u001b[0m63.47    \u001b[0m | \u001b[0m24.29    \u001b[0m | \u001b[0m0.0007899\u001b[0m | \u001b[0m0.001    \u001b[0m | \u001b[0m1.0      \u001b[0m | \u001b[0m2.0      \u001b[0m | \u001b[0m1.0      \u001b[0m | \u001b[0m15.0     \u001b[0m | \u001b[0m2.0      \u001b[0m |\n",
      "| \u001b[0m104      \u001b[0m | \u001b[0m0.7429   \u001b[0m | \u001b[0m0.5      \u001b[0m | \u001b[0m50.98    \u001b[0m | \u001b[0m13.93    \u001b[0m | \u001b[0m0.001    \u001b[0m | \u001b[0m0.001    \u001b[0m | \u001b[0m1.0      \u001b[0m | \u001b[0m8.861    \u001b[0m | \u001b[0m5.0      \u001b[0m | \u001b[0m15.0     \u001b[0m | \u001b[0m16.0     \u001b[0m |\n",
      "| \u001b[0m105      \u001b[0m | \u001b[0m0.6827   \u001b[0m | \u001b[0m0.1      \u001b[0m | \u001b[0m71.33    \u001b[0m | \u001b[0m1.0      \u001b[0m | \u001b[0m0.0001   \u001b[0m | \u001b[0m0.001    \u001b[0m | \u001b[0m1.0      \u001b[0m | \u001b[0m16.0     \u001b[0m | \u001b[0m1.0      \u001b[0m | \u001b[0m15.0     \u001b[0m | \u001b[0m2.0      \u001b[0m |\n",
      "| \u001b[0m106      \u001b[0m | \u001b[0m0.6796   \u001b[0m | \u001b[0m0.1      \u001b[0m | \u001b[0m77.09    \u001b[0m | \u001b[0m1.0      \u001b[0m | \u001b[0m0.001    \u001b[0m | \u001b[0m0.001    \u001b[0m | \u001b[0m1.0      \u001b[0m | \u001b[0m16.0     \u001b[0m | \u001b[0m1.0      \u001b[0m | \u001b[0m5.0      \u001b[0m | \u001b[0m16.0     \u001b[0m |\n",
      "| \u001b[0m107      \u001b[0m | \u001b[0m0.6796   \u001b[0m | \u001b[0m0.1      \u001b[0m | \u001b[0m28.23    \u001b[0m | \u001b[0m1.0      \u001b[0m | \u001b[0m0.0001   \u001b[0m | \u001b[0m0.01     \u001b[0m | \u001b[0m1.0      \u001b[0m | \u001b[0m16.0     \u001b[0m | \u001b[0m5.0      \u001b[0m | \u001b[0m5.0      \u001b[0m | \u001b[0m2.0      \u001b[0m |\n",
      "| \u001b[0m108      \u001b[0m | \u001b[0m0.6796   \u001b[0m | \u001b[0m0.1      \u001b[0m | \u001b[0m29.1     \u001b[0m | \u001b[0m1.0      \u001b[0m | \u001b[0m0.0001   \u001b[0m | \u001b[0m0.01     \u001b[0m | \u001b[0m1.0      \u001b[0m | \u001b[0m16.0     \u001b[0m | \u001b[0m5.0      \u001b[0m | \u001b[0m5.0      \u001b[0m | \u001b[0m16.0     \u001b[0m |\n"
     ]
    },
    {
     "name": "stdout",
     "output_type": "stream",
     "text": [
      "| \u001b[0m109      \u001b[0m | \u001b[0m0.6796   \u001b[0m | \u001b[0m0.1      \u001b[0m | \u001b[0m31.06    \u001b[0m | \u001b[0m16.34    \u001b[0m | \u001b[0m0.0001   \u001b[0m | \u001b[0m0.001    \u001b[0m | \u001b[0m1.0      \u001b[0m | \u001b[0m2.0      \u001b[0m | \u001b[0m5.0      \u001b[0m | \u001b[0m5.0      \u001b[0m | \u001b[0m2.0      \u001b[0m |\n",
      "| \u001b[0m110      \u001b[0m | \u001b[0m0.6796   \u001b[0m | \u001b[0m0.1      \u001b[0m | \u001b[0m42.67    \u001b[0m | \u001b[0m1.0      \u001b[0m | \u001b[0m0.001    \u001b[0m | \u001b[0m0.01     \u001b[0m | \u001b[0m1.0      \u001b[0m | \u001b[0m16.0     \u001b[0m | \u001b[0m5.0      \u001b[0m | \u001b[0m15.0     \u001b[0m | \u001b[0m2.0      \u001b[0m |\n",
      "| \u001b[0m111      \u001b[0m | \u001b[0m0.6796   \u001b[0m | \u001b[0m0.5      \u001b[0m | \u001b[0m30.94    \u001b[0m | \u001b[0m1.0      \u001b[0m | \u001b[0m0.001    \u001b[0m | \u001b[0m0.01     \u001b[0m | \u001b[0m1.0      \u001b[0m | \u001b[0m2.0      \u001b[0m | \u001b[0m1.0      \u001b[0m | \u001b[0m5.0      \u001b[0m | \u001b[0m2.0      \u001b[0m |\n",
      "| \u001b[0m112      \u001b[0m | \u001b[0m0.7796   \u001b[0m | \u001b[0m0.1      \u001b[0m | \u001b[0m79.54    \u001b[0m | \u001b[0m10.84    \u001b[0m | \u001b[0m0.001    \u001b[0m | \u001b[0m0.001    \u001b[0m | \u001b[0m1.0      \u001b[0m | \u001b[0m16.0     \u001b[0m | \u001b[0m1.0      \u001b[0m | \u001b[0m15.0     \u001b[0m | \u001b[0m2.0      \u001b[0m |\n",
      "| \u001b[0m113      \u001b[0m | \u001b[0m0.6796   \u001b[0m | \u001b[0m0.1      \u001b[0m | \u001b[0m62.23    \u001b[0m | \u001b[0m3.732    \u001b[0m | \u001b[0m0.0001   \u001b[0m | \u001b[0m0.001    \u001b[0m | \u001b[0m1.0      \u001b[0m | \u001b[0m16.0     \u001b[0m | \u001b[0m1.0      \u001b[0m | \u001b[0m15.0     \u001b[0m | \u001b[0m10.52    \u001b[0m |\n",
      "| \u001b[0m114      \u001b[0m | \u001b[0m0.8082   \u001b[0m | \u001b[0m0.1      \u001b[0m | \u001b[0m43.34    \u001b[0m | \u001b[0m12.02    \u001b[0m | \u001b[0m0.0001   \u001b[0m | \u001b[0m0.001    \u001b[0m | \u001b[0m1.0      \u001b[0m | \u001b[0m16.0     \u001b[0m | \u001b[0m1.0      \u001b[0m | \u001b[0m15.0     \u001b[0m | \u001b[0m2.0      \u001b[0m |\n",
      "| \u001b[0m115      \u001b[0m | \u001b[0m0.6796   \u001b[0m | \u001b[0m0.5      \u001b[0m | \u001b[0m53.84    \u001b[0m | \u001b[0m1.0      \u001b[0m | \u001b[0m0.001    \u001b[0m | \u001b[0m0.001    \u001b[0m | \u001b[0m1.0      \u001b[0m | \u001b[0m16.0     \u001b[0m | \u001b[0m1.0      \u001b[0m | \u001b[0m15.0     \u001b[0m | \u001b[0m2.0      \u001b[0m |\n",
      "| \u001b[0m116      \u001b[0m | \u001b[0m0.7837   \u001b[0m | \u001b[0m0.1      \u001b[0m | \u001b[0m46.96    \u001b[0m | \u001b[0m31.0     \u001b[0m | \u001b[0m0.001    \u001b[0m | \u001b[0m0.001    \u001b[0m | \u001b[0m1.0      \u001b[0m | \u001b[0m7.754    \u001b[0m | \u001b[0m1.0      \u001b[0m | \u001b[0m15.0     \u001b[0m | \u001b[0m16.0     \u001b[0m |\n",
      "| \u001b[0m117      \u001b[0m | \u001b[0m0.6796   \u001b[0m | \u001b[0m0.1      \u001b[0m | \u001b[0m33.54    \u001b[0m | \u001b[0m10.35    \u001b[0m | \u001b[0m0.0001   \u001b[0m | \u001b[0m0.01     \u001b[0m | \u001b[0m1.0      \u001b[0m | \u001b[0m2.0      \u001b[0m | \u001b[0m5.0      \u001b[0m | \u001b[0m15.0     \u001b[0m | \u001b[0m2.0      \u001b[0m |\n",
      "| \u001b[0m118      \u001b[0m | \u001b[0m0.7908   \u001b[0m | \u001b[0m0.1      \u001b[0m | \u001b[0m90.48    \u001b[0m | \u001b[0m1.0      \u001b[0m | \u001b[0m0.0001   \u001b[0m | \u001b[0m0.001    \u001b[0m | \u001b[0m1.0      \u001b[0m | \u001b[0m16.0     \u001b[0m | \u001b[0m5.0      \u001b[0m | \u001b[0m15.0     \u001b[0m | \u001b[0m16.0     \u001b[0m |\n",
      "| \u001b[0m119      \u001b[0m | \u001b[0m0.749    \u001b[0m | \u001b[0m0.1      \u001b[0m | \u001b[0m91.49    \u001b[0m | \u001b[0m17.03    \u001b[0m | \u001b[0m0.0001   \u001b[0m | \u001b[0m0.001    \u001b[0m | \u001b[0m1.0      \u001b[0m | \u001b[0m16.0     \u001b[0m | \u001b[0m5.0      \u001b[0m | \u001b[0m15.0     \u001b[0m | \u001b[0m16.0     \u001b[0m |\n",
      "| \u001b[0m120      \u001b[0m | \u001b[0m0.6796   \u001b[0m | \u001b[0m0.1      \u001b[0m | \u001b[0m87.72    \u001b[0m | \u001b[0m1.0      \u001b[0m | \u001b[0m0.001    \u001b[0m | \u001b[0m0.001    \u001b[0m | \u001b[0m1.0      \u001b[0m | \u001b[0m7.197    \u001b[0m | \u001b[0m5.0      \u001b[0m | \u001b[0m15.0     \u001b[0m | \u001b[0m16.0     \u001b[0m |\n",
      "| \u001b[0m121      \u001b[0m | \u001b[0m0.7469   \u001b[0m | \u001b[0m0.1      \u001b[0m | \u001b[0m32.89    \u001b[0m | \u001b[0m12.32    \u001b[0m | \u001b[0m0.001    \u001b[0m | \u001b[0m0.01     \u001b[0m | \u001b[0m1.0      \u001b[0m | \u001b[0m16.0     \u001b[0m | \u001b[0m1.0      \u001b[0m | \u001b[0m5.0      \u001b[0m | \u001b[0m2.0      \u001b[0m |\n",
      "| \u001b[0m122      \u001b[0m | \u001b[0m0.6796   \u001b[0m | \u001b[0m0.5      \u001b[0m | \u001b[0m33.29    \u001b[0m | \u001b[0m1.0      \u001b[0m | \u001b[0m0.001    \u001b[0m | \u001b[0m0.001    \u001b[0m | \u001b[0m1.0      \u001b[0m | \u001b[0m8.778    \u001b[0m | \u001b[0m5.0      \u001b[0m | \u001b[0m7.882    \u001b[0m | \u001b[0m10.26    \u001b[0m |\n",
      "| \u001b[0m123      \u001b[0m | \u001b[0m0.6796   \u001b[0m | \u001b[0m0.1      \u001b[0m | \u001b[0m42.79    \u001b[0m | \u001b[0m1.0      \u001b[0m | \u001b[0m0.001    \u001b[0m | \u001b[0m0.01     \u001b[0m | \u001b[0m1.0      \u001b[0m | \u001b[0m2.0      \u001b[0m | \u001b[0m1.0      \u001b[0m | \u001b[0m15.0     \u001b[0m | \u001b[0m2.0      \u001b[0m |\n",
      "| \u001b[0m124      \u001b[0m | \u001b[0m0.6949   \u001b[0m | \u001b[0m0.5      \u001b[0m | \u001b[0m128.0    \u001b[0m | \u001b[0m1.0      \u001b[0m | \u001b[0m0.0001   \u001b[0m | \u001b[0m0.001    \u001b[0m | \u001b[0m1.0      \u001b[0m | \u001b[0m16.0     \u001b[0m | \u001b[0m5.0      \u001b[0m | \u001b[0m15.0     \u001b[0m | \u001b[0m16.0     \u001b[0m |\n",
      "| \u001b[0m125      \u001b[0m | \u001b[0m0.6796   \u001b[0m | \u001b[0m0.1      \u001b[0m | \u001b[0m128.0    \u001b[0m | \u001b[0m1.0      \u001b[0m | \u001b[0m0.001    \u001b[0m | \u001b[0m0.001    \u001b[0m | \u001b[0m1.0      \u001b[0m | \u001b[0m2.0      \u001b[0m | \u001b[0m1.0      \u001b[0m | \u001b[0m15.0     \u001b[0m | \u001b[0m2.0      \u001b[0m |\n",
      "| \u001b[0m126      \u001b[0m | \u001b[0m0.0      \u001b[0m | \u001b[0m0.3211   \u001b[0m | \u001b[0m127.2    \u001b[0m | \u001b[0m3.239    \u001b[0m | \u001b[0m0.0009125\u001b[0m | \u001b[0m0.009339 \u001b[0m | \u001b[0m3.901    \u001b[0m | \u001b[0m2.459    \u001b[0m | \u001b[0m4.197    \u001b[0m | \u001b[0m12.77    \u001b[0m | \u001b[0m14.28    \u001b[0m |\n",
      "| \u001b[0m127      \u001b[0m | \u001b[0m0.0      \u001b[0m | \u001b[0m0.1      \u001b[0m | \u001b[0m100.2    \u001b[0m | \u001b[0m31.0     \u001b[0m | \u001b[0m0.001    \u001b[0m | \u001b[0m0.01     \u001b[0m | \u001b[0m5.0      \u001b[0m | \u001b[0m16.0     \u001b[0m | \u001b[0m1.0      \u001b[0m | \u001b[0m15.0     \u001b[0m | \u001b[0m12.42    \u001b[0m |\n",
      "| \u001b[0m128      \u001b[0m | \u001b[0m0.8102   \u001b[0m | \u001b[0m0.1      \u001b[0m | \u001b[0m89.35    \u001b[0m | \u001b[0m25.3     \u001b[0m | \u001b[0m0.001    \u001b[0m | \u001b[0m0.001    \u001b[0m | \u001b[0m1.0      \u001b[0m | \u001b[0m16.0     \u001b[0m | \u001b[0m1.0      \u001b[0m | \u001b[0m15.0     \u001b[0m | \u001b[0m16.0     \u001b[0m |\n",
      "| \u001b[0m129      \u001b[0m | \u001b[0m0.7622   \u001b[0m | \u001b[0m0.5      \u001b[0m | \u001b[0m93.93    \u001b[0m | \u001b[0m25.14    \u001b[0m | \u001b[0m0.001    \u001b[0m | \u001b[0m0.001    \u001b[0m | \u001b[0m1.0      \u001b[0m | \u001b[0m10.09    \u001b[0m | \u001b[0m1.0      \u001b[0m | \u001b[0m15.0     \u001b[0m | \u001b[0m16.0     \u001b[0m |\n",
      "| \u001b[0m130      \u001b[0m | \u001b[0m0.6888   \u001b[0m | \u001b[0m0.5      \u001b[0m | \u001b[0m128.0    \u001b[0m | \u001b[0m1.0      \u001b[0m | \u001b[0m0.0001   \u001b[0m | \u001b[0m0.01     \u001b[0m | \u001b[0m1.0      \u001b[0m | \u001b[0m16.0     \u001b[0m | \u001b[0m1.0      \u001b[0m | \u001b[0m15.0     \u001b[0m | \u001b[0m2.0      \u001b[0m |\n",
      "| \u001b[0m131      \u001b[0m | \u001b[0m0.7796   \u001b[0m | \u001b[0m0.1      \u001b[0m | \u001b[0m99.65    \u001b[0m | \u001b[0m31.0     \u001b[0m | \u001b[0m0.0001   \u001b[0m | \u001b[0m0.001    \u001b[0m | \u001b[0m1.0      \u001b[0m | \u001b[0m8.415    \u001b[0m | \u001b[0m1.0      \u001b[0m | \u001b[0m15.0     \u001b[0m | \u001b[0m2.0      \u001b[0m |\n",
      "| \u001b[0m132      \u001b[0m | \u001b[0m0.6      \u001b[0m | \u001b[0m0.1      \u001b[0m | \u001b[0m36.13    \u001b[0m | \u001b[0m14.11    \u001b[0m | \u001b[0m0.0001   \u001b[0m | \u001b[0m0.01     \u001b[0m | \u001b[0m1.0      \u001b[0m | \u001b[0m16.0     \u001b[0m | \u001b[0m5.0      \u001b[0m | \u001b[0m15.0     \u001b[0m | \u001b[0m2.0      \u001b[0m |\n",
      "| \u001b[0m133      \u001b[0m | \u001b[0m0.0      \u001b[0m | \u001b[0m0.1      \u001b[0m | \u001b[0m85.35    \u001b[0m | \u001b[0m1.0      \u001b[0m | \u001b[0m0.0001   \u001b[0m | \u001b[0m0.001    \u001b[0m | \u001b[0m5.0      \u001b[0m | \u001b[0m16.0     \u001b[0m | \u001b[0m1.0      \u001b[0m | \u001b[0m15.0     \u001b[0m | \u001b[0m16.0     \u001b[0m |\n",
      "| \u001b[0m134      \u001b[0m | \u001b[0m0.6796   \u001b[0m | \u001b[0m0.1      \u001b[0m | \u001b[0m99.06    \u001b[0m | \u001b[0m1.0      \u001b[0m | \u001b[0m0.001    \u001b[0m | \u001b[0m0.001    \u001b[0m | \u001b[0m1.0      \u001b[0m | \u001b[0m16.0     \u001b[0m | \u001b[0m5.0      \u001b[0m | \u001b[0m15.0     \u001b[0m | \u001b[0m16.0     \u001b[0m |\n",
      "| \u001b[0m135      \u001b[0m | \u001b[0m0.6796   \u001b[0m | \u001b[0m0.1      \u001b[0m | \u001b[0m93.72    \u001b[0m | \u001b[0m1.0      \u001b[0m | \u001b[0m0.0001   \u001b[0m | \u001b[0m0.001    \u001b[0m | \u001b[0m1.0      \u001b[0m | \u001b[0m16.0     \u001b[0m | \u001b[0m5.0      \u001b[0m | \u001b[0m5.0      \u001b[0m | \u001b[0m16.0     \u001b[0m |\n",
      "| \u001b[0m136      \u001b[0m | \u001b[0m0.8112   \u001b[0m | \u001b[0m0.1      \u001b[0m | \u001b[0m76.69    \u001b[0m | \u001b[0m5.325    \u001b[0m | \u001b[0m0.001    \u001b[0m | \u001b[0m0.001    \u001b[0m | \u001b[0m1.0      \u001b[0m | \u001b[0m16.0     \u001b[0m | \u001b[0m5.0      \u001b[0m | \u001b[0m15.0     \u001b[0m | \u001b[0m8.163    \u001b[0m |\n",
      "| \u001b[0m137      \u001b[0m | \u001b[0m0.6796   \u001b[0m | \u001b[0m0.5      \u001b[0m | \u001b[0m80.98    \u001b[0m | \u001b[0m11.77    \u001b[0m | \u001b[0m0.001    \u001b[0m | \u001b[0m0.009217 \u001b[0m | \u001b[0m1.0      \u001b[0m | \u001b[0m16.0     \u001b[0m | \u001b[0m5.0      \u001b[0m | \u001b[0m15.0     \u001b[0m | \u001b[0m16.0     \u001b[0m |\n",
      "| \u001b[0m138      \u001b[0m | \u001b[0m0.6796   \u001b[0m | \u001b[0m0.5      \u001b[0m | \u001b[0m128.0    \u001b[0m | \u001b[0m1.0      \u001b[0m | \u001b[0m0.001    \u001b[0m | \u001b[0m0.001    \u001b[0m | \u001b[0m1.0      \u001b[0m | \u001b[0m16.0     \u001b[0m | \u001b[0m1.0      \u001b[0m | \u001b[0m5.0      \u001b[0m | \u001b[0m16.0     \u001b[0m |\n",
      "| \u001b[0m139      \u001b[0m | \u001b[0m0.6796   \u001b[0m | \u001b[0m0.5      \u001b[0m | \u001b[0m37.06    \u001b[0m | \u001b[0m1.0      \u001b[0m | \u001b[0m0.001    \u001b[0m | \u001b[0m0.001    \u001b[0m | \u001b[0m1.0      \u001b[0m | \u001b[0m16.0     \u001b[0m | \u001b[0m1.0      \u001b[0m | \u001b[0m5.0      \u001b[0m | \u001b[0m2.0      \u001b[0m |\n",
      "| \u001b[0m140      \u001b[0m | \u001b[0m0.6959   \u001b[0m | \u001b[0m0.1      \u001b[0m | \u001b[0m60.61    \u001b[0m | \u001b[0m1.0      \u001b[0m | \u001b[0m0.0001   \u001b[0m | \u001b[0m0.01     \u001b[0m | \u001b[0m1.0      \u001b[0m | \u001b[0m5.697    \u001b[0m | \u001b[0m1.0      \u001b[0m | \u001b[0m15.0     \u001b[0m | \u001b[0m2.0      \u001b[0m |\n",
      "| \u001b[0m141      \u001b[0m | \u001b[0m0.7969   \u001b[0m | \u001b[0m0.1      \u001b[0m | \u001b[0m55.8     \u001b[0m | \u001b[0m11.7     \u001b[0m | \u001b[0m0.001    \u001b[0m | \u001b[0m0.001    \u001b[0m | \u001b[0m1.0      \u001b[0m | \u001b[0m9.054    \u001b[0m | \u001b[0m5.0      \u001b[0m | \u001b[0m15.0     \u001b[0m | \u001b[0m2.0      \u001b[0m |\n",
      "| \u001b[0m142      \u001b[0m | \u001b[0m0.7694   \u001b[0m | \u001b[0m0.1      \u001b[0m | \u001b[0m58.15    \u001b[0m | \u001b[0m17.78    \u001b[0m | \u001b[0m0.001    \u001b[0m | \u001b[0m0.01     \u001b[0m | \u001b[0m1.0      \u001b[0m | \u001b[0m7.546    \u001b[0m | \u001b[0m1.0      \u001b[0m | \u001b[0m15.0     \u001b[0m | \u001b[0m2.0      \u001b[0m |\n"
     ]
    },
    {
     "name": "stdout",
     "output_type": "stream",
     "text": [
      "| \u001b[0m143      \u001b[0m | \u001b[0m0.6796   \u001b[0m | \u001b[0m0.1      \u001b[0m | \u001b[0m16.0     \u001b[0m | \u001b[0m31.0     \u001b[0m | \u001b[0m0.0001   \u001b[0m | \u001b[0m0.01     \u001b[0m | \u001b[0m1.0      \u001b[0m | \u001b[0m2.0      \u001b[0m | \u001b[0m5.0      \u001b[0m | \u001b[0m15.0     \u001b[0m | \u001b[0m16.0     \u001b[0m |\n",
      "| \u001b[0m144      \u001b[0m | \u001b[0m0.698    \u001b[0m | \u001b[0m0.1      \u001b[0m | \u001b[0m37.94    \u001b[0m | \u001b[0m12.36    \u001b[0m | \u001b[0m0.001    \u001b[0m | \u001b[0m0.001    \u001b[0m | \u001b[0m1.0      \u001b[0m | \u001b[0m2.0      \u001b[0m | \u001b[0m5.0      \u001b[0m | \u001b[0m15.0     \u001b[0m | \u001b[0m16.0     \u001b[0m |\n",
      "| \u001b[0m145      \u001b[0m | \u001b[0m0.8143   \u001b[0m | \u001b[0m0.1      \u001b[0m | \u001b[0m43.64    \u001b[0m | \u001b[0m31.0     \u001b[0m | \u001b[0m0.0001   \u001b[0m | \u001b[0m0.001764 \u001b[0m | \u001b[0m1.0      \u001b[0m | \u001b[0m9.005    \u001b[0m | \u001b[0m1.0      \u001b[0m | \u001b[0m15.0     \u001b[0m | \u001b[0m7.767    \u001b[0m |\n",
      "| \u001b[0m146      \u001b[0m | \u001b[0m0.0      \u001b[0m | \u001b[0m0.5      \u001b[0m | \u001b[0m128.0    \u001b[0m | \u001b[0m1.0      \u001b[0m | \u001b[0m0.0001   \u001b[0m | \u001b[0m0.007945 \u001b[0m | \u001b[0m5.0      \u001b[0m | \u001b[0m16.0     \u001b[0m | \u001b[0m1.0      \u001b[0m | \u001b[0m5.0      \u001b[0m | \u001b[0m2.0      \u001b[0m |\n",
      "| \u001b[0m147      \u001b[0m | \u001b[0m0.6796   \u001b[0m | \u001b[0m0.1      \u001b[0m | \u001b[0m34.22    \u001b[0m | \u001b[0m1.0      \u001b[0m | \u001b[0m0.0001   \u001b[0m | \u001b[0m0.01     \u001b[0m | \u001b[0m1.0      \u001b[0m | \u001b[0m2.0      \u001b[0m | \u001b[0m1.0      \u001b[0m | \u001b[0m5.0      \u001b[0m | \u001b[0m16.0     \u001b[0m |\n",
      "| \u001b[0m148      \u001b[0m | \u001b[0m0.6796   \u001b[0m | \u001b[0m0.5      \u001b[0m | \u001b[0m92.34    \u001b[0m | \u001b[0m7.8      \u001b[0m | \u001b[0m0.0001   \u001b[0m | \u001b[0m0.01     \u001b[0m | \u001b[0m1.0      \u001b[0m | \u001b[0m11.84    \u001b[0m | \u001b[0m5.0      \u001b[0m | \u001b[0m15.0     \u001b[0m | \u001b[0m16.0     \u001b[0m |\n",
      "| \u001b[0m149      \u001b[0m | \u001b[0m0.6796   \u001b[0m | \u001b[0m0.1      \u001b[0m | \u001b[0m42.37    \u001b[0m | \u001b[0m19.05    \u001b[0m | \u001b[0m0.001    \u001b[0m | \u001b[0m0.01     \u001b[0m | \u001b[0m1.0      \u001b[0m | \u001b[0m8.942    \u001b[0m | \u001b[0m5.0      \u001b[0m | \u001b[0m15.0     \u001b[0m | \u001b[0m7.774    \u001b[0m |\n",
      "| \u001b[0m150      \u001b[0m | \u001b[0m0.0      \u001b[0m | \u001b[0m0.1      \u001b[0m | \u001b[0m57.85    \u001b[0m | \u001b[0m31.0     \u001b[0m | \u001b[0m0.001    \u001b[0m | \u001b[0m0.001    \u001b[0m | \u001b[0m5.0      \u001b[0m | \u001b[0m2.0      \u001b[0m | \u001b[0m1.0      \u001b[0m | \u001b[0m15.0     \u001b[0m | \u001b[0m16.0     \u001b[0m |\n",
      "| \u001b[0m151      \u001b[0m | \u001b[0m0.7276   \u001b[0m | \u001b[0m0.5      \u001b[0m | \u001b[0m98.23    \u001b[0m | \u001b[0m27.61    \u001b[0m | \u001b[0m0.0001   \u001b[0m | \u001b[0m0.001    \u001b[0m | \u001b[0m1.0      \u001b[0m | \u001b[0m16.0     \u001b[0m | \u001b[0m5.0      \u001b[0m | \u001b[0m15.0     \u001b[0m | \u001b[0m2.0      \u001b[0m |\n",
      "| \u001b[0m152      \u001b[0m | \u001b[0m0.7888   \u001b[0m | \u001b[0m0.1      \u001b[0m | \u001b[0m44.89    \u001b[0m | \u001b[0m31.0     \u001b[0m | \u001b[0m0.001    \u001b[0m | \u001b[0m0.01     \u001b[0m | \u001b[0m1.0      \u001b[0m | \u001b[0m2.0      \u001b[0m | \u001b[0m1.0      \u001b[0m | \u001b[0m8.799    \u001b[0m | \u001b[0m10.81    \u001b[0m |\n",
      "| \u001b[0m153      \u001b[0m | \u001b[0m0.6796   \u001b[0m | \u001b[0m0.5      \u001b[0m | \u001b[0m36.18    \u001b[0m | \u001b[0m31.0     \u001b[0m | \u001b[0m0.001    \u001b[0m | \u001b[0m0.01     \u001b[0m | \u001b[0m1.0      \u001b[0m | \u001b[0m2.0      \u001b[0m | \u001b[0m5.0      \u001b[0m | \u001b[0m9.893    \u001b[0m | \u001b[0m2.0      \u001b[0m |\n",
      "| \u001b[0m154      \u001b[0m | \u001b[0m0.6796   \u001b[0m | \u001b[0m0.1      \u001b[0m | \u001b[0m54.03    \u001b[0m | \u001b[0m20.77    \u001b[0m | \u001b[0m0.0001   \u001b[0m | \u001b[0m0.01     \u001b[0m | \u001b[0m1.0      \u001b[0m | \u001b[0m2.0      \u001b[0m | \u001b[0m5.0      \u001b[0m | \u001b[0m11.23    \u001b[0m | \u001b[0m16.0     \u001b[0m |\n",
      "| \u001b[0m155      \u001b[0m | \u001b[0m0.6796   \u001b[0m | \u001b[0m0.1      \u001b[0m | \u001b[0m49.1     \u001b[0m | \u001b[0m23.61    \u001b[0m | \u001b[0m0.001    \u001b[0m | \u001b[0m0.001    \u001b[0m | \u001b[0m1.0      \u001b[0m | \u001b[0m16.0     \u001b[0m | \u001b[0m1.0      \u001b[0m | \u001b[0m6.846    \u001b[0m | \u001b[0m2.0      \u001b[0m |\n",
      "| \u001b[0m156      \u001b[0m | \u001b[0m0.6796   \u001b[0m | \u001b[0m0.5      \u001b[0m | \u001b[0m85.54    \u001b[0m | \u001b[0m1.0      \u001b[0m | \u001b[0m0.0001   \u001b[0m | \u001b[0m0.001    \u001b[0m | \u001b[0m1.0      \u001b[0m | \u001b[0m9.927    \u001b[0m | \u001b[0m5.0      \u001b[0m | \u001b[0m5.0      \u001b[0m | \u001b[0m16.0     \u001b[0m |\n",
      "| \u001b[0m157      \u001b[0m | \u001b[0m0.7959   \u001b[0m | \u001b[0m0.1      \u001b[0m | \u001b[0m56.5     \u001b[0m | \u001b[0m14.36    \u001b[0m | \u001b[0m0.001    \u001b[0m | \u001b[0m0.001    \u001b[0m | \u001b[0m1.0      \u001b[0m | \u001b[0m12.26    \u001b[0m | \u001b[0m1.0      \u001b[0m | \u001b[0m15.0     \u001b[0m | \u001b[0m11.32    \u001b[0m |\n",
      "| \u001b[0m158      \u001b[0m | \u001b[0m0.6796   \u001b[0m | \u001b[0m0.1      \u001b[0m | \u001b[0m61.66    \u001b[0m | \u001b[0m1.0      \u001b[0m | \u001b[0m0.001    \u001b[0m | \u001b[0m0.001    \u001b[0m | \u001b[0m1.0      \u001b[0m | \u001b[0m16.0     \u001b[0m | \u001b[0m1.0      \u001b[0m | \u001b[0m5.0      \u001b[0m | \u001b[0m2.0      \u001b[0m |\n",
      "| \u001b[0m159      \u001b[0m | \u001b[0m0.6796   \u001b[0m | \u001b[0m0.1      \u001b[0m | \u001b[0m30.89    \u001b[0m | \u001b[0m8.517    \u001b[0m | \u001b[0m0.0001   \u001b[0m | \u001b[0m0.001    \u001b[0m | \u001b[0m1.0      \u001b[0m | \u001b[0m8.376    \u001b[0m | \u001b[0m1.0      \u001b[0m | \u001b[0m5.0      \u001b[0m | \u001b[0m2.0      \u001b[0m |\n",
      "| \u001b[0m160      \u001b[0m | \u001b[0m0.7888   \u001b[0m | \u001b[0m0.1      \u001b[0m | \u001b[0m27.41    \u001b[0m | \u001b[0m31.0     \u001b[0m | \u001b[0m0.001    \u001b[0m | \u001b[0m0.001    \u001b[0m | \u001b[0m1.0      \u001b[0m | \u001b[0m16.0     \u001b[0m | \u001b[0m1.0      \u001b[0m | \u001b[0m15.0     \u001b[0m | \u001b[0m2.0      \u001b[0m |\n",
      "| \u001b[0m161      \u001b[0m | \u001b[0m0.0      \u001b[0m | \u001b[0m0.1      \u001b[0m | \u001b[0m31.54    \u001b[0m | \u001b[0m1.0      \u001b[0m | \u001b[0m0.0001   \u001b[0m | \u001b[0m0.01     \u001b[0m | \u001b[0m5.0      \u001b[0m | \u001b[0m16.0     \u001b[0m | \u001b[0m1.0      \u001b[0m | \u001b[0m10.87    \u001b[0m | \u001b[0m10.31    \u001b[0m |\n",
      "| \u001b[0m162      \u001b[0m | \u001b[0m0.6796   \u001b[0m | \u001b[0m0.1      \u001b[0m | \u001b[0m97.81    \u001b[0m | \u001b[0m31.0     \u001b[0m | \u001b[0m0.001    \u001b[0m | \u001b[0m0.001    \u001b[0m | \u001b[0m1.0      \u001b[0m | \u001b[0m16.0     \u001b[0m | \u001b[0m1.0      \u001b[0m | \u001b[0m6.802    \u001b[0m | \u001b[0m2.0      \u001b[0m |\n",
      "| \u001b[0m163      \u001b[0m | \u001b[0m0.6796   \u001b[0m | \u001b[0m0.5      \u001b[0m | \u001b[0m16.0     \u001b[0m | \u001b[0m31.0     \u001b[0m | \u001b[0m0.0001   \u001b[0m | \u001b[0m0.001    \u001b[0m | \u001b[0m1.0      \u001b[0m | \u001b[0m2.0      \u001b[0m | \u001b[0m5.0      \u001b[0m | \u001b[0m5.0      \u001b[0m | \u001b[0m16.0     \u001b[0m |\n",
      "| \u001b[0m164      \u001b[0m | \u001b[0m0.7776   \u001b[0m | \u001b[0m0.1      \u001b[0m | \u001b[0m16.0     \u001b[0m | \u001b[0m31.0     \u001b[0m | \u001b[0m0.0001   \u001b[0m | \u001b[0m0.001    \u001b[0m | \u001b[0m1.0      \u001b[0m | \u001b[0m2.0      \u001b[0m | \u001b[0m1.0      \u001b[0m | \u001b[0m15.0     \u001b[0m | \u001b[0m2.0      \u001b[0m |\n",
      "| \u001b[0m165      \u001b[0m | \u001b[0m0.7194   \u001b[0m | \u001b[0m0.1      \u001b[0m | \u001b[0m27.96    \u001b[0m | \u001b[0m22.08    \u001b[0m | \u001b[0m0.0001   \u001b[0m | \u001b[0m0.001    \u001b[0m | \u001b[0m1.0      \u001b[0m | \u001b[0m2.0      \u001b[0m | \u001b[0m1.0      \u001b[0m | \u001b[0m15.0     \u001b[0m | \u001b[0m2.0      \u001b[0m |\n",
      "| \u001b[0m166      \u001b[0m | \u001b[0m0.6918   \u001b[0m | \u001b[0m0.5      \u001b[0m | \u001b[0m22.74    \u001b[0m | \u001b[0m31.0     \u001b[0m | \u001b[0m0.001    \u001b[0m | \u001b[0m0.001    \u001b[0m | \u001b[0m1.0      \u001b[0m | \u001b[0m2.0      \u001b[0m | \u001b[0m5.0      \u001b[0m | \u001b[0m15.0     \u001b[0m | \u001b[0m7.447    \u001b[0m |\n",
      "| \u001b[0m167      \u001b[0m | \u001b[0m0.6796   \u001b[0m | \u001b[0m0.5      \u001b[0m | \u001b[0m57.27    \u001b[0m | \u001b[0m12.66    \u001b[0m | \u001b[0m0.0001   \u001b[0m | \u001b[0m0.001    \u001b[0m | \u001b[0m1.0      \u001b[0m | \u001b[0m16.0     \u001b[0m | \u001b[0m5.0      \u001b[0m | \u001b[0m6.581    \u001b[0m | \u001b[0m2.0      \u001b[0m |\n",
      "| \u001b[0m168      \u001b[0m | \u001b[0m0.7776   \u001b[0m | \u001b[0m0.1      \u001b[0m | \u001b[0m22.65    \u001b[0m | \u001b[0m31.0     \u001b[0m | \u001b[0m0.0001   \u001b[0m | \u001b[0m0.001    \u001b[0m | \u001b[0m1.0      \u001b[0m | \u001b[0m8.797    \u001b[0m | \u001b[0m1.0      \u001b[0m | \u001b[0m15.0     \u001b[0m | \u001b[0m2.0      \u001b[0m |\n",
      "| \u001b[0m169      \u001b[0m | \u001b[0m0.6796   \u001b[0m | \u001b[0m0.5      \u001b[0m | \u001b[0m42.35    \u001b[0m | \u001b[0m1.0      \u001b[0m | \u001b[0m0.001    \u001b[0m | \u001b[0m0.001    \u001b[0m | \u001b[0m1.0      \u001b[0m | \u001b[0m2.0      \u001b[0m | \u001b[0m1.0      \u001b[0m | \u001b[0m15.0     \u001b[0m | \u001b[0m16.0     \u001b[0m |\n",
      "| \u001b[0m170      \u001b[0m | \u001b[0m0.6796   \u001b[0m | \u001b[0m0.1      \u001b[0m | \u001b[0m35.17    \u001b[0m | \u001b[0m19.98    \u001b[0m | \u001b[0m0.0001   \u001b[0m | \u001b[0m0.001    \u001b[0m | \u001b[0m1.0      \u001b[0m | \u001b[0m10.38    \u001b[0m | \u001b[0m1.0      \u001b[0m | \u001b[0m5.0      \u001b[0m | \u001b[0m2.0      \u001b[0m |\n",
      "| \u001b[0m171      \u001b[0m | \u001b[0m0.7439   \u001b[0m | \u001b[0m0.5      \u001b[0m | \u001b[0m50.45    \u001b[0m | \u001b[0m15.31    \u001b[0m | \u001b[0m0.001    \u001b[0m | \u001b[0m0.001    \u001b[0m | \u001b[0m1.0      \u001b[0m | \u001b[0m16.0     \u001b[0m | \u001b[0m1.0      \u001b[0m | \u001b[0m15.0     \u001b[0m | \u001b[0m2.0      \u001b[0m |\n",
      "| \u001b[0m172      \u001b[0m | \u001b[0m0.6796   \u001b[0m | \u001b[0m0.1      \u001b[0m | \u001b[0m16.0     \u001b[0m | \u001b[0m31.0     \u001b[0m | \u001b[0m0.0009694\u001b[0m | \u001b[0m0.001    \u001b[0m | \u001b[0m1.0      \u001b[0m | \u001b[0m16.0     \u001b[0m | \u001b[0m1.0      \u001b[0m | \u001b[0m5.0      \u001b[0m | \u001b[0m2.0      \u001b[0m |\n",
      "| \u001b[0m173      \u001b[0m | \u001b[0m0.7755   \u001b[0m | \u001b[0m0.1      \u001b[0m | \u001b[0m42.65    \u001b[0m | \u001b[0m25.93    \u001b[0m | \u001b[0m0.001    \u001b[0m | \u001b[0m0.01     \u001b[0m | \u001b[0m1.0      \u001b[0m | \u001b[0m16.0     \u001b[0m | \u001b[0m1.0      \u001b[0m | \u001b[0m15.0     \u001b[0m | \u001b[0m2.0      \u001b[0m |\n",
      "| \u001b[0m174      \u001b[0m | \u001b[0m0.6796   \u001b[0m | \u001b[0m0.3037   \u001b[0m | \u001b[0m16.67    \u001b[0m | \u001b[0m30.95    \u001b[0m | \u001b[0m0.0009354\u001b[0m | \u001b[0m0.008705 \u001b[0m | \u001b[0m1.233    \u001b[0m | \u001b[0m6.539    \u001b[0m | \u001b[0m4.86     \u001b[0m | \u001b[0m6.805    \u001b[0m | \u001b[0m2.825    \u001b[0m |\n",
      "| \u001b[0m175      \u001b[0m | \u001b[0m0.6796   \u001b[0m | \u001b[0m0.5      \u001b[0m | \u001b[0m38.24    \u001b[0m | \u001b[0m6.377    \u001b[0m | \u001b[0m0.001    \u001b[0m | \u001b[0m0.001    \u001b[0m | \u001b[0m1.0      \u001b[0m | \u001b[0m10.21    \u001b[0m | \u001b[0m1.0      \u001b[0m | \u001b[0m15.0     \u001b[0m | \u001b[0m2.0      \u001b[0m |\n",
      "| \u001b[0m176      \u001b[0m | \u001b[0m0.6796   \u001b[0m | \u001b[0m0.1      \u001b[0m | \u001b[0m86.75    \u001b[0m | \u001b[0m6.779    \u001b[0m | \u001b[0m0.001    \u001b[0m | \u001b[0m0.001    \u001b[0m | \u001b[0m1.0      \u001b[0m | \u001b[0m16.0     \u001b[0m | \u001b[0m5.0      \u001b[0m | \u001b[0m10.31    \u001b[0m | \u001b[0m11.42    \u001b[0m |\n"
     ]
    },
    {
     "name": "stdout",
     "output_type": "stream",
     "text": [
      "| \u001b[0m177      \u001b[0m | \u001b[0m0.6796   \u001b[0m | \u001b[0m0.5      \u001b[0m | \u001b[0m43.29    \u001b[0m | \u001b[0m31.0     \u001b[0m | \u001b[0m0.0001   \u001b[0m | \u001b[0m0.001    \u001b[0m | \u001b[0m1.0      \u001b[0m | \u001b[0m2.0      \u001b[0m | \u001b[0m5.0      \u001b[0m | \u001b[0m15.0     \u001b[0m | \u001b[0m16.0     \u001b[0m |\n",
      "| \u001b[0m178      \u001b[0m | \u001b[0m0.8      \u001b[0m | \u001b[0m0.1      \u001b[0m | \u001b[0m63.53    \u001b[0m | \u001b[0m9.558    \u001b[0m | \u001b[0m0.0001   \u001b[0m | \u001b[0m0.01     \u001b[0m | \u001b[0m1.0      \u001b[0m | \u001b[0m9.796    \u001b[0m | \u001b[0m1.0      \u001b[0m | \u001b[0m15.0     \u001b[0m | \u001b[0m2.0      \u001b[0m |\n",
      "| \u001b[0m179      \u001b[0m | \u001b[0m0.6796   \u001b[0m | \u001b[0m0.1      \u001b[0m | \u001b[0m91.25    \u001b[0m | \u001b[0m31.0     \u001b[0m | \u001b[0m0.001    \u001b[0m | \u001b[0m0.001    \u001b[0m | \u001b[0m1.0      \u001b[0m | \u001b[0m16.0     \u001b[0m | \u001b[0m1.0      \u001b[0m | \u001b[0m5.556    \u001b[0m | \u001b[0m16.0     \u001b[0m |\n",
      "| \u001b[0m180      \u001b[0m | \u001b[0m0.6796   \u001b[0m | \u001b[0m0.5      \u001b[0m | \u001b[0m30.64    \u001b[0m | \u001b[0m11.04    \u001b[0m | \u001b[0m0.001    \u001b[0m | \u001b[0m0.001    \u001b[0m | \u001b[0m1.0      \u001b[0m | \u001b[0m2.0      \u001b[0m | \u001b[0m5.0      \u001b[0m | \u001b[0m5.0      \u001b[0m | \u001b[0m16.0     \u001b[0m |\n",
      "| \u001b[0m181      \u001b[0m | \u001b[0m0.6796   \u001b[0m | \u001b[0m0.1      \u001b[0m | \u001b[0m116.7    \u001b[0m | \u001b[0m1.0      \u001b[0m | \u001b[0m0.001    \u001b[0m | \u001b[0m0.001    \u001b[0m | \u001b[0m1.0      \u001b[0m | \u001b[0m16.0     \u001b[0m | \u001b[0m5.0      \u001b[0m | \u001b[0m15.0     \u001b[0m | \u001b[0m16.0     \u001b[0m |\n",
      "| \u001b[0m182      \u001b[0m | \u001b[0m0.0      \u001b[0m | \u001b[0m0.1      \u001b[0m | \u001b[0m16.0     \u001b[0m | \u001b[0m31.0     \u001b[0m | \u001b[0m0.0001   \u001b[0m | \u001b[0m0.007962 \u001b[0m | \u001b[0m5.0      \u001b[0m | \u001b[0m2.0      \u001b[0m | \u001b[0m1.0      \u001b[0m | \u001b[0m5.0      \u001b[0m | \u001b[0m2.0      \u001b[0m |\n",
      "| \u001b[0m183      \u001b[0m | \u001b[0m0.6796   \u001b[0m | \u001b[0m0.5      \u001b[0m | \u001b[0m91.72    \u001b[0m | \u001b[0m20.44    \u001b[0m | \u001b[0m0.001    \u001b[0m | \u001b[0m0.001    \u001b[0m | \u001b[0m1.0      \u001b[0m | \u001b[0m16.0     \u001b[0m | \u001b[0m1.0      \u001b[0m | \u001b[0m7.572    \u001b[0m | \u001b[0m16.0     \u001b[0m |\n",
      "| \u001b[95m184      \u001b[0m | \u001b[95m0.8255   \u001b[0m | \u001b[95m0.1      \u001b[0m | \u001b[95m16.0     \u001b[0m | \u001b[95m31.0     \u001b[0m | \u001b[95m0.001    \u001b[0m | \u001b[95m0.001    \u001b[0m | \u001b[95m1.0      \u001b[0m | \u001b[95m16.0     \u001b[0m | \u001b[95m5.0      \u001b[0m | \u001b[95m15.0     \u001b[0m | \u001b[95m2.0      \u001b[0m |\n",
      "| \u001b[0m185      \u001b[0m | \u001b[0m0.0      \u001b[0m | \u001b[0m0.2566   \u001b[0m | \u001b[0m19.25    \u001b[0m | \u001b[0m30.92    \u001b[0m | \u001b[0m0.0009435\u001b[0m | \u001b[0m0.00885  \u001b[0m | \u001b[0m2.567    \u001b[0m | \u001b[0m14.5     \u001b[0m | \u001b[0m1.212    \u001b[0m | \u001b[0m14.87    \u001b[0m | \u001b[0m14.96    \u001b[0m |\n",
      "| \u001b[0m186      \u001b[0m | \u001b[0m0.3204   \u001b[0m | \u001b[0m0.1      \u001b[0m | \u001b[0m16.0     \u001b[0m | \u001b[0m31.0     \u001b[0m | \u001b[0m0.0001   \u001b[0m | \u001b[0m0.01     \u001b[0m | \u001b[0m1.0      \u001b[0m | \u001b[0m7.941    \u001b[0m | \u001b[0m5.0      \u001b[0m | \u001b[0m15.0     \u001b[0m | \u001b[0m2.0      \u001b[0m |\n",
      "| \u001b[0m187      \u001b[0m | \u001b[0m0.7408   \u001b[0m | \u001b[0m0.1      \u001b[0m | \u001b[0m21.91    \u001b[0m | \u001b[0m31.0     \u001b[0m | \u001b[0m0.001    \u001b[0m | \u001b[0m0.001    \u001b[0m | \u001b[0m1.0      \u001b[0m | \u001b[0m12.93    \u001b[0m | \u001b[0m5.0      \u001b[0m | \u001b[0m5.0      \u001b[0m | \u001b[0m2.0      \u001b[0m |\n",
      "| \u001b[0m188      \u001b[0m | \u001b[0m0.7959   \u001b[0m | \u001b[0m0.1      \u001b[0m | \u001b[0m128.0    \u001b[0m | \u001b[0m31.0     \u001b[0m | \u001b[0m0.0001   \u001b[0m | \u001b[0m0.001    \u001b[0m | \u001b[0m1.0      \u001b[0m | \u001b[0m16.0     \u001b[0m | \u001b[0m1.0      \u001b[0m | \u001b[0m15.0     \u001b[0m | \u001b[0m16.0     \u001b[0m |\n",
      "| \u001b[0m189      \u001b[0m | \u001b[0m0.0      \u001b[0m | \u001b[0m0.1      \u001b[0m | \u001b[0m128.0    \u001b[0m | \u001b[0m31.0     \u001b[0m | \u001b[0m0.0001   \u001b[0m | \u001b[0m0.001    \u001b[0m | \u001b[0m5.0      \u001b[0m | \u001b[0m16.0     \u001b[0m | \u001b[0m1.0      \u001b[0m | \u001b[0m15.0     \u001b[0m | \u001b[0m8.436    \u001b[0m |\n",
      "| \u001b[0m190      \u001b[0m | \u001b[0m0.6939   \u001b[0m | \u001b[0m0.5      \u001b[0m | \u001b[0m22.46    \u001b[0m | \u001b[0m31.0     \u001b[0m | \u001b[0m0.0001   \u001b[0m | \u001b[0m0.001    \u001b[0m | \u001b[0m1.0      \u001b[0m | \u001b[0m16.0     \u001b[0m | \u001b[0m5.0      \u001b[0m | \u001b[0m12.0     \u001b[0m | \u001b[0m2.0      \u001b[0m |\n",
      "| \u001b[0m191      \u001b[0m | \u001b[0m0.6796   \u001b[0m | \u001b[0m0.5      \u001b[0m | \u001b[0m34.02    \u001b[0m | \u001b[0m7.777    \u001b[0m | \u001b[0m0.001    \u001b[0m | \u001b[0m0.001    \u001b[0m | \u001b[0m1.0      \u001b[0m | \u001b[0m2.0      \u001b[0m | \u001b[0m1.0      \u001b[0m | \u001b[0m10.38    \u001b[0m | \u001b[0m9.366    \u001b[0m |\n",
      "| \u001b[0m192      \u001b[0m | \u001b[0m0.7112   \u001b[0m | \u001b[0m0.1      \u001b[0m | \u001b[0m87.4     \u001b[0m | \u001b[0m1.0      \u001b[0m | \u001b[0m0.0001   \u001b[0m | \u001b[0m0.001    \u001b[0m | \u001b[0m1.0      \u001b[0m | \u001b[0m8.945    \u001b[0m | \u001b[0m1.0      \u001b[0m | \u001b[0m15.0     \u001b[0m | \u001b[0m2.0      \u001b[0m |\n",
      "| \u001b[0m193      \u001b[0m | \u001b[0m0.7316   \u001b[0m | \u001b[0m0.1      \u001b[0m | \u001b[0m45.86    \u001b[0m | \u001b[0m31.0     \u001b[0m | \u001b[0m0.001    \u001b[0m | \u001b[0m0.01     \u001b[0m | \u001b[0m1.0      \u001b[0m | \u001b[0m3.904    \u001b[0m | \u001b[0m5.0      \u001b[0m | \u001b[0m15.0     \u001b[0m | \u001b[0m7.054    \u001b[0m |\n",
      "| \u001b[0m194      \u001b[0m | \u001b[0m0.7378   \u001b[0m | \u001b[0m0.1      \u001b[0m | \u001b[0m49.26    \u001b[0m | \u001b[0m31.0     \u001b[0m | \u001b[0m0.001    \u001b[0m | \u001b[0m0.01     \u001b[0m | \u001b[0m1.0      \u001b[0m | \u001b[0m9.938    \u001b[0m | \u001b[0m1.0      \u001b[0m | \u001b[0m7.62     \u001b[0m | \u001b[0m9.798    \u001b[0m |\n",
      "| \u001b[0m195      \u001b[0m | \u001b[0m0.6796   \u001b[0m | \u001b[0m0.1      \u001b[0m | \u001b[0m52.66    \u001b[0m | \u001b[0m1.0      \u001b[0m | \u001b[0m0.0001   \u001b[0m | \u001b[0m0.001    \u001b[0m | \u001b[0m1.0      \u001b[0m | \u001b[0m2.0      \u001b[0m | \u001b[0m5.0      \u001b[0m | \u001b[0m15.0     \u001b[0m | \u001b[0m2.0      \u001b[0m |\n",
      "| \u001b[0m196      \u001b[0m | \u001b[0m0.7673   \u001b[0m | \u001b[0m0.5      \u001b[0m | \u001b[0m89.1     \u001b[0m | \u001b[0m17.59    \u001b[0m | \u001b[0m0.001    \u001b[0m | \u001b[0m0.01     \u001b[0m | \u001b[0m1.0      \u001b[0m | \u001b[0m16.0     \u001b[0m | \u001b[0m1.0      \u001b[0m | \u001b[0m15.0     \u001b[0m | \u001b[0m9.004    \u001b[0m |\n",
      "| \u001b[0m197      \u001b[0m | \u001b[0m0.6796   \u001b[0m | \u001b[0m0.1      \u001b[0m | \u001b[0m16.0     \u001b[0m | \u001b[0m1.0      \u001b[0m | \u001b[0m0.0001   \u001b[0m | \u001b[0m0.001    \u001b[0m | \u001b[0m1.0      \u001b[0m | \u001b[0m16.0     \u001b[0m | \u001b[0m5.0      \u001b[0m | \u001b[0m5.0      \u001b[0m | \u001b[0m2.0      \u001b[0m |\n",
      "| \u001b[0m198      \u001b[0m | \u001b[0m0.6796   \u001b[0m | \u001b[0m0.1      \u001b[0m | \u001b[0m65.77    \u001b[0m | \u001b[0m23.48    \u001b[0m | \u001b[0m0.0001   \u001b[0m | \u001b[0m0.001    \u001b[0m | \u001b[0m1.0      \u001b[0m | \u001b[0m2.0      \u001b[0m | \u001b[0m5.0      \u001b[0m | \u001b[0m5.0      \u001b[0m | \u001b[0m16.0     \u001b[0m |\n",
      "| \u001b[0m199      \u001b[0m | \u001b[0m0.6796   \u001b[0m | \u001b[0m0.5      \u001b[0m | \u001b[0m128.0    \u001b[0m | \u001b[0m31.0     \u001b[0m | \u001b[0m0.001    \u001b[0m | \u001b[0m0.01     \u001b[0m | \u001b[0m1.0      \u001b[0m | \u001b[0m16.0     \u001b[0m | \u001b[0m5.0      \u001b[0m | \u001b[0m5.0      \u001b[0m | \u001b[0m16.0     \u001b[0m |\n",
      "| \u001b[95m200      \u001b[0m | \u001b[95m0.8347   \u001b[0m | \u001b[95m0.1      \u001b[0m | \u001b[95m47.3     \u001b[0m | \u001b[95m31.0     \u001b[0m | \u001b[95m0.001    \u001b[0m | \u001b[95m0.001    \u001b[0m | \u001b[95m1.0      \u001b[0m | \u001b[95m16.0     \u001b[0m | \u001b[95m1.0      \u001b[0m | \u001b[95m15.0     \u001b[0m | \u001b[95m9.814    \u001b[0m |\n",
      "=================================================================================================================================================\n",
      "Iteration 0: \n",
      "\t{'target': 0.0, 'params': {'dropout_rate': 0.24670968169947868, 'hidden_size': 43.900590374593385, 'kernel_index': 10.505329644151788, 'l2_reg': 0.0007434722303727284, 'learning_rate': 0.006051971151124596, 'num_cnn_layers': 2.2641414734518324, 'num_filters': 14.538494874931384, 'num_mlp_layers': 1.489342048798822, 'num_of_epochs': 6.080009620665915, 'pool_size': 13.604572364747716}}\n",
      "Iteration 1: \n",
      "\t{'target': 0.0, 'params': {'dropout_rate': 0.2994271042744945, 'hidden_size': 44.984828160526476, 'kernel_index': 12.25593253366123, 'l2_reg': 0.0005871496964660432, 'learning_rate': 0.0038088736392143684, 'num_cnn_layers': 4.598721804237483, 'num_filters': 7.058419046537871, 'num_mlp_layers': 3.2426376345386547, 'num_of_epochs': 7.270257893808386, 'pool_size': 3.8838612616688737}}\n",
      "Iteration 2: \n",
      "\t{'target': 0.0, 'params': {'dropout_rate': 0.4555230441538821, 'hidden_size': 39.91592338695873, 'kernel_index': 23.262897080196367, 'l2_reg': 0.0006037444966511391, 'learning_rate': 0.007255280404574289, 'num_cnn_layers': 3.9185296697640974, 'num_filters': 14.322018402344908, 'num_mlp_layers': 4.513679957343655, 'num_of_epochs': 6.012792785589363, 'pool_size': 10.932654118093211}}\n",
      "Iteration 3: \n",
      "\t{'target': 0.7316326530612245, 'params': {'dropout_rate': 0.10465949707628992, 'hidden_size': 82.40410120885518, 'kernel_index': 7.655914788880782, 'l2_reg': 0.00047725584046882306, 'learning_rate': 0.004354594476003254, 'num_cnn_layers': 1.4063893219252575, 'num_filters': 13.920785367299963, 'num_mlp_layers': 3.7441474971848763, 'num_of_epochs': 5.135580099709799, 'pool_size': 10.901925873556074}}\n",
      "Iteration 4: \n",
      "\t{'target': 0.7724489795918368, 'params': {'dropout_rate': 0.17140811547998325, 'hidden_size': 99.17925668670085, 'kernel_index': 28.06470646898834, 'l2_reg': 0.0008060941068057772, 'learning_rate': 0.007357431851143902, 'num_cnn_layers': 1.866954481143372, 'num_filters': 8.436334425965308, 'num_mlp_layers': 2.5468716611251243, 'num_of_epochs': 14.3052403391297, 'pool_size': 11.635426367033155}}\n",
      "Iteration 5: \n",
      "\t{'target': 0.0, 'params': {'dropout_rate': 0.27845536772840307, 'hidden_size': 109.77455998773549, 'kernel_index': 16.376964216273922, 'l2_reg': 0.00010200691933778346, 'learning_rate': 0.001468254112827241, 'num_cnn_layers': 4.704822450795369, 'num_filters': 3.8020798763578307, 'num_mlp_layers': 1.4771366417164566, 'num_of_epochs': 13.632352406995786, 'pool_size': 2.0629983622804264}}\n",
      "Iteration 6: \n",
      "\t{'target': 0.0, 'params': {'dropout_rate': 0.34188698171082965, 'hidden_size': 84.47080178959293, 'kernel_index': 29.97836622285227, 'l2_reg': 0.0002703911632078623, 'learning_rate': 0.007674436350461608, 'num_cnn_layers': 2.532829026076666, 'num_filters': 13.554465198499845, 'num_mlp_layers': 2.2823315526405943, 'num_of_epochs': 13.172562983105038, 'pool_size': 3.2941570968167966}}\n",
      "Iteration 7: \n",
      "\t{'target': 0.0, 'params': {'dropout_rate': 0.4797924009267732, 'hidden_size': 70.79170655174029, 'kernel_index': 13.243722892075574, 'l2_reg': 0.000954219087373719, 'learning_rate': 0.00997365133502498, 'num_cnn_layers': 2.1923603236778453, 'num_filters': 14.594320855127709, 'num_mlp_layers': 2.697589870931656, 'num_of_epochs': 9.164273241711197, 'pool_size': 11.695676877722368}}\n",
      "Iteration 8: \n",
      "\t{'target': 0.7336734693877551, 'params': {'dropout_rate': 0.4206420971707615, 'hidden_size': 39.9377464668832, 'kernel_index': 18.083877110815326, 'l2_reg': 0.0008005563294537733, 'learning_rate': 0.008667396944393703, 'num_cnn_layers': 1.0653382045450819, 'num_filters': 9.92975672914402, 'num_mlp_layers': 1.7643207299887895, 'num_of_epochs': 7.241964622608851, 'pool_size': 8.287982481327152}}\n",
      "Iteration 9: \n",
      "\t{'target': 0.0, 'params': {'dropout_rate': 0.39913761791097624, 'hidden_size': 59.321485317446026, 'kernel_index': 6.224136652151858, 'l2_reg': 0.0009309715518238333, 'learning_rate': 0.001096247908526319, 'num_cnn_layers': 3.379465577015948, 'num_filters': 2.992653231548531, 'num_mlp_layers': 3.365737109252474, 'num_of_epochs': 7.270357910059127, 'pool_size': 15.385783346207944}}\n",
      "Iteration 10: \n",
      "\t{'target': 0.0, 'params': {'dropout_rate': 0.3028259987321342, 'hidden_size': 34.09520060381503, 'kernel_index': 28.353519575927496, 'l2_reg': 0.000948637804356724, 'learning_rate': 0.00775319433042234, 'num_cnn_layers': 3.317709541737447, 'num_filters': 9.652711978293258, 'num_mlp_layers': 3.493133644829245, 'num_of_epochs': 5.580249309689079, 'pool_size': 13.726731536253311}}\n",
      "Iteration 11: \n",
      "\t{'target': 0.0, 'params': {'dropout_rate': 0.46315120948718513, 'hidden_size': 96.72738957444372, 'kernel_index': 8.807421103388794, 'l2_reg': 0.00019699755992258814, 'learning_rate': 0.00731006926940084, 'num_cnn_layers': 4.564337301888002, 'num_filters': 4.724790053247787, 'num_mlp_layers': 4.842644520257409, 'num_of_epochs': 7.992610772346077, 'pool_size': 4.37327054821057}}\n",
      "Iteration 12: \n",
      "\t{'target': 0.7316326530612245, 'params': {'dropout_rate': 0.29980767263185826, 'hidden_size': 71.25782499886357, 'kernel_index': 8.39731227242017, 'l2_reg': 0.00012567288666350904, 'learning_rate': 0.005612879830565999, 'num_cnn_layers': 1.1496071767496918, 'num_filters': 15.862304582431996, 'num_mlp_layers': 2.5044369931106036, 'num_of_epochs': 14.096137311664318, 'pool_size': 14.985336565428634}}\n",
      "Iteration 13: \n",
      "\t{'target': 0.0, 'params': {'dropout_rate': 0.1613412814265507, 'hidden_size': 44.50897679736006, 'kernel_index': 9.951864319665399, 'l2_reg': 0.0004899730359165585, 'learning_rate': 0.005429482280082513, 'num_cnn_layers': 3.0431651169616836, 'num_filters': 5.412577721964932, 'num_mlp_layers': 4.547187702637091, 'num_of_epochs': 7.020677137315605, 'pool_size': 11.360605607618686}}\n",
      "Iteration 14: \n",
      "\t{'target': 0.0, 'params': {'dropout_rate': 0.46858050488003256, 'hidden_size': 122.67798312488185, 'kernel_index': 17.81928114094044, 'l2_reg': 0.0004619736652723905, 'learning_rate': 0.002043857236358938, 'num_cnn_layers': 3.0000845546134896, 'num_filters': 4.231002644596521, 'num_mlp_layers': 1.4129557512899358, 'num_of_epochs': 11.4960530169947, 'pool_size': 15.102642325875339}}\n",
      "Iteration 15: \n",
      "\t{'target': 0.0, 'params': {'dropout_rate': 0.2766756975948733, 'hidden_size': 80.30308321806272, 'kernel_index': 23.52626949571949, 'l2_reg': 0.000541901203596555, 'learning_rate': 0.005902417726425448, 'num_cnn_layers': 3.8238866239810627, 'num_filters': 12.51347216657275, 'num_mlp_layers': 4.261409205899442, 'num_of_epochs': 6.2936260474946195, 'pool_size': 7.876735063394967}}\n",
      "Iteration 16: \n",
      "\t{'target': 0.6816326530612244, 'params': {'dropout_rate': 0.32865341743437054, 'hidden_size': 100.63313605606396, 'kernel_index': 21.368306847071132, 'l2_reg': 0.0001614523121122175, 'learning_rate': 0.005691156402778716, 'num_cnn_layers': 1.6450807452259175, 'num_filters': 3.509411948722887, 'num_mlp_layers': 3.3398285344347935, 'num_of_epochs': 13.187056233876698, 'pool_size': 6.569968607888959}}\n",
      "Iteration 17: \n",
      "\t{'target': 0.0, 'params': {'dropout_rate': 0.23936897717472105, 'hidden_size': 123.36752861664507, 'kernel_index': 27.84786318657537, 'l2_reg': 0.0006351449236163973, 'learning_rate': 0.009539329401765495, 'num_cnn_layers': 3.6318472644001183, 'num_filters': 7.447592333912986, 'num_mlp_layers': 4.630025099069203, 'num_of_epochs': 7.834825392319313, 'pool_size': 2.699984360919114}}\n",
      "Iteration 18: \n",
      "\t{'target': 0.0, 'params': {'dropout_rate': 0.4393284553858824, 'hidden_size': 64.97884397416519, 'kernel_index': 30.63491419077828, 'l2_reg': 0.0008799912982587638, 'learning_rate': 0.0029537144531137623, 'num_cnn_layers': 3.797434326654319, 'num_filters': 8.216547867403676, 'num_mlp_layers': 1.9192111345766247, 'num_of_epochs': 7.1442827736043135, 'pool_size': 7.111277612696217}}\n",
      "Iteration 19: \n",
      "\t{'target': 0.7479591836734694, 'params': {'dropout_rate': 0.312693896717792, 'hidden_size': 39.7347731610722, 'kernel_index': 5.152781866368478, 'l2_reg': 0.0007068488802120148, 'learning_rate': 0.0024940197101915784, 'num_cnn_layers': 1.5739159791178277, 'num_filters': 7.467887673501668, 'num_mlp_layers': 1.2138768806810685, 'num_of_epochs': 12.5220302552418, 'pool_size': 13.807956674758676}}\n",
      "Iteration 20: \n",
      "\t{'target': 0.6795918367346939, 'params': {'dropout_rate': 0.32825285307149593, 'hidden_size': 63.53855015065206, 'kernel_index': 21.969550691141315, 'l2_reg': 0.0008880638139830983, 'learning_rate': 0.0074490422221851, 'num_cnn_layers': 1.2617043907942667, 'num_filters': 6.235853658033384, 'num_mlp_layers': 4.335447734362413, 'num_of_epochs': 10.692654357829571, 'pool_size': 4.771930641592977}}\n",
      "Iteration 21: \n",
      "\t{'target': 0.6846938775510204, 'params': {'dropout_rate': 0.350375869622078, 'hidden_size': 27.58790689683199, 'kernel_index': 30.39708855992968, 'l2_reg': 0.0005107139501754422, 'learning_rate': 0.008634198802736505, 'num_cnn_layers': 1.9706267215227826, 'num_filters': 14.02802386372019, 'num_mlp_layers': 2.0886197736309873, 'num_of_epochs': 6.462992966939074, 'pool_size': 3.912095112653436}}\n",
      "Iteration 22: \n",
      "\t{'target': 0.7887755102040817, 'params': {'dropout_rate': 0.13069094453249358, 'hidden_size': 85.29739438127487, 'kernel_index': 9.0428868600325, 'l2_reg': 0.000949007410953053, 'learning_rate': 0.007390921923968635, 'num_cnn_layers': 1.983416757628282, 'num_filters': 10.800202582109431, 'num_mlp_layers': 1.546176307275398, 'num_of_epochs': 9.30443927985332, 'pool_size': 3.340927730994249}}\n",
      "Iteration 23: \n",
      "\t{'target': 0.0, 'params': {'dropout_rate': 0.11322806800869892, 'hidden_size': 102.94369205742572, 'kernel_index': 8.860137447166313, 'l2_reg': 0.000272244435386342, 'learning_rate': 0.002815343715213096, 'num_cnn_layers': 2.39394530849596, 'num_filters': 11.37889870853406, 'num_mlp_layers': 1.3207322119165217, 'num_of_epochs': 13.720660256878997, 'pool_size': 5.277695554544766}}\n",
      "Iteration 24: \n",
      "\t{'target': 0.0, 'params': {'dropout_rate': 0.25503924098131253, 'hidden_size': 79.49043563140029, 'kernel_index': 10.762258588418225, 'l2_reg': 0.00024660840316893166, 'learning_rate': 0.006844839013662454, 'num_cnn_layers': 2.656548038404162, 'num_filters': 2.546550584747857, 'num_mlp_layers': 1.1535469375714125, 'num_of_epochs': 9.54587153919259, 'pool_size': 6.348315109498465}}\n",
      "Iteration 25: \n",
      "\t{'target': 0.7295918367346939, 'params': {'dropout_rate': 0.12029896851596052, 'hidden_size': 61.648820449987454, 'kernel_index': 19.879993341475572, 'l2_reg': 0.0009946212367290418, 'learning_rate': 0.00817545093190377, 'num_cnn_layers': 1.4084568286111199, 'num_filters': 4.187723882671263, 'num_mlp_layers': 1.0421745347521156, 'num_of_epochs': 5.544744512924231, 'pool_size': 14.387865644968048}}\n",
      "Iteration 26: \n",
      "\t{'target': 0.0, 'params': {'dropout_rate': 0.3664299551265734, 'hidden_size': 109.3822162126845, 'kernel_index': 7.708898823501075, 'l2_reg': 0.0005277286894261877, 'learning_rate': 0.009034060025327858, 'num_cnn_layers': 4.7472878982229165, 'num_filters': 3.1281226599808143, 'num_mlp_layers': 4.105125042359811, 'num_of_epochs': 9.074697658040769, 'pool_size': 9.154697717050396}}\n",
      "Iteration 27: \n",
      "\t{'target': 0.0, 'params': {'dropout_rate': 0.23698993944637783, 'hidden_size': 16.19484123834119, 'kernel_index': 18.792649489802397, 'l2_reg': 0.0007395561131967575, 'learning_rate': 0.004912259383522785, 'num_cnn_layers': 2.9153938656954996, 'num_filters': 15.519445587938067, 'num_mlp_layers': 2.45673751558915, 'num_of_epochs': 14.408007145649488, 'pool_size': 5.5518665812429}}\n",
      "Iteration 28: \n",
      "\t{'target': 0.0, 'params': {'dropout_rate': 0.4860088607569327, 'hidden_size': 20.78498487133792, 'kernel_index': 21.137299624991254, 'l2_reg': 0.0008933032930058237, 'learning_rate': 0.006384040548215642, 'num_cnn_layers': 3.7968092065004373, 'num_filters': 11.676512354557122, 'num_mlp_layers': 1.5000222493525928, 'num_of_epochs': 8.265056167089508, 'pool_size': 8.773385776977602}}\n",
      "Iteration 29: \n",
      "\t{'target': 0.0, 'params': {'dropout_rate': 0.10070661922428994, 'hidden_size': 110.26480843024319, 'kernel_index': 15.707082144407225, 'l2_reg': 0.0007435207171730251, 'learning_rate': 0.009574582371941961, 'num_cnn_layers': 4.196932793220499, 'num_filters': 13.552590085612623, 'num_mlp_layers': 3.042333443821728, 'num_of_epochs': 14.728695451243972, 'pool_size': 13.076191253075457}}\n",
      "Iteration 30: \n",
      "\t{'target': 0.0, 'params': {'dropout_rate': 0.23281331153429013, 'hidden_size': 120.77920025801538, 'kernel_index': 11.380323333129697, 'l2_reg': 0.0008535822459199404, 'learning_rate': 0.00959263567542595, 'num_cnn_layers': 3.2432775209920774, 'num_filters': 12.496973593021098, 'num_mlp_layers': 3.518571973277117, 'num_of_epochs': 8.901578686636363, 'pool_size': 6.761674297530334}}\n",
      "Iteration 31: \n",
      "\t{'target': 0.7479591836734694, 'params': {'dropout_rate': 0.21827949380408054, 'hidden_size': 44.21556759919377, 'kernel_index': 11.249294379284212, 'l2_reg': 0.0009444636926486794, 'learning_rate': 0.007347139444050488, 'num_cnn_layers': 1.9370249818245835, 'num_filters': 14.734617584509989, 'num_mlp_layers': 4.4554534210555365, 'num_of_epochs': 12.163274269465251, 'pool_size': 15.898253670615833}}\n",
      "Iteration 32: \n",
      "\t{'target': 0.0, 'params': {'dropout_rate': 0.12844671155988585, 'hidden_size': 79.54267034380919, 'kernel_index': 6.984156952210002, 'l2_reg': 0.0003478428689666793, 'learning_rate': 0.007887490326261803, 'num_cnn_layers': 3.8300574657423594, 'num_filters': 4.675471533222099, 'num_mlp_layers': 1.40377652944309, 'num_of_epochs': 9.433388454895546, 'pool_size': 7.892549551574296}}\n",
      "Iteration 33: \n",
      "\t{'target': 0.0, 'params': {'dropout_rate': 0.4551965008801352, 'hidden_size': 106.49742157669723, 'kernel_index': 24.43337170644239, 'l2_reg': 0.0006138720471365897, 'learning_rate': 0.008903513875033443, 'num_cnn_layers': 3.0357422617679397, 'num_filters': 9.756544480882862, 'num_mlp_layers': 4.3652557211785155, 'num_of_epochs': 13.559483762693361, 'pool_size': 10.71074067395716}}\n",
      "Iteration 34: \n",
      "\t{'target': 0.0, 'params': {'dropout_rate': 0.37882693490047825, 'hidden_size': 119.20930573762763, 'kernel_index': 17.427303434551106, 'l2_reg': 0.0008302067604501716, 'learning_rate': 0.0029788682958712966, 'num_cnn_layers': 4.870080506467319, 'num_filters': 5.046277821659199, 'num_mlp_layers': 4.298036095947031, 'num_of_epochs': 7.133844077073084, 'pool_size': 15.762079061038577}}\n",
      "Iteration 35: \n",
      "\t{'target': 0.0, 'params': {'dropout_rate': 0.35435539633889623, 'hidden_size': 71.19543744747976, 'kernel_index': 27.29275703642295, 'l2_reg': 0.00037727185515095866, 'learning_rate': 0.009928808332166451, 'num_cnn_layers': 3.8315257108600136, 'num_filters': 13.15660266450089, 'num_mlp_layers': 1.842041097198544, 'num_of_epochs': 10.494661909763876, 'pool_size': 9.959559837133359}}\n",
      "Iteration 36: \n",
      "\t{'target': 0.0, 'params': {'dropout_rate': 0.48772406911683863, 'hidden_size': 17.02796516026018, 'kernel_index': 19.399485175134352, 'l2_reg': 0.0007919151295006166, 'learning_rate': 0.0029784013207855902, 'num_cnn_layers': 3.577268982183098, 'num_filters': 12.2621175883294, 'num_mlp_layers': 4.935727797801721, 'num_of_epochs': 13.472967257342741, 'pool_size': 2.752652887397037}}\n",
      "Iteration 37: \n",
      "\t{'target': 0.0, 'params': {'dropout_rate': 0.34316009691079774, 'hidden_size': 100.97825062027574, 'kernel_index': 12.346641856049724, 'l2_reg': 0.00027271421520923733, 'learning_rate': 0.006788318418304081, 'num_cnn_layers': 2.735097799523007, 'num_filters': 4.811763712619356, 'num_mlp_layers': 4.862410054545835, 'num_of_epochs': 6.142949828067148, 'pool_size': 9.806651593385142}}\n",
      "Iteration 38: \n",
      "\t{'target': 0.0, 'params': {'dropout_rate': 0.3532227842314586, 'hidden_size': 108.37373905944546, 'kernel_index': 29.930907349948935, 'l2_reg': 0.000751704660044428, 'learning_rate': 0.005385933570141831, 'num_cnn_layers': 2.21282528529399, 'num_filters': 5.854949620294484, 'num_mlp_layers': 3.552620300827337, 'num_of_epochs': 7.054258344491307, 'pool_size': 7.225050963925179}}\n",
      "Iteration 39: \n",
      "\t{'target': 0.0, 'params': {'dropout_rate': 0.29067820192712723, 'hidden_size': 99.0544369903339, 'kernel_index': 25.43555346220125, 'l2_reg': 0.0006511052138060712, 'learning_rate': 0.0023537143282647993, 'num_cnn_layers': 2.35686876788218, 'num_filters': 4.109843246116444, 'num_mlp_layers': 1.7869461587221829, 'num_of_epochs': 8.784260537034065, 'pool_size': 12.808468410057305}}\n",
      "Iteration 40: \n",
      "\t{'target': 0.7765306122448979, 'params': {'dropout_rate': 0.1720628480820967, 'hidden_size': 98.97866643050854, 'kernel_index': 26.869161086755295, 'l2_reg': 0.0006510675121489603, 'learning_rate': 0.007571292004312258, 'num_cnn_layers': 1.6199617620631344, 'num_filters': 7.619005429521686, 'num_mlp_layers': 2.7466731567969567, 'num_of_epochs': 14.977597473486211, 'pool_size': 10.057113539391041}}\n",
      "Iteration 41: \n",
      "\t{'target': 0.7653061224489796, 'params': {'dropout_rate': 0.11189269140455638, 'hidden_size': 84.3586087068719, 'kernel_index': 8.377590183051813, 'l2_reg': 0.0007738519106690788, 'learning_rate': 0.005863669416134502, 'num_cnn_layers': 1.5379965830044156, 'num_filters': 12.930251569117388, 'num_mlp_layers': 2.6120988417503277, 'num_of_epochs': 7.291056785667499, 'pool_size': 6.661056512265188}}\n",
      "Iteration 42: \n",
      "\t{'target': 0.7653061224489796, 'params': {'dropout_rate': 0.28624370704215746, 'hidden_size': 41.262164903106566, 'kernel_index': 8.453015910883035, 'l2_reg': 0.0009187758485116415, 'learning_rate': 0.00528511454843503, 'num_cnn_layers': 1.3338755804799776, 'num_filters': 11.420983089532964, 'num_mlp_layers': 3.223094833230334, 'num_of_epochs': 14.666204205699602, 'pool_size': 15.575737504565232}}\n",
      "Iteration 43: \n",
      "\t{'target': 0.7428571428571429, 'params': {'dropout_rate': 0.1, 'hidden_size': 60.98388013736861, 'kernel_index': 20.233004870215705, 'l2_reg': 0.001, 'learning_rate': 0.01, 'num_cnn_layers': 1.0, 'num_filters': 3.04959593595854, 'num_mlp_layers': 2.9937665379187033, 'num_of_epochs': 8.833877555208504, 'pool_size': 9.40634188452179}}\n",
      "Iteration 44: \n",
      "\t{'target': 0.7836734693877551, 'params': {'dropout_rate': 0.41886447547046707, 'hidden_size': 39.096816722463004, 'kernel_index': 14.331034199311304, 'l2_reg': 0.001, 'learning_rate': 0.00924836662417683, 'num_cnn_layers': 1.0, 'num_filters': 10.708041440536626, 'num_mlp_layers': 1.8501742196263662, 'num_of_epochs': 14.045153207682505, 'pool_size': 11.913924995724054}}\n",
      "Iteration 45: \n",
      "\t{'target': 0.7224489795918367, 'params': {'dropout_rate': 0.5, 'hidden_size': 34.52300523530841, 'kernel_index': 9.124617307825886, 'l2_reg': 0.001, 'learning_rate': 0.01, 'num_cnn_layers': 1.0, 'num_filters': 8.238984092840706, 'num_mlp_layers': 1.0, 'num_of_epochs': 14.904744386394468, 'pool_size': 14.247578800744774}}\n",
      "Iteration 46: \n",
      "\t{'target': 0.8040816326530612, 'params': {'dropout_rate': 0.1, 'hidden_size': 38.20166685033128, 'kernel_index': 12.883663870753209, 'l2_reg': 0.001, 'learning_rate': 0.001, 'num_cnn_layers': 1.0, 'num_filters': 16.0, 'num_mlp_layers': 5.0, 'num_of_epochs': 15.0, 'pool_size': 16.0}}\n",
      "Iteration 47: \n",
      "\t{'target': 0.7551020408163265, 'params': {'dropout_rate': 0.5, 'hidden_size': 36.96299313247865, 'kernel_index': 8.255833493056828, 'l2_reg': 0.001, 'learning_rate': 0.001, 'num_cnn_layers': 1.0, 'num_filters': 14.049498174103432, 'num_mlp_layers': 5.0, 'num_of_epochs': 15.0, 'pool_size': 9.645286869200266}}\n",
      "Iteration 48: \n",
      "\t{'target': 0.7928571428571428, 'params': {'dropout_rate': 0.1, 'hidden_size': 84.21277942953836, 'kernel_index': 5.161463250720745, 'l2_reg': 0.001, 'learning_rate': 0.0015170369408139051, 'num_cnn_layers': 1.0, 'num_filters': 16.0, 'num_mlp_layers': 1.7792822065022622, 'num_of_epochs': 13.22556763330082, 'pool_size': 4.178051036820354}}\n",
      "Iteration 49: \n",
      "\t{'target': 0.7795918367346939, 'params': {'dropout_rate': 0.1, 'hidden_size': 79.63873822592744, 'kernel_index': 4.034231379179182, 'l2_reg': 0.0001, 'learning_rate': 0.001, 'num_cnn_layers': 1.0, 'num_filters': 16.0, 'num_mlp_layers': 3.2810696465948403, 'num_of_epochs': 14.51783020990648, 'pool_size': 14.501477976127001}}\n",
      "Iteration 50: \n",
      "\t{'target': 0.6795918367346939, 'params': {'dropout_rate': 0.1, 'hidden_size': 85.6730498879259, 'kernel_index': 1.0, 'l2_reg': 0.001, 'learning_rate': 0.01, 'num_cnn_layers': 1.0, 'num_filters': 16.0, 'num_mlp_layers': 1.0, 'num_of_epochs': 7.7411211689675845, 'pool_size': 10.729624439298224}}\n",
      "Iteration 51: \n",
      "\t{'target': 0.7642857142857142, 'params': {'dropout_rate': 0.1, 'hidden_size': 86.69146935153522, 'kernel_index': 9.925535235497417, 'l2_reg': 0.001, 'learning_rate': 0.01, 'num_cnn_layers': 1.0, 'num_filters': 16.0, 'num_mlp_layers': 1.0, 'num_of_epochs': 13.889798474172546, 'pool_size': 11.479498518494534}}\n",
      "Iteration 52: \n",
      "\t{'target': 0.7173469387755103, 'params': {'dropout_rate': 0.5, 'hidden_size': 36.26321411000662, 'kernel_index': 19.362840499243656, 'l2_reg': 0.001, 'learning_rate': 0.01, 'num_cnn_layers': 1.0, 'num_filters': 9.786704021296119, 'num_mlp_layers': 1.0, 'num_of_epochs': 13.319607571095535, 'pool_size': 2.928084694991717}}\n",
      "Iteration 53: \n",
      "\t{'target': 0.6959183673469388, 'params': {'dropout_rate': 0.1, 'hidden_size': 70.28209001448435, 'kernel_index': 1.0, 'l2_reg': 0.0001, 'learning_rate': 0.001, 'num_cnn_layers': 1.0, 'num_filters': 16.0, 'num_mlp_layers': 5.0, 'num_of_epochs': 15.0, 'pool_size': 16.0}}\n",
      "Iteration 54: \n",
      "\t{'target': 0.7489795918367347, 'params': {'dropout_rate': 0.1, 'hidden_size': 88.55356291688827, 'kernel_index': 12.499304715733492, 'l2_reg': 0.001, 'learning_rate': 0.01, 'num_cnn_layers': 1.0, 'num_filters': 16.0, 'num_mlp_layers': 1.0, 'num_of_epochs': 11.713067969346433, 'pool_size': 2.0}}\n",
      "Iteration 55: \n",
      "\t{'target': 0.6795918367346939, 'params': {'dropout_rate': 0.1, 'hidden_size': 95.95671126711653, 'kernel_index': 25.41877244875372, 'l2_reg': 0.0001, 'learning_rate': 0.01, 'num_cnn_layers': 1.0, 'num_filters': 2.0, 'num_mlp_layers': 5.0, 'num_of_epochs': 15.0, 'pool_size': 2.0}}\n",
      "Iteration 56: \n",
      "\t{'target': 0.8051020408163265, 'params': {'dropout_rate': 0.1, 'hidden_size': 54.910714136730874, 'kernel_index': 21.690126157982696, 'l2_reg': 0.001, 'learning_rate': 0.01, 'num_cnn_layers': 1.0, 'num_filters': 6.319493780768622, 'num_mlp_layers': 1.0, 'num_of_epochs': 15.0, 'pool_size': 15.899235813748422}}\n",
      "Iteration 57: \n",
      "\t{'target': 0.7989795918367347, 'params': {'dropout_rate': 0.1, 'hidden_size': 51.56708031177229, 'kernel_index': 17.405646333142442, 'l2_reg': 0.000856740805787015, 'learning_rate': 0.004272074797933689, 'num_cnn_layers': 1.0, 'num_filters': 15.909111954107898, 'num_mlp_layers': 5.0, 'num_of_epochs': 15.0, 'pool_size': 16.0}}\n",
      "Iteration 58: \n",
      "\t{'target': 0.7908163265306123, 'params': {'dropout_rate': 0.1, 'hidden_size': 48.54289982303313, 'kernel_index': 22.79407465910055, 'l2_reg': 0.001, 'learning_rate': 0.01, 'num_cnn_layers': 1.0, 'num_filters': 7.995709228626907, 'num_mlp_layers': 1.0, 'num_of_epochs': 15.0, 'pool_size': 6.948155155976294}}\n",
      "Iteration 59: \n",
      "\t{'target': 0.7612244897959184, 'params': {'dropout_rate': 0.1, 'hidden_size': 55.68064667379934, 'kernel_index': 23.847451537980774, 'l2_reg': 0.001, 'learning_rate': 0.001, 'num_cnn_layers': 1.0, 'num_filters': 2.0, 'num_mlp_layers': 5.0, 'num_of_epochs': 15.0, 'pool_size': 2.0}}\n",
      "Iteration 60: \n",
      "\t{'target': 0.6795918367346939, 'params': {'dropout_rate': 0.5, 'hidden_size': 43.91082053675383, 'kernel_index': 21.604718871263163, 'l2_reg': 0.0001, 'learning_rate': 0.01, 'num_cnn_layers': 1.0, 'num_filters': 2.0, 'num_mlp_layers': 1.0, 'num_of_epochs': 15.0, 'pool_size': 13.873330204554584}}\n",
      "Iteration 61: \n",
      "\t{'target': 0.6795918367346939, 'params': {'dropout_rate': 0.1, 'hidden_size': 33.856208440982684, 'kernel_index': 1.0, 'l2_reg': 0.0001, 'learning_rate': 0.001, 'num_cnn_layers': 1.0, 'num_filters': 2.0, 'num_mlp_layers': 5.0, 'num_of_epochs': 15.0, 'pool_size': 16.0}}\n",
      "Iteration 62: \n",
      "\t{'target': 0.7561224489795918, 'params': {'dropout_rate': 0.1, 'hidden_size': 95.55937016997883, 'kernel_index': 31.0, 'l2_reg': 0.001, 'learning_rate': 0.01, 'num_cnn_layers': 1.0, 'num_filters': 16.0, 'num_mlp_layers': 1.0, 'num_of_epochs': 15.0, 'pool_size': 16.0}}\n",
      "Iteration 63: \n",
      "\t{'target': 0.7775510204081633, 'params': {'dropout_rate': 0.1, 'hidden_size': 41.91631090739305, 'kernel_index': 30.38064862629773, 'l2_reg': 0.001, 'learning_rate': 0.01, 'num_cnn_layers': 1.0, 'num_filters': 2.0, 'num_mlp_layers': 1.0, 'num_of_epochs': 15.0, 'pool_size': 2.0}}\n",
      "Iteration 64: \n",
      "\t{'target': 0.6795918367346939, 'params': {'dropout_rate': 0.1, 'hidden_size': 32.72969883526212, 'kernel_index': 1.0, 'l2_reg': 0.0001, 'learning_rate': 0.001, 'num_cnn_layers': 1.0, 'num_filters': 5.851167448671146, 'num_mlp_layers': 1.0, 'num_of_epochs': 15.0, 'pool_size': 4.720760197009989}}\n",
      "Iteration 65: \n",
      "\t{'target': 0.7346938775510204, 'params': {'dropout_rate': 0.1, 'hidden_size': 62.29711933264636, 'kernel_index': 24.18857086736356, 'l2_reg': 0.0001, 'learning_rate': 0.001, 'num_cnn_layers': 1.0, 'num_filters': 2.0, 'num_mlp_layers': 5.0, 'num_of_epochs': 15.0, 'pool_size': 16.0}}\n",
      "Iteration 66: \n",
      "\t{'target': 0.75, 'params': {'dropout_rate': 0.1, 'hidden_size': 32.9385265618943, 'kernel_index': 1.0, 'l2_reg': 0.0001, 'learning_rate': 0.001, 'num_cnn_layers': 1.0, 'num_filters': 16.0, 'num_mlp_layers': 5.0, 'num_of_epochs': 15.0, 'pool_size': 16.0}}\n",
      "Iteration 67: \n",
      "\t{'target': 0.7336734693877551, 'params': {'dropout_rate': 0.1, 'hidden_size': 37.74560586349458, 'kernel_index': 24.965513169599685, 'l2_reg': 0.0001, 'learning_rate': 0.01, 'num_cnn_layers': 1.0, 'num_filters': 2.0, 'num_mlp_layers': 1.0, 'num_of_epochs': 5.284687643881185, 'pool_size': 2.0}}\n",
      "Iteration 68: \n",
      "\t{'target': 0.7510204081632653, 'params': {'dropout_rate': 0.1, 'hidden_size': 29.80622983733218, 'kernel_index': 31.0, 'l2_reg': 0.0001, 'learning_rate': 0.01, 'num_cnn_layers': 1.0, 'num_filters': 2.0, 'num_mlp_layers': 1.0, 'num_of_epochs': 15.0, 'pool_size': 2.0}}\n",
      "Iteration 69: \n",
      "\t{'target': 0.6795918367346939, 'params': {'dropout_rate': 0.1, 'hidden_size': 54.693376238219884, 'kernel_index': 21.106188540423858, 'l2_reg': 0.0001, 'learning_rate': 0.01, 'num_cnn_layers': 1.0, 'num_filters': 16.0, 'num_mlp_layers': 5.0, 'num_of_epochs': 15.0, 'pool_size': 2.0}}\n",
      "Iteration 70: \n",
      "\t{'target': 0.6795918367346939, 'params': {'dropout_rate': 0.1, 'hidden_size': 26.45812776906012, 'kernel_index': 31.0, 'l2_reg': 0.0001, 'learning_rate': 0.01, 'num_cnn_layers': 1.0, 'num_filters': 2.0, 'num_mlp_layers': 5.0, 'num_of_epochs': 5.0, 'pool_size': 2.0}}\n",
      "Iteration 71: \n",
      "\t{'target': 0.6795918367346939, 'params': {'dropout_rate': 0.1, 'hidden_size': 51.73438134094527, 'kernel_index': 31.0, 'l2_reg': 0.0001, 'learning_rate': 0.01, 'num_cnn_layers': 1.0, 'num_filters': 2.0, 'num_mlp_layers': 5.0, 'num_of_epochs': 15.0, 'pool_size': 12.373463427333128}}\n",
      "Iteration 72: \n",
      "\t{'target': 0.0, 'params': {'dropout_rate': 0.4170267506550035, 'hidden_size': 17.28677099568155, 'kernel_index': 1.1069459394658656, 'l2_reg': 0.0008602484239690704, 'learning_rate': 0.0018710251772623668, 'num_cnn_layers': 2.783257667930438, 'num_filters': 3.7304517225765133, 'num_mlp_layers': 2.5120965149807493, 'num_of_epochs': 11.276212772586756, 'pool_size': 14.034395460438848}}\n",
      "Iteration 73: \n",
      "\t{'target': 0.6795918367346939, 'params': {'dropout_rate': 0.5, 'hidden_size': 36.50743730487904, 'kernel_index': 31.0, 'l2_reg': 0.00038428041262585175, 'learning_rate': 0.01, 'num_cnn_layers': 1.0, 'num_filters': 11.707055868183579, 'num_mlp_layers': 5.0, 'num_of_epochs': 15.0, 'pool_size': 2.0}}\n",
      "Iteration 74: \n",
      "\t{'target': 0.0, 'params': {'dropout_rate': 0.5, 'hidden_size': 85.06870843241919, 'kernel_index': 3.299807071145135, 'l2_reg': 0.001, 'learning_rate': 0.01, 'num_cnn_layers': 5.0, 'num_filters': 16.0, 'num_mlp_layers': 5.0, 'num_of_epochs': 5.0, 'pool_size': 2.0}}\n",
      "Iteration 75: \n",
      "\t{'target': 0.6795918367346939, 'params': {'dropout_rate': 0.5, 'hidden_size': 54.13250510971876, 'kernel_index': 25.98731273148062, 'l2_reg': 0.001, 'learning_rate': 0.001, 'num_cnn_layers': 1.0, 'num_filters': 2.0, 'num_mlp_layers': 1.0, 'num_of_epochs': 5.151606804447171, 'pool_size': 16.0}}\n",
      "Iteration 76: \n",
      "\t{'target': 0.7693877551020408, 'params': {'dropout_rate': 0.1, 'hidden_size': 38.42437678596792, 'kernel_index': 22.121161936561265, 'l2_reg': 0.0001, 'learning_rate': 0.001, 'num_cnn_layers': 1.0, 'num_filters': 2.0, 'num_mlp_layers': 5.0, 'num_of_epochs': 15.0, 'pool_size': 3.4862877855297763}}\n",
      "Iteration 77: \n",
      "\t{'target': 0.32040816326530613, 'params': {'dropout_rate': 0.1, 'hidden_size': 46.54780379180157, 'kernel_index': 1.0, 'l2_reg': 0.0001, 'learning_rate': 0.01, 'num_cnn_layers': 1.0, 'num_filters': 16.0, 'num_mlp_layers': 5.0, 'num_of_epochs': 15.0, 'pool_size': 16.0}}\n",
      "Iteration 78: \n",
      "\t{'target': 0.6959183673469388, 'params': {'dropout_rate': 0.5, 'hidden_size': 48.22165242935797, 'kernel_index': 31.0, 'l2_reg': 0.0001, 'learning_rate': 0.001, 'num_cnn_layers': 1.0, 'num_filters': 2.0, 'num_mlp_layers': 5.0, 'num_of_epochs': 5.807480749956964, 'pool_size': 2.0}}\n",
      "Iteration 79: \n",
      "\t{'target': 0.8163265306122449, 'params': {'dropout_rate': 0.1, 'hidden_size': 98.73744025185609, 'kernel_index': 31.0, 'l2_reg': 0.001, 'learning_rate': 0.001, 'num_cnn_layers': 1.0, 'num_filters': 14.79717716608988, 'num_mlp_layers': 1.0, 'num_of_epochs': 15.0, 'pool_size': 6.618931915898503}}\n",
      "Iteration 80: \n",
      "\t{'target': 0.7387755102040816, 'params': {'dropout_rate': 0.1, 'hidden_size': 49.46698755127106, 'kernel_index': 31.0, 'l2_reg': 0.0001, 'learning_rate': 0.001, 'num_cnn_layers': 1.0, 'num_filters': 13.224378569209769, 'num_mlp_layers': 1.0, 'num_of_epochs': 15.0, 'pool_size': 2.0}}\n",
      "Iteration 81: \n",
      "\t{'target': 0.7346938775510204, 'params': {'dropout_rate': 0.1, 'hidden_size': 53.398858988792604, 'kernel_index': 29.123550775613054, 'l2_reg': 0.0001, 'learning_rate': 0.01, 'num_cnn_layers': 1.0, 'num_filters': 16.0, 'num_mlp_layers': 1.0, 'num_of_epochs': 15.0, 'pool_size': 16.0}}\n",
      "Iteration 82: \n",
      "\t{'target': 0.7602040816326531, 'params': {'dropout_rate': 0.1, 'hidden_size': 85.79155451663101, 'kernel_index': 11.18941851278324, 'l2_reg': 0.0001, 'learning_rate': 0.001, 'num_cnn_layers': 1.0, 'num_filters': 11.803851262833497, 'num_mlp_layers': 5.0, 'num_of_epochs': 15.0, 'pool_size': 4.332434450806998}}\n",
      "Iteration 83: \n",
      "\t{'target': 0.32040816326530613, 'params': {'dropout_rate': 0.5, 'hidden_size': 56.6963029924603, 'kernel_index': 24.370615987100706, 'l2_reg': 0.0001, 'learning_rate': 0.01, 'num_cnn_layers': 1.0, 'num_filters': 10.031568615831508, 'num_mlp_layers': 5.0, 'num_of_epochs': 15.0, 'pool_size': 9.990562549811626}}\n",
      "Iteration 84: \n",
      "\t{'target': 0.7214285714285714, 'params': {'dropout_rate': 0.1, 'hidden_size': 62.748699888070725, 'kernel_index': 16.233685920583348, 'l2_reg': 0.0001, 'learning_rate': 0.001, 'num_cnn_layers': 1.0, 'num_filters': 2.0, 'num_mlp_layers': 5.0, 'num_of_epochs': 15.0, 'pool_size': 2.0}}\n",
      "Iteration 85: \n",
      "\t{'target': 0.8091836734693878, 'params': {'dropout_rate': 0.15444903847583388, 'hidden_size': 46.109294525511594, 'kernel_index': 19.666286500563793, 'l2_reg': 0.0006170271275436111, 'learning_rate': 0.0013631298397068072, 'num_cnn_layers': 1.1014960343975773, 'num_filters': 15.700410380443081, 'num_mlp_layers': 3.0782298197691818, 'num_of_epochs': 14.456019033792687, 'pool_size': 5.012688697585588}}\n",
      "Iteration 86: \n",
      "\t{'target': 0.6795918367346939, 'params': {'dropout_rate': 0.1, 'hidden_size': 88.35731401636421, 'kernel_index': 8.848865553469361, 'l2_reg': 0.001, 'learning_rate': 0.001, 'num_cnn_layers': 1.0, 'num_filters': 16.0, 'num_mlp_layers': 1.0, 'num_of_epochs': 5.0, 'pool_size': 16.0}}\n",
      "Iteration 87: \n",
      "\t{'target': 0.0, 'params': {'dropout_rate': 0.1, 'hidden_size': 45.88986782930362, 'kernel_index': 18.073773557985664, 'l2_reg': 0.0001, 'learning_rate': 0.01, 'num_cnn_layers': 5.0, 'num_filters': 16.0, 'num_mlp_layers': 1.0, 'num_of_epochs': 15.0, 'pool_size': 16.0}}\n",
      "Iteration 88: \n",
      "\t{'target': 0.8214285714285714, 'params': {'dropout_rate': 0.1, 'hidden_size': 58.54014226201534, 'kernel_index': 11.53402163779128, 'l2_reg': 0.001, 'learning_rate': 0.001, 'num_cnn_layers': 1.0, 'num_filters': 16.0, 'num_mlp_layers': 5.0, 'num_of_epochs': 15.0, 'pool_size': 16.0}}\n",
      "Iteration 89: \n",
      "\t{'target': 0.0, 'params': {'dropout_rate': 0.1, 'hidden_size': 47.528762266639355, 'kernel_index': 24.31841299896836, 'l2_reg': 0.001, 'learning_rate': 0.001, 'num_cnn_layers': 5.0, 'num_filters': 2.0, 'num_mlp_layers': 1.0, 'num_of_epochs': 15.0, 'pool_size': 2.0}}\n",
      "Iteration 90: \n",
      "\t{'target': 0.6795918367346939, 'params': {'dropout_rate': 0.1, 'hidden_size': 40.47070911346779, 'kernel_index': 31.0, 'l2_reg': 0.001, 'learning_rate': 0.001, 'num_cnn_layers': 1.0, 'num_filters': 8.655506766622798, 'num_mlp_layers': 1.0, 'num_of_epochs': 7.518674295059241, 'pool_size': 2.0}}\n",
      "Iteration 91: \n",
      "\t{'target': 0.7551020408163265, 'params': {'dropout_rate': 0.1, 'hidden_size': 37.743228747546794, 'kernel_index': 31.0, 'l2_reg': 0.0001, 'learning_rate': 0.001, 'num_cnn_layers': 1.0, 'num_filters': 2.0, 'num_mlp_layers': 5.0, 'num_of_epochs': 15.0, 'pool_size': 8.43437824395202}}\n",
      "Iteration 92: \n",
      "\t{'target': 0.8091836734693878, 'params': {'dropout_rate': 0.1, 'hidden_size': 52.03454750927237, 'kernel_index': 12.05031902927342, 'l2_reg': 0.001, 'learning_rate': 0.001, 'num_cnn_layers': 1.0, 'num_filters': 16.0, 'num_mlp_layers': 5.0, 'num_of_epochs': 15.0, 'pool_size': 8.133620096161854}}\n",
      "Iteration 93: \n",
      "\t{'target': 0.6795918367346939, 'params': {'dropout_rate': 0.1, 'hidden_size': 60.37495255355133, 'kernel_index': 16.796328650638138, 'l2_reg': 0.001, 'learning_rate': 0.001, 'num_cnn_layers': 1.0, 'num_filters': 2.0, 'num_mlp_layers': 1.0, 'num_of_epochs': 15.0, 'pool_size': 16.0}}\n",
      "Iteration 94: \n",
      "\t{'target': 0.6795918367346939, 'params': {'dropout_rate': 0.1, 'hidden_size': 94.92976869077889, 'kernel_index': 31.0, 'l2_reg': 0.001, 'learning_rate': 0.01, 'num_cnn_layers': 1.0, 'num_filters': 10.717326473462148, 'num_mlp_layers': 5.0, 'num_of_epochs': 15.0, 'pool_size': 10.920427158718727}}\n",
      "Iteration 95: \n",
      "\t{'target': 0.7653061224489796, 'params': {'dropout_rate': 0.1, 'hidden_size': 61.162180476535745, 'kernel_index': 5.181035126327702, 'l2_reg': 0.0001, 'learning_rate': 0.001, 'num_cnn_layers': 1.0, 'num_filters': 16.0, 'num_mlp_layers': 5.0, 'num_of_epochs': 15.0, 'pool_size': 2.0}}\n",
      "Iteration 96: \n",
      "\t{'target': 0.7938775510204081, 'params': {'dropout_rate': 0.1, 'hidden_size': 58.10761250027594, 'kernel_index': 12.67143897869511, 'l2_reg': 0.001, 'learning_rate': 0.001, 'num_cnn_layers': 1.0, 'num_filters': 16.0, 'num_mlp_layers': 1.0, 'num_of_epochs': 15.0, 'pool_size': 2.0}}\n",
      "Iteration 97: \n",
      "\t{'target': 0.6795918367346939, 'params': {'dropout_rate': 0.1, 'hidden_size': 33.1742724096122, 'kernel_index': 19.504965045921022, 'l2_reg': 0.0001, 'learning_rate': 0.001, 'num_cnn_layers': 1.0, 'num_filters': 2.0, 'num_mlp_layers': 1.0, 'num_of_epochs': 15.0, 'pool_size': 9.30962570724611}}\n",
      "Iteration 98: \n",
      "\t{'target': 0.810204081632653, 'params': {'dropout_rate': 0.1, 'hidden_size': 95.42637937524277, 'kernel_index': 22.739188214325797, 'l2_reg': 0.001, 'learning_rate': 0.001, 'num_cnn_layers': 1.0, 'num_filters': 16.0, 'num_mlp_layers': 1.0, 'num_of_epochs': 15.0, 'pool_size': 10.671733085790198}}\n",
      "Iteration 99: \n",
      "\t{'target': 0.6795918367346939, 'params': {'dropout_rate': 0.1, 'hidden_size': 96.06636336977328, 'kernel_index': 21.491695752786406, 'l2_reg': 0.0001, 'learning_rate': 0.001, 'num_cnn_layers': 1.0, 'num_filters': 9.888109641390106, 'num_mlp_layers': 1.0, 'num_of_epochs': 15.0, 'pool_size': 2.0}}\n",
      "Iteration 100: \n",
      "\t{'target': 0.6795918367346939, 'params': {'dropout_rate': 0.5, 'hidden_size': 31.122572721770876, 'kernel_index': 1.0, 'l2_reg': 0.0001, 'learning_rate': 0.001, 'num_cnn_layers': 1.0, 'num_filters': 16.0, 'num_mlp_layers': 1.0, 'num_of_epochs': 15.0, 'pool_size': 2.0}}\n",
      "Iteration 101: \n",
      "\t{'target': 0.6795918367346939, 'params': {'dropout_rate': 0.1, 'hidden_size': 59.05277309836875, 'kernel_index': 21.667953116167595, 'l2_reg': 0.001, 'learning_rate': 0.01, 'num_cnn_layers': 1.0, 'num_filters': 2.0, 'num_mlp_layers': 5.0, 'num_of_epochs': 5.0, 'pool_size': 2.0}}\n",
      "Iteration 102: \n",
      "\t{'target': 0.6795918367346939, 'params': {'dropout_rate': 0.1, 'hidden_size': 63.46800396271742, 'kernel_index': 24.28537124485465, 'l2_reg': 0.0007899471298907255, 'learning_rate': 0.001, 'num_cnn_layers': 1.0, 'num_filters': 2.0, 'num_mlp_layers': 1.0, 'num_of_epochs': 15.0, 'pool_size': 2.0}}\n",
      "Iteration 103: \n",
      "\t{'target': 0.7428571428571429, 'params': {'dropout_rate': 0.5, 'hidden_size': 50.979354564361955, 'kernel_index': 13.928217518626793, 'l2_reg': 0.001, 'learning_rate': 0.001, 'num_cnn_layers': 1.0, 'num_filters': 8.861307576145927, 'num_mlp_layers': 5.0, 'num_of_epochs': 15.0, 'pool_size': 16.0}}\n",
      "Iteration 104: \n",
      "\t{'target': 0.6826530612244898, 'params': {'dropout_rate': 0.1, 'hidden_size': 71.3282746938818, 'kernel_index': 1.0, 'l2_reg': 0.0001, 'learning_rate': 0.001, 'num_cnn_layers': 1.0, 'num_filters': 16.0, 'num_mlp_layers': 1.0, 'num_of_epochs': 15.0, 'pool_size': 2.0}}\n",
      "Iteration 105: \n",
      "\t{'target': 0.6795918367346939, 'params': {'dropout_rate': 0.1, 'hidden_size': 77.09258159462398, 'kernel_index': 1.0, 'l2_reg': 0.001, 'learning_rate': 0.001, 'num_cnn_layers': 1.0, 'num_filters': 16.0, 'num_mlp_layers': 1.0, 'num_of_epochs': 5.0, 'pool_size': 16.0}}\n",
      "Iteration 106: \n",
      "\t{'target': 0.6795918367346939, 'params': {'dropout_rate': 0.1, 'hidden_size': 28.229208761256753, 'kernel_index': 1.0, 'l2_reg': 0.0001, 'learning_rate': 0.01, 'num_cnn_layers': 1.0, 'num_filters': 16.0, 'num_mlp_layers': 5.0, 'num_of_epochs': 5.0, 'pool_size': 2.0}}\n",
      "Iteration 107: \n",
      "\t{'target': 0.6795918367346939, 'params': {'dropout_rate': 0.1, 'hidden_size': 29.09862125463451, 'kernel_index': 1.0, 'l2_reg': 0.0001, 'learning_rate': 0.01, 'num_cnn_layers': 1.0, 'num_filters': 16.0, 'num_mlp_layers': 5.0, 'num_of_epochs': 5.0, 'pool_size': 16.0}}\n",
      "Iteration 108: \n",
      "\t{'target': 0.6795918367346939, 'params': {'dropout_rate': 0.1, 'hidden_size': 31.055843557072805, 'kernel_index': 16.337330724901634, 'l2_reg': 0.0001, 'learning_rate': 0.001, 'num_cnn_layers': 1.0, 'num_filters': 2.0, 'num_mlp_layers': 5.0, 'num_of_epochs': 5.0, 'pool_size': 2.0}}\n",
      "Iteration 109: \n",
      "\t{'target': 0.6795918367346939, 'params': {'dropout_rate': 0.1, 'hidden_size': 42.67040871503249, 'kernel_index': 1.0, 'l2_reg': 0.001, 'learning_rate': 0.01, 'num_cnn_layers': 1.0, 'num_filters': 16.0, 'num_mlp_layers': 5.0, 'num_of_epochs': 15.0, 'pool_size': 2.0}}\n",
      "Iteration 110: \n",
      "\t{'target': 0.6795918367346939, 'params': {'dropout_rate': 0.5, 'hidden_size': 30.939000785781964, 'kernel_index': 1.0, 'l2_reg': 0.001, 'learning_rate': 0.01, 'num_cnn_layers': 1.0, 'num_filters': 2.0, 'num_mlp_layers': 1.0, 'num_of_epochs': 5.0, 'pool_size': 2.0}}\n",
      "Iteration 111: \n",
      "\t{'target': 0.7795918367346939, 'params': {'dropout_rate': 0.1, 'hidden_size': 79.5402925392974, 'kernel_index': 10.83862369699774, 'l2_reg': 0.001, 'learning_rate': 0.001, 'num_cnn_layers': 1.0, 'num_filters': 16.0, 'num_mlp_layers': 1.0, 'num_of_epochs': 15.0, 'pool_size': 2.0}}\n",
      "Iteration 112: \n",
      "\t{'target': 0.6795918367346939, 'params': {'dropout_rate': 0.1, 'hidden_size': 62.2255142331144, 'kernel_index': 3.7315304992831875, 'l2_reg': 0.0001, 'learning_rate': 0.001, 'num_cnn_layers': 1.0, 'num_filters': 16.0, 'num_mlp_layers': 1.0, 'num_of_epochs': 15.0, 'pool_size': 10.521359288352718}}\n",
      "Iteration 113: \n",
      "\t{'target': 0.8081632653061225, 'params': {'dropout_rate': 0.1, 'hidden_size': 43.34112310251297, 'kernel_index': 12.021249530270511, 'l2_reg': 0.0001, 'learning_rate': 0.001, 'num_cnn_layers': 1.0, 'num_filters': 16.0, 'num_mlp_layers': 1.0, 'num_of_epochs': 15.0, 'pool_size': 2.0}}\n",
      "Iteration 114: \n",
      "\t{'target': 0.6795918367346939, 'params': {'dropout_rate': 0.5, 'hidden_size': 53.839918273769264, 'kernel_index': 1.0, 'l2_reg': 0.001, 'learning_rate': 0.001, 'num_cnn_layers': 1.0, 'num_filters': 16.0, 'num_mlp_layers': 1.0, 'num_of_epochs': 15.0, 'pool_size': 2.0}}\n",
      "Iteration 115: \n",
      "\t{'target': 0.7836734693877551, 'params': {'dropout_rate': 0.1, 'hidden_size': 46.955415019590866, 'kernel_index': 31.0, 'l2_reg': 0.001, 'learning_rate': 0.001, 'num_cnn_layers': 1.0, 'num_filters': 7.75426384552366, 'num_mlp_layers': 1.0, 'num_of_epochs': 15.0, 'pool_size': 16.0}}\n",
      "Iteration 116: \n",
      "\t{'target': 0.6795918367346939, 'params': {'dropout_rate': 0.1, 'hidden_size': 33.53939462223229, 'kernel_index': 10.345312920501003, 'l2_reg': 0.0001, 'learning_rate': 0.01, 'num_cnn_layers': 1.0, 'num_filters': 2.0, 'num_mlp_layers': 5.0, 'num_of_epochs': 15.0, 'pool_size': 2.0}}\n",
      "Iteration 117: \n",
      "\t{'target': 0.7908163265306123, 'params': {'dropout_rate': 0.1, 'hidden_size': 90.47505782834658, 'kernel_index': 1.0, 'l2_reg': 0.0001, 'learning_rate': 0.001, 'num_cnn_layers': 1.0, 'num_filters': 16.0, 'num_mlp_layers': 5.0, 'num_of_epochs': 15.0, 'pool_size': 16.0}}\n",
      "Iteration 118: \n",
      "\t{'target': 0.7489795918367347, 'params': {'dropout_rate': 0.1, 'hidden_size': 91.48768977801886, 'kernel_index': 17.030244358985307, 'l2_reg': 0.0001, 'learning_rate': 0.001, 'num_cnn_layers': 1.0, 'num_filters': 16.0, 'num_mlp_layers': 5.0, 'num_of_epochs': 15.0, 'pool_size': 16.0}}\n",
      "Iteration 119: \n",
      "\t{'target': 0.6795918367346939, 'params': {'dropout_rate': 0.1, 'hidden_size': 87.71735628599222, 'kernel_index': 1.0, 'l2_reg': 0.001, 'learning_rate': 0.001, 'num_cnn_layers': 1.0, 'num_filters': 7.197015089668299, 'num_mlp_layers': 5.0, 'num_of_epochs': 15.0, 'pool_size': 16.0}}\n",
      "Iteration 120: \n",
      "\t{'target': 0.746938775510204, 'params': {'dropout_rate': 0.1, 'hidden_size': 32.89439581629633, 'kernel_index': 12.31769763206277, 'l2_reg': 0.001, 'learning_rate': 0.01, 'num_cnn_layers': 1.0, 'num_filters': 16.0, 'num_mlp_layers': 1.0, 'num_of_epochs': 5.0, 'pool_size': 2.0}}\n",
      "Iteration 121: \n",
      "\t{'target': 0.6795918367346939, 'params': {'dropout_rate': 0.5, 'hidden_size': 33.29314873293448, 'kernel_index': 1.0, 'l2_reg': 0.001, 'learning_rate': 0.001, 'num_cnn_layers': 1.0, 'num_filters': 8.778109389474748, 'num_mlp_layers': 5.0, 'num_of_epochs': 7.8819394720712115, 'pool_size': 10.263563503503123}}\n",
      "Iteration 122: \n",
      "\t{'target': 0.6795918367346939, 'params': {'dropout_rate': 0.1, 'hidden_size': 42.788514346760415, 'kernel_index': 1.0, 'l2_reg': 0.001, 'learning_rate': 0.01, 'num_cnn_layers': 1.0, 'num_filters': 2.0, 'num_mlp_layers': 1.0, 'num_of_epochs': 15.0, 'pool_size': 2.0}}\n",
      "Iteration 123: \n",
      "\t{'target': 0.6948979591836735, 'params': {'dropout_rate': 0.5, 'hidden_size': 128.0, 'kernel_index': 1.0, 'l2_reg': 0.0001, 'learning_rate': 0.001, 'num_cnn_layers': 1.0, 'num_filters': 16.0, 'num_mlp_layers': 5.0, 'num_of_epochs': 15.0, 'pool_size': 16.0}}\n",
      "Iteration 124: \n",
      "\t{'target': 0.6795918367346939, 'params': {'dropout_rate': 0.1, 'hidden_size': 128.0, 'kernel_index': 1.0, 'l2_reg': 0.001, 'learning_rate': 0.001, 'num_cnn_layers': 1.0, 'num_filters': 2.0, 'num_mlp_layers': 1.0, 'num_of_epochs': 15.0, 'pool_size': 2.0}}\n",
      "Iteration 125: \n",
      "\t{'target': 0.0, 'params': {'dropout_rate': 0.3211204400969252, 'hidden_size': 127.16974548586767, 'kernel_index': 3.2386931304026767, 'l2_reg': 0.0009124782966162874, 'learning_rate': 0.009339449897812435, 'num_cnn_layers': 3.90140295020364, 'num_filters': 2.4586550370309483, 'num_mlp_layers': 4.196572822399942, 'num_of_epochs': 12.769235651750977, 'pool_size': 14.282513070979478}}\n",
      "Iteration 126: \n",
      "\t{'target': 0.0, 'params': {'dropout_rate': 0.1, 'hidden_size': 100.24203626229259, 'kernel_index': 31.0, 'l2_reg': 0.001, 'learning_rate': 0.01, 'num_cnn_layers': 5.0, 'num_filters': 16.0, 'num_mlp_layers': 1.0, 'num_of_epochs': 15.0, 'pool_size': 12.423323062130551}}\n",
      "Iteration 127: \n",
      "\t{'target': 0.810204081632653, 'params': {'dropout_rate': 0.1, 'hidden_size': 89.3499558059155, 'kernel_index': 25.299448963512226, 'l2_reg': 0.001, 'learning_rate': 0.001, 'num_cnn_layers': 1.0, 'num_filters': 16.0, 'num_mlp_layers': 1.0, 'num_of_epochs': 15.0, 'pool_size': 16.0}}\n",
      "Iteration 128: \n",
      "\t{'target': 0.7622448979591837, 'params': {'dropout_rate': 0.5, 'hidden_size': 93.9330743364277, 'kernel_index': 25.135362685951357, 'l2_reg': 0.001, 'learning_rate': 0.001, 'num_cnn_layers': 1.0, 'num_filters': 10.085248691043764, 'num_mlp_layers': 1.0, 'num_of_epochs': 15.0, 'pool_size': 16.0}}\n",
      "Iteration 129: \n",
      "\t{'target': 0.6887755102040817, 'params': {'dropout_rate': 0.5, 'hidden_size': 128.0, 'kernel_index': 1.0, 'l2_reg': 0.0001, 'learning_rate': 0.01, 'num_cnn_layers': 1.0, 'num_filters': 16.0, 'num_mlp_layers': 1.0, 'num_of_epochs': 15.0, 'pool_size': 2.0}}\n",
      "Iteration 130: \n",
      "\t{'target': 0.7795918367346939, 'params': {'dropout_rate': 0.1, 'hidden_size': 99.64985138378013, 'kernel_index': 31.0, 'l2_reg': 0.0001, 'learning_rate': 0.001, 'num_cnn_layers': 1.0, 'num_filters': 8.414558953067552, 'num_mlp_layers': 1.0, 'num_of_epochs': 15.0, 'pool_size': 2.0}}\n",
      "Iteration 131: \n",
      "\t{'target': 0.6, 'params': {'dropout_rate': 0.1, 'hidden_size': 36.12960640781406, 'kernel_index': 14.105891552039386, 'l2_reg': 0.0001, 'learning_rate': 0.01, 'num_cnn_layers': 1.0, 'num_filters': 16.0, 'num_mlp_layers': 5.0, 'num_of_epochs': 15.0, 'pool_size': 2.0}}\n",
      "Iteration 132: \n",
      "\t{'target': 0.0, 'params': {'dropout_rate': 0.1, 'hidden_size': 85.34746696101259, 'kernel_index': 1.0, 'l2_reg': 0.0001, 'learning_rate': 0.001, 'num_cnn_layers': 5.0, 'num_filters': 16.0, 'num_mlp_layers': 1.0, 'num_of_epochs': 15.0, 'pool_size': 16.0}}\n",
      "Iteration 133: \n",
      "\t{'target': 0.6795918367346939, 'params': {'dropout_rate': 0.1, 'hidden_size': 99.05646590779834, 'kernel_index': 1.0, 'l2_reg': 0.001, 'learning_rate': 0.001, 'num_cnn_layers': 1.0, 'num_filters': 16.0, 'num_mlp_layers': 5.0, 'num_of_epochs': 15.0, 'pool_size': 16.0}}\n",
      "Iteration 134: \n",
      "\t{'target': 0.6795918367346939, 'params': {'dropout_rate': 0.1, 'hidden_size': 93.71569005642156, 'kernel_index': 1.0, 'l2_reg': 0.0001, 'learning_rate': 0.001, 'num_cnn_layers': 1.0, 'num_filters': 16.0, 'num_mlp_layers': 5.0, 'num_of_epochs': 5.0, 'pool_size': 16.0}}\n",
      "Iteration 135: \n",
      "\t{'target': 0.8112244897959183, 'params': {'dropout_rate': 0.1, 'hidden_size': 76.69019968602987, 'kernel_index': 5.324534622227592, 'l2_reg': 0.001, 'learning_rate': 0.001, 'num_cnn_layers': 1.0, 'num_filters': 16.0, 'num_mlp_layers': 5.0, 'num_of_epochs': 15.0, 'pool_size': 8.16321316577044}}\n",
      "Iteration 136: \n",
      "\t{'target': 0.6795918367346939, 'params': {'dropout_rate': 0.5, 'hidden_size': 80.98152306368112, 'kernel_index': 11.76592785762497, 'l2_reg': 0.001, 'learning_rate': 0.009217378754394526, 'num_cnn_layers': 1.0, 'num_filters': 16.0, 'num_mlp_layers': 5.0, 'num_of_epochs': 15.0, 'pool_size': 16.0}}\n",
      "Iteration 137: \n",
      "\t{'target': 0.6795918367346939, 'params': {'dropout_rate': 0.5, 'hidden_size': 128.0, 'kernel_index': 1.0, 'l2_reg': 0.001, 'learning_rate': 0.001, 'num_cnn_layers': 1.0, 'num_filters': 16.0, 'num_mlp_layers': 1.0, 'num_of_epochs': 5.0, 'pool_size': 16.0}}\n",
      "Iteration 138: \n",
      "\t{'target': 0.6795918367346939, 'params': {'dropout_rate': 0.5, 'hidden_size': 37.05517699844377, 'kernel_index': 1.0, 'l2_reg': 0.001, 'learning_rate': 0.001, 'num_cnn_layers': 1.0, 'num_filters': 16.0, 'num_mlp_layers': 1.0, 'num_of_epochs': 5.0, 'pool_size': 2.0}}\n",
      "Iteration 139: \n",
      "\t{'target': 0.6959183673469388, 'params': {'dropout_rate': 0.1, 'hidden_size': 60.608493759958556, 'kernel_index': 1.0, 'l2_reg': 0.0001, 'learning_rate': 0.01, 'num_cnn_layers': 1.0, 'num_filters': 5.696527236910135, 'num_mlp_layers': 1.0, 'num_of_epochs': 15.0, 'pool_size': 2.0}}\n",
      "Iteration 140: \n",
      "\t{'target': 0.7969387755102041, 'params': {'dropout_rate': 0.1, 'hidden_size': 55.800149899632345, 'kernel_index': 11.702099915800458, 'l2_reg': 0.001, 'learning_rate': 0.001, 'num_cnn_layers': 1.0, 'num_filters': 9.05402269457052, 'num_mlp_layers': 5.0, 'num_of_epochs': 15.0, 'pool_size': 2.0}}\n",
      "Iteration 141: \n",
      "\t{'target': 0.7693877551020408, 'params': {'dropout_rate': 0.1, 'hidden_size': 58.14513964372728, 'kernel_index': 17.78021108586884, 'l2_reg': 0.001, 'learning_rate': 0.01, 'num_cnn_layers': 1.0, 'num_filters': 7.545704542075112, 'num_mlp_layers': 1.0, 'num_of_epochs': 15.0, 'pool_size': 2.0}}\n",
      "Iteration 142: \n",
      "\t{'target': 0.6795918367346939, 'params': {'dropout_rate': 0.1, 'hidden_size': 16.0, 'kernel_index': 31.0, 'l2_reg': 0.0001, 'learning_rate': 0.01, 'num_cnn_layers': 1.0, 'num_filters': 2.0, 'num_mlp_layers': 5.0, 'num_of_epochs': 15.0, 'pool_size': 16.0}}\n",
      "Iteration 143: \n",
      "\t{'target': 0.6979591836734694, 'params': {'dropout_rate': 0.1, 'hidden_size': 37.941766868060604, 'kernel_index': 12.360581610850298, 'l2_reg': 0.001, 'learning_rate': 0.001, 'num_cnn_layers': 1.0, 'num_filters': 2.0, 'num_mlp_layers': 5.0, 'num_of_epochs': 15.0, 'pool_size': 16.0}}\n",
      "Iteration 144: \n",
      "\t{'target': 0.8142857142857143, 'params': {'dropout_rate': 0.1, 'hidden_size': 43.64455233939064, 'kernel_index': 31.0, 'l2_reg': 0.0001, 'learning_rate': 0.0017640650146965263, 'num_cnn_layers': 1.0, 'num_filters': 9.004788837129269, 'num_mlp_layers': 1.0, 'num_of_epochs': 15.0, 'pool_size': 7.767154920049731}}\n",
      "Iteration 145: \n",
      "\t{'target': 0.0, 'params': {'dropout_rate': 0.5, 'hidden_size': 128.0, 'kernel_index': 1.0, 'l2_reg': 0.0001, 'learning_rate': 0.007944793374142514, 'num_cnn_layers': 5.0, 'num_filters': 16.0, 'num_mlp_layers': 1.0, 'num_of_epochs': 5.0, 'pool_size': 2.0000000000000004}}\n",
      "Iteration 146: \n",
      "\t{'target': 0.6795918367346939, 'params': {'dropout_rate': 0.1, 'hidden_size': 34.21909829205122, 'kernel_index': 1.0, 'l2_reg': 0.0001, 'learning_rate': 0.01, 'num_cnn_layers': 1.0, 'num_filters': 2.0, 'num_mlp_layers': 1.0, 'num_of_epochs': 5.0, 'pool_size': 16.0}}\n",
      "Iteration 147: \n",
      "\t{'target': 0.6795918367346939, 'params': {'dropout_rate': 0.5, 'hidden_size': 92.34493611900348, 'kernel_index': 7.800397980959935, 'l2_reg': 0.0001, 'learning_rate': 0.01, 'num_cnn_layers': 1.0, 'num_filters': 11.84047873546315, 'num_mlp_layers': 5.0, 'num_of_epochs': 15.0, 'pool_size': 16.0}}\n",
      "Iteration 148: \n",
      "\t{'target': 0.6795918367346939, 'params': {'dropout_rate': 0.1, 'hidden_size': 42.373692511595074, 'kernel_index': 19.04722956827569, 'l2_reg': 0.001, 'learning_rate': 0.01, 'num_cnn_layers': 1.0, 'num_filters': 8.941679935007684, 'num_mlp_layers': 5.0, 'num_of_epochs': 15.0, 'pool_size': 7.774314137744089}}\n",
      "Iteration 149: \n",
      "\t{'target': 0.0, 'params': {'dropout_rate': 0.1, 'hidden_size': 57.85243473986449, 'kernel_index': 31.0, 'l2_reg': 0.001, 'learning_rate': 0.001, 'num_cnn_layers': 5.0, 'num_filters': 2.0, 'num_mlp_layers': 1.0, 'num_of_epochs': 15.0, 'pool_size': 16.0}}\n",
      "Iteration 150: \n",
      "\t{'target': 0.7275510204081632, 'params': {'dropout_rate': 0.5, 'hidden_size': 98.22537430885606, 'kernel_index': 27.61323067527213, 'l2_reg': 0.0001, 'learning_rate': 0.001, 'num_cnn_layers': 1.0, 'num_filters': 16.0, 'num_mlp_layers': 5.0, 'num_of_epochs': 15.0, 'pool_size': 2.0}}\n",
      "Iteration 151: \n",
      "\t{'target': 0.7887755102040817, 'params': {'dropout_rate': 0.1, 'hidden_size': 44.88583018943762, 'kernel_index': 31.0, 'l2_reg': 0.001, 'learning_rate': 0.01, 'num_cnn_layers': 1.0, 'num_filters': 2.0, 'num_mlp_layers': 1.0, 'num_of_epochs': 8.798870899265758, 'pool_size': 10.807957696871682}}\n",
      "Iteration 152: \n",
      "\t{'target': 0.6795918367346939, 'params': {'dropout_rate': 0.5, 'hidden_size': 36.18407192738285, 'kernel_index': 31.0, 'l2_reg': 0.001, 'learning_rate': 0.01, 'num_cnn_layers': 1.0, 'num_filters': 2.0, 'num_mlp_layers': 5.0, 'num_of_epochs': 9.892845648987409, 'pool_size': 2.0}}\n",
      "Iteration 153: \n",
      "\t{'target': 0.6795918367346939, 'params': {'dropout_rate': 0.1, 'hidden_size': 54.032178929162356, 'kernel_index': 20.773361966658378, 'l2_reg': 0.0001, 'learning_rate': 0.01, 'num_cnn_layers': 1.0, 'num_filters': 2.0, 'num_mlp_layers': 5.0, 'num_of_epochs': 11.226664783906017, 'pool_size': 16.0}}\n",
      "Iteration 154: \n",
      "\t{'target': 0.6795918367346939, 'params': {'dropout_rate': 0.1, 'hidden_size': 49.10468660763975, 'kernel_index': 23.608136667109914, 'l2_reg': 0.001, 'learning_rate': 0.001, 'num_cnn_layers': 1.0, 'num_filters': 16.0, 'num_mlp_layers': 1.0, 'num_of_epochs': 6.846055440512988, 'pool_size': 2.0}}\n",
      "Iteration 155: \n",
      "\t{'target': 0.6795918367346939, 'params': {'dropout_rate': 0.5, 'hidden_size': 85.54179263882966, 'kernel_index': 1.0, 'l2_reg': 0.0001, 'learning_rate': 0.001, 'num_cnn_layers': 1.0, 'num_filters': 9.927273594327769, 'num_mlp_layers': 5.0, 'num_of_epochs': 5.0, 'pool_size': 16.0}}\n",
      "Iteration 156: \n",
      "\t{'target': 0.7959183673469388, 'params': {'dropout_rate': 0.1, 'hidden_size': 56.498528144733164, 'kernel_index': 14.356405932146123, 'l2_reg': 0.001, 'learning_rate': 0.001, 'num_cnn_layers': 1.0, 'num_filters': 12.262063487905571, 'num_mlp_layers': 1.0, 'num_of_epochs': 15.0, 'pool_size': 11.316830437131674}}\n",
      "Iteration 157: \n",
      "\t{'target': 0.6795918367346939, 'params': {'dropout_rate': 0.1, 'hidden_size': 61.6635976436704, 'kernel_index': 1.0, 'l2_reg': 0.001, 'learning_rate': 0.001, 'num_cnn_layers': 1.0, 'num_filters': 16.0, 'num_mlp_layers': 1.0, 'num_of_epochs': 5.0, 'pool_size': 2.0}}\n",
      "Iteration 158: \n",
      "\t{'target': 0.6795918367346939, 'params': {'dropout_rate': 0.1, 'hidden_size': 30.886520171737583, 'kernel_index': 8.516664590627524, 'l2_reg': 0.0001, 'learning_rate': 0.001, 'num_cnn_layers': 1.0, 'num_filters': 8.375924220532118, 'num_mlp_layers': 1.0, 'num_of_epochs': 5.0, 'pool_size': 2.0}}\n",
      "Iteration 159: \n",
      "\t{'target': 0.7887755102040817, 'params': {'dropout_rate': 0.1, 'hidden_size': 27.406825600535697, 'kernel_index': 31.0, 'l2_reg': 0.001, 'learning_rate': 0.001, 'num_cnn_layers': 1.0, 'num_filters': 16.0, 'num_mlp_layers': 1.0, 'num_of_epochs': 15.0, 'pool_size': 2.0}}\n",
      "Iteration 160: \n",
      "\t{'target': 0.0, 'params': {'dropout_rate': 0.1, 'hidden_size': 31.53787777392998, 'kernel_index': 1.0, 'l2_reg': 0.0001, 'learning_rate': 0.01, 'num_cnn_layers': 5.0, 'num_filters': 16.0, 'num_mlp_layers': 1.0, 'num_of_epochs': 10.873789476889728, 'pool_size': 10.313358566811397}}\n",
      "Iteration 161: \n",
      "\t{'target': 0.6795918367346939, 'params': {'dropout_rate': 0.1, 'hidden_size': 97.81260291333024, 'kernel_index': 31.0, 'l2_reg': 0.001, 'learning_rate': 0.001, 'num_cnn_layers': 1.0, 'num_filters': 16.0, 'num_mlp_layers': 1.0, 'num_of_epochs': 6.802482233156246, 'pool_size': 2.0}}\n",
      "Iteration 162: \n",
      "\t{'target': 0.6795918367346939, 'params': {'dropout_rate': 0.5, 'hidden_size': 16.0, 'kernel_index': 31.0, 'l2_reg': 0.0001, 'learning_rate': 0.001, 'num_cnn_layers': 1.0, 'num_filters': 2.0, 'num_mlp_layers': 5.0, 'num_of_epochs': 5.0, 'pool_size': 16.0}}\n",
      "Iteration 163: \n",
      "\t{'target': 0.7775510204081633, 'params': {'dropout_rate': 0.10000000000000003, 'hidden_size': 16.0, 'kernel_index': 31.0, 'l2_reg': 0.0001, 'learning_rate': 0.001, 'num_cnn_layers': 1.0, 'num_filters': 2.0, 'num_mlp_layers': 1.0, 'num_of_epochs': 15.0, 'pool_size': 2.0}}\n",
      "Iteration 164: \n",
      "\t{'target': 0.7193877551020408, 'params': {'dropout_rate': 0.1, 'hidden_size': 27.9585791220611, 'kernel_index': 22.076078796965525, 'l2_reg': 0.0001, 'learning_rate': 0.001, 'num_cnn_layers': 1.0, 'num_filters': 2.0, 'num_mlp_layers': 1.0, 'num_of_epochs': 15.0, 'pool_size': 2.0}}\n",
      "Iteration 165: \n",
      "\t{'target': 0.6918367346938775, 'params': {'dropout_rate': 0.5, 'hidden_size': 22.74393113413764, 'kernel_index': 31.0, 'l2_reg': 0.001, 'learning_rate': 0.001, 'num_cnn_layers': 1.0, 'num_filters': 2.0, 'num_mlp_layers': 5.0, 'num_of_epochs': 15.0, 'pool_size': 7.446983126796228}}\n",
      "Iteration 166: \n",
      "\t{'target': 0.6795918367346939, 'params': {'dropout_rate': 0.5, 'hidden_size': 57.26911246653007, 'kernel_index': 12.657107223249328, 'l2_reg': 0.0001, 'learning_rate': 0.001, 'num_cnn_layers': 1.0, 'num_filters': 16.0, 'num_mlp_layers': 5.0, 'num_of_epochs': 6.580558991224714, 'pool_size': 2.0}}\n",
      "Iteration 167: \n",
      "\t{'target': 0.7775510204081633, 'params': {'dropout_rate': 0.1, 'hidden_size': 22.649891731119833, 'kernel_index': 31.0, 'l2_reg': 0.0001, 'learning_rate': 0.001, 'num_cnn_layers': 1.0, 'num_filters': 8.797354649675693, 'num_mlp_layers': 1.0, 'num_of_epochs': 15.0, 'pool_size': 2.0}}\n",
      "Iteration 168: \n",
      "\t{'target': 0.6795918367346939, 'params': {'dropout_rate': 0.5, 'hidden_size': 42.35132085766088, 'kernel_index': 1.0, 'l2_reg': 0.001, 'learning_rate': 0.001, 'num_cnn_layers': 1.0, 'num_filters': 2.0, 'num_mlp_layers': 1.0, 'num_of_epochs': 15.0, 'pool_size': 16.0}}\n",
      "Iteration 169: \n",
      "\t{'target': 0.6795918367346939, 'params': {'dropout_rate': 0.1, 'hidden_size': 35.16755932401988, 'kernel_index': 19.984773567920485, 'l2_reg': 0.0001, 'learning_rate': 0.001, 'num_cnn_layers': 1.0, 'num_filters': 10.375304947272086, 'num_mlp_layers': 1.0, 'num_of_epochs': 5.0, 'pool_size': 2.0}}\n",
      "Iteration 170: \n",
      "\t{'target': 0.7438775510204082, 'params': {'dropout_rate': 0.5, 'hidden_size': 50.44798176173053, 'kernel_index': 15.311782704063647, 'l2_reg': 0.001, 'learning_rate': 0.001, 'num_cnn_layers': 1.0, 'num_filters': 16.0, 'num_mlp_layers': 1.0, 'num_of_epochs': 15.0, 'pool_size': 2.0}}\n",
      "Iteration 171: \n",
      "\t{'target': 0.6795918367346939, 'params': {'dropout_rate': 0.1, 'hidden_size': 16.0, 'kernel_index': 31.0, 'l2_reg': 0.0009694035200591309, 'learning_rate': 0.001, 'num_cnn_layers': 1.0, 'num_filters': 16.0, 'num_mlp_layers': 1.0, 'num_of_epochs': 5.0, 'pool_size': 2.0}}\n",
      "Iteration 172: \n",
      "\t{'target': 0.7755102040816326, 'params': {'dropout_rate': 0.1, 'hidden_size': 42.653455175317376, 'kernel_index': 25.930008161529713, 'l2_reg': 0.001, 'learning_rate': 0.01, 'num_cnn_layers': 1.0, 'num_filters': 16.0, 'num_mlp_layers': 1.0, 'num_of_epochs': 15.0, 'pool_size': 2.0}}\n",
      "Iteration 173: \n",
      "\t{'target': 0.6795918367346939, 'params': {'dropout_rate': 0.3036968983144582, 'hidden_size': 16.67078071855319, 'kernel_index': 30.947778813628684, 'l2_reg': 0.0009354442295023382, 'learning_rate': 0.008704650600341928, 'num_cnn_layers': 1.2332540111595236, 'num_filters': 6.539390890828496, 'num_mlp_layers': 4.8597719250828355, 'num_of_epochs': 6.804923572010109, 'pool_size': 2.8253818486040414}}\n",
      "Iteration 174: \n",
      "\t{'target': 0.6795918367346939, 'params': {'dropout_rate': 0.5, 'hidden_size': 38.24411748803912, 'kernel_index': 6.3774053004149645, 'l2_reg': 0.001, 'learning_rate': 0.001, 'num_cnn_layers': 1.0, 'num_filters': 10.208386003799806, 'num_mlp_layers': 1.0, 'num_of_epochs': 15.0, 'pool_size': 2.0}}\n",
      "Iteration 175: \n",
      "\t{'target': 0.6795918367346939, 'params': {'dropout_rate': 0.1, 'hidden_size': 86.74651151686444, 'kernel_index': 6.779163142279154, 'l2_reg': 0.001, 'learning_rate': 0.001, 'num_cnn_layers': 1.0, 'num_filters': 16.0, 'num_mlp_layers': 5.0, 'num_of_epochs': 10.310849930604721, 'pool_size': 11.42313837208534}}\n",
      "Iteration 176: \n",
      "\t{'target': 0.6795918367346939, 'params': {'dropout_rate': 0.5, 'hidden_size': 43.29396314890472, 'kernel_index': 31.0, 'l2_reg': 0.0001, 'learning_rate': 0.001, 'num_cnn_layers': 1.0, 'num_filters': 2.0, 'num_mlp_layers': 5.0, 'num_of_epochs': 15.0, 'pool_size': 16.0}}\n",
      "Iteration 177: \n",
      "\t{'target': 0.8, 'params': {'dropout_rate': 0.1, 'hidden_size': 63.529638973919475, 'kernel_index': 9.558359192880959, 'l2_reg': 0.0001, 'learning_rate': 0.01, 'num_cnn_layers': 1.0, 'num_filters': 9.795786728689164, 'num_mlp_layers': 1.0, 'num_of_epochs': 15.0, 'pool_size': 2.0}}\n",
      "Iteration 178: \n",
      "\t{'target': 0.6795918367346939, 'params': {'dropout_rate': 0.1, 'hidden_size': 91.24841730419503, 'kernel_index': 31.0, 'l2_reg': 0.001, 'learning_rate': 0.001, 'num_cnn_layers': 1.0, 'num_filters': 16.0, 'num_mlp_layers': 1.0, 'num_of_epochs': 5.556206797080035, 'pool_size': 16.0}}\n",
      "Iteration 179: \n",
      "\t{'target': 0.6795918367346939, 'params': {'dropout_rate': 0.5, 'hidden_size': 30.643487395410236, 'kernel_index': 11.035286561000447, 'l2_reg': 0.001, 'learning_rate': 0.001, 'num_cnn_layers': 1.0, 'num_filters': 2.0, 'num_mlp_layers': 5.0, 'num_of_epochs': 5.0, 'pool_size': 16.0}}\n",
      "Iteration 180: \n",
      "\t{'target': 0.6795918367346939, 'params': {'dropout_rate': 0.1, 'hidden_size': 116.68154443911475, 'kernel_index': 1.0, 'l2_reg': 0.001, 'learning_rate': 0.001, 'num_cnn_layers': 1.0, 'num_filters': 16.0, 'num_mlp_layers': 5.0, 'num_of_epochs': 15.0, 'pool_size': 16.0}}\n",
      "Iteration 181: \n",
      "\t{'target': 0.0, 'params': {'dropout_rate': 0.1, 'hidden_size': 16.0, 'kernel_index': 31.0, 'l2_reg': 0.0001, 'learning_rate': 0.00796201548596515, 'num_cnn_layers': 5.0, 'num_filters': 2.0, 'num_mlp_layers': 1.0, 'num_of_epochs': 5.0, 'pool_size': 2.0}}\n",
      "Iteration 182: \n",
      "\t{'target': 0.6795918367346939, 'params': {'dropout_rate': 0.5, 'hidden_size': 91.72107415267828, 'kernel_index': 20.443838428722827, 'l2_reg': 0.001, 'learning_rate': 0.001, 'num_cnn_layers': 1.0, 'num_filters': 16.0, 'num_mlp_layers': 1.0, 'num_of_epochs': 7.5724323147238914, 'pool_size': 16.0}}\n",
      "Iteration 183: \n",
      "\t{'target': 0.8255102040816327, 'params': {'dropout_rate': 0.1, 'hidden_size': 16.0, 'kernel_index': 31.0, 'l2_reg': 0.001, 'learning_rate': 0.001, 'num_cnn_layers': 1.0, 'num_filters': 16.0, 'num_mlp_layers': 5.0, 'num_of_epochs': 15.0, 'pool_size': 2.0}}\n",
      "Iteration 184: \n",
      "\t{'target': 0.0, 'params': {'dropout_rate': 0.25655443657364707, 'hidden_size': 19.245998895027768, 'kernel_index': 30.915741299954178, 'l2_reg': 0.0009434952668102878, 'learning_rate': 0.008850304514962163, 'num_cnn_layers': 2.5668055639523217, 'num_filters': 14.496938680174024, 'num_mlp_layers': 1.2116870156712758, 'num_of_epochs': 14.870151775123446, 'pool_size': 14.95824637959249}}\n",
      "Iteration 185: \n",
      "\t{'target': 0.32040816326530613, 'params': {'dropout_rate': 0.1, 'hidden_size': 16.0, 'kernel_index': 31.0, 'l2_reg': 0.0001, 'learning_rate': 0.01, 'num_cnn_layers': 1.0, 'num_filters': 7.940724827582843, 'num_mlp_layers': 5.0, 'num_of_epochs': 15.0, 'pool_size': 2.0}}\n",
      "Iteration 186: \n",
      "\t{'target': 0.7408163265306122, 'params': {'dropout_rate': 0.1, 'hidden_size': 21.91499689493023, 'kernel_index': 31.0, 'l2_reg': 0.001, 'learning_rate': 0.001, 'num_cnn_layers': 1.0, 'num_filters': 12.929937487646889, 'num_mlp_layers': 5.0, 'num_of_epochs': 5.0, 'pool_size': 2.0}}\n",
      "Iteration 187: \n",
      "\t{'target': 0.7959183673469388, 'params': {'dropout_rate': 0.1, 'hidden_size': 128.0, 'kernel_index': 31.0, 'l2_reg': 0.0001, 'learning_rate': 0.001, 'num_cnn_layers': 1.0, 'num_filters': 16.0, 'num_mlp_layers': 1.0, 'num_of_epochs': 15.0, 'pool_size': 16.0}}\n",
      "Iteration 188: \n",
      "\t{'target': 0.0, 'params': {'dropout_rate': 0.1, 'hidden_size': 128.0, 'kernel_index': 31.0, 'l2_reg': 0.0001, 'learning_rate': 0.001, 'num_cnn_layers': 5.0, 'num_filters': 16.0, 'num_mlp_layers': 1.0, 'num_of_epochs': 15.0, 'pool_size': 8.435743887564096}}\n",
      "Iteration 189: \n",
      "\t{'target': 0.6938775510204082, 'params': {'dropout_rate': 0.5, 'hidden_size': 22.45514236755805, 'kernel_index': 31.0, 'l2_reg': 0.0001, 'learning_rate': 0.001, 'num_cnn_layers': 1.0, 'num_filters': 16.0, 'num_mlp_layers': 5.0, 'num_of_epochs': 11.996378246516873, 'pool_size': 2.0}}\n",
      "Iteration 190: \n",
      "\t{'target': 0.6795918367346939, 'params': {'dropout_rate': 0.5, 'hidden_size': 34.01790802949647, 'kernel_index': 7.777362423814634, 'l2_reg': 0.001, 'learning_rate': 0.001, 'num_cnn_layers': 1.0, 'num_filters': 2.0, 'num_mlp_layers': 1.0, 'num_of_epochs': 10.378131632152627, 'pool_size': 9.3657217020988}}\n",
      "Iteration 191: \n",
      "\t{'target': 0.7112244897959183, 'params': {'dropout_rate': 0.1, 'hidden_size': 87.3990267133173, 'kernel_index': 1.0, 'l2_reg': 0.0001, 'learning_rate': 0.001, 'num_cnn_layers': 1.0, 'num_filters': 8.944831699737062, 'num_mlp_layers': 1.0, 'num_of_epochs': 15.0, 'pool_size': 2.0}}\n",
      "Iteration 192: \n",
      "\t{'target': 0.7316326530612245, 'params': {'dropout_rate': 0.1, 'hidden_size': 45.86078316589023, 'kernel_index': 31.0, 'l2_reg': 0.001, 'learning_rate': 0.01, 'num_cnn_layers': 1.0, 'num_filters': 3.903998868989925, 'num_mlp_layers': 5.0, 'num_of_epochs': 15.0, 'pool_size': 7.053550632497937}}\n",
      "Iteration 193: \n",
      "\t{'target': 0.7377551020408163, 'params': {'dropout_rate': 0.1, 'hidden_size': 49.26272394207122, 'kernel_index': 31.0, 'l2_reg': 0.001, 'learning_rate': 0.01, 'num_cnn_layers': 1.0, 'num_filters': 9.937780255162181, 'num_mlp_layers': 1.0, 'num_of_epochs': 7.620001025167203, 'pool_size': 9.798119284786411}}\n",
      "Iteration 194: \n",
      "\t{'target': 0.6795918367346939, 'params': {'dropout_rate': 0.1, 'hidden_size': 52.659719738328114, 'kernel_index': 1.0, 'l2_reg': 0.0001, 'learning_rate': 0.001, 'num_cnn_layers': 1.0, 'num_filters': 2.0, 'num_mlp_layers': 5.0, 'num_of_epochs': 15.0, 'pool_size': 2.0}}\n",
      "Iteration 195: \n",
      "\t{'target': 0.7673469387755102, 'params': {'dropout_rate': 0.5, 'hidden_size': 89.10119164031467, 'kernel_index': 17.594535641604164, 'l2_reg': 0.001, 'learning_rate': 0.01, 'num_cnn_layers': 1.0, 'num_filters': 16.0, 'num_mlp_layers': 1.0, 'num_of_epochs': 15.0, 'pool_size': 9.003770200324537}}\n",
      "Iteration 196: \n",
      "\t{'target': 0.6795918367346939, 'params': {'dropout_rate': 0.1, 'hidden_size': 16.0, 'kernel_index': 1.0, 'l2_reg': 0.0001, 'learning_rate': 0.001, 'num_cnn_layers': 1.0, 'num_filters': 16.0, 'num_mlp_layers': 5.0, 'num_of_epochs': 5.0, 'pool_size': 2.0}}\n",
      "Iteration 197: \n",
      "\t{'target': 0.6795918367346939, 'params': {'dropout_rate': 0.1, 'hidden_size': 65.77314562731273, 'kernel_index': 23.483690533911894, 'l2_reg': 0.0001, 'learning_rate': 0.001, 'num_cnn_layers': 1.0, 'num_filters': 2.0, 'num_mlp_layers': 5.0, 'num_of_epochs': 5.0, 'pool_size': 16.0}}\n",
      "Iteration 198: \n",
      "\t{'target': 0.6795918367346939, 'params': {'dropout_rate': 0.5, 'hidden_size': 128.0, 'kernel_index': 31.0, 'l2_reg': 0.001, 'learning_rate': 0.01, 'num_cnn_layers': 1.0, 'num_filters': 16.0, 'num_mlp_layers': 5.0, 'num_of_epochs': 5.0, 'pool_size': 16.0}}\n",
      "Iteration 199: \n",
      "\t{'target': 0.8346938775510204, 'params': {'dropout_rate': 0.1, 'hidden_size': 47.302090935166156, 'kernel_index': 31.0, 'l2_reg': 0.001, 'learning_rate': 0.001, 'num_cnn_layers': 1.0, 'num_filters': 16.0, 'num_mlp_layers': 1.0, 'num_of_epochs': 15.0, 'pool_size': 9.813986791084629}}\n"
     ]
    }
   ],
   "source": [
    "bayesian_time_start = time.time()\n",
    "bayesian_param_grid = {\n",
    "    'hidden_size': param_grid['hidden_size'],\n",
    "    'dropout_rate': param_grid['dropout_rate'], \n",
    "    'learning_rate': param_grid['learning_rate'], \n",
    "    'l2_reg': param_grid['l2_reg'],\n",
    "    'num_filters': param_grid['num_filters'],\n",
    "    'pool_size': param_grid['pool_size'],\n",
    "    'num_mlp_layers': param_grid['num_mlp_layers'],\n",
    "    'num_cnn_layers': param_grid['num_cnn_layers'],\n",
    "    'kernel_index': param_grid['kernel_index'],\n",
    "    'num_of_epochs': param_grid['num_of_epochs']\n",
    "}\n",
    "# Bounded region of parameter space\n",
    "optimizer = BayesianOptimization(\n",
    "    f=train_cnn,\n",
    "    pbounds=bayesian_param_grid,\n",
    "    verbose=2,  # verbose = 1 prints only when a maximum is obsenew_optimizerrved, verbose = 0 is silent\n",
    "#     random_state=random_seed\n",
    ")\n",
    "\n",
    "optimizer.maximize(init_points=40, n_iter=160)\n",
    "\n",
    "bayesian_time_end = time.time()\n",
    "for i, res in enumerate(optimizer.res):\n",
    "    print(\"Iteration {}: \\n\\t{}\".format(i, res))\n",
    "\n",
    "best_bay_params = optimizer.max['params']\n",
    "bay_training_time = (bayesian_time_end - bayesian_time_start)/60"
   ]
  },
  {
   "cell_type": "code",
   "execution_count": 30,
   "id": "norman-guarantee",
   "metadata": {
    "colab": {
     "base_uri": "https://localhost:8080/"
    },
    "executionInfo": {
     "elapsed": 0,
     "status": "ok",
     "timestamp": 1647813925209,
     "user": {
      "displayName": "Victor Lam",
      "photoUrl": "https://lh3.googleusercontent.com/a/default-user=s64",
      "userId": "14748696853212044832"
     },
     "user_tz": -480
    },
    "id": "norman-guarantee",
    "outputId": "d62383e6-d35c-4ea6-ec1e-7378dd13fbf1"
   },
   "outputs": [
    {
     "data": {
      "text/plain": [
       "({'dropout_rate': 0.1,\n",
       "  'hidden_size': 47.302090935166156,\n",
       "  'kernel_index': 31.0,\n",
       "  'l2_reg': 0.001,\n",
       "  'learning_rate': 0.001,\n",
       "  'num_cnn_layers': 1.0,\n",
       "  'num_filters': 16.0,\n",
       "  'num_mlp_layers': 1.0,\n",
       "  'num_of_epochs': 15.0,\n",
       "  'pool_size': 9.813986791084629},\n",
       " 51.89767103592555)"
      ]
     },
     "execution_count": 30,
     "metadata": {},
     "output_type": "execute_result"
    }
   ],
   "source": [
    "# best_bay_params = {'dropout_rate': 0.1,\n",
    "#   'hidden_size': 47.302090935166156,\n",
    "#   'kernel_index': 31.0,\n",
    "#   'l2_reg': 0.001,\n",
    "#   'learning_rate': 0.001,\n",
    "#   'num_cnn_layers': 1.0,\n",
    "#   'num_filters': 16.0,\n",
    "#   'num_mlp_layers': 1.0,\n",
    "#   'num_of_epochs': 15.0,\n",
    "#   'pool_size': 9.813986791084629}\n",
    "# bay_training_time = 51.89767103592555\n",
    "best_bay_params, bay_training_time"
   ]
  },
  {
   "cell_type": "code",
   "execution_count": 31,
   "id": "disturbed-shield",
   "metadata": {
    "colab": {
     "base_uri": "https://localhost:8080/"
    },
    "executionInfo": {
     "elapsed": 506,
     "status": "ok",
     "timestamp": 1647813925709,
     "user": {
      "displayName": "Victor Lam",
      "photoUrl": "https://lh3.googleusercontent.com/a/default-user=s64",
      "userId": "14748696853212044832"
     },
     "user_tz": -480
    },
    "id": "disturbed-shield",
    "outputId": "dfd33ebf-56cb-4d72-c91f-1ee6006a7ec6"
   },
   "outputs": [
    {
     "name": "stderr",
     "output_type": "stream",
     "text": [
      "100%|██████████████████████████████████████████| 62/62 [00:00<00:00, 147.81it/s]\n"
     ]
    },
    {
     "data": {
      "text/plain": [
       "(0.8346938775510204,\n",
       " {'dropout_rate': 0.1,\n",
       "  'hidden_size': 47.302090935166156,\n",
       "  'kernel_index': 31.0,\n",
       "  'l2_reg': 0.001,\n",
       "  'learning_rate': 0.001,\n",
       "  'num_cnn_layers': 1.0,\n",
       "  'num_filters': 16.0,\n",
       "  'num_mlp_layers': 1.0,\n",
       "  'num_of_epochs': 15.0,\n",
       "  'pool_size': 9.813986791084629})"
      ]
     },
     "execution_count": 31,
     "metadata": {},
     "output_type": "execute_result"
    }
   ],
   "source": [
    "best_bay_model = load_model(f'best_cnn_model_bay')\n",
    "y_true, y_bay_pred = predict(best_bay_model, test_loader)\n",
    "\n",
    "# accuracy\n",
    "best_bay_acc = accuracy_score(y_true, y_bay_pred)\n",
    "best_bay_acc, best_bay_params"
   ]
  },
  {
   "cell_type": "code",
   "execution_count": 32,
   "id": "incorporate-measurement",
   "metadata": {
    "colab": {
     "base_uri": "https://localhost:8080/"
    },
    "executionInfo": {
     "elapsed": 2105,
     "status": "ok",
     "timestamp": 1647813935414,
     "user": {
      "displayName": "Victor Lam",
      "photoUrl": "https://lh3.googleusercontent.com/a/default-user=s64",
      "userId": "14748696853212044832"
     },
     "user_tz": -480
    },
    "id": "incorporate-measurement",
    "outputId": "cefa63bd-864a-457c-e86c-a78fb1e8d66c"
   },
   "outputs": [
    {
     "name": "stdout",
     "output_type": "stream",
     "text": [
      "Classification Report:\n",
      "              precision    recall  f1-score   support\n",
      "\n",
      "           0       0.81      0.98      0.89       666\n",
      "           1       0.94      0.52      0.67       314\n",
      "\n",
      "    accuracy                           0.83       980\n",
      "   macro avg       0.87      0.75      0.78       980\n",
      "weighted avg       0.85      0.83      0.82       980\n",
      "\n"
     ]
    }
   ],
   "source": [
    "print_classification_report(y_bay_pred, y_true, [\"0\", \"1\"], title='Classification Report:')"
   ]
  },
  {
   "cell_type": "markdown",
   "id": "studied-retailer",
   "metadata": {
    "id": "studied-retailer"
   },
   "source": [
    "# 4. Result Summary"
   ]
  },
  {
   "cell_type": "code",
   "execution_count": 33,
   "id": "altered-minnesota",
   "metadata": {
    "colab": {
     "base_uri": "https://localhost:8080/",
     "height": 235
    },
    "executionInfo": {
     "elapsed": 1,
     "status": "error",
     "timestamp": 1647813935415,
     "user": {
      "displayName": "Victor Lam",
      "photoUrl": "https://lh3.googleusercontent.com/a/default-user=s64",
      "userId": "14748696853212044832"
     },
     "user_tz": -480
    },
    "id": "altered-minnesota",
    "outputId": "fa216e6b-d56e-4936-eafc-60d3b5592ca2"
   },
   "outputs": [],
   "source": [
    "result = {\n",
    "    'random_search': {\n",
    "        'training_time(mins)': random_training_time,\n",
    "        'accuracy': best_random_acc,\n",
    "        **get_clean_params(best_random_params)\n",
    "    },\n",
    "    'bayesian': {\n",
    "        'training_time(mins)': bay_training_time,\n",
    "        'accuracy': best_bay_acc,\n",
    "        **get_clean_params(best_bay_params)\n",
    "    },\n",
    "}"
   ]
  },
  {
   "cell_type": "code",
   "execution_count": 34,
   "id": "oriental-botswana",
   "metadata": {
    "executionInfo": {
     "elapsed": 1,
     "status": "aborted",
     "timestamp": 1647813935415,
     "user": {
      "displayName": "Victor Lam",
      "photoUrl": "https://lh3.googleusercontent.com/a/default-user=s64",
      "userId": "14748696853212044832"
     },
     "user_tz": -480
    },
    "id": "oriental-botswana"
   },
   "outputs": [
    {
     "data": {
      "text/html": [
       "<div>\n",
       "<style scoped>\n",
       "    .dataframe tbody tr th:only-of-type {\n",
       "        vertical-align: middle;\n",
       "    }\n",
       "\n",
       "    .dataframe tbody tr th {\n",
       "        vertical-align: top;\n",
       "    }\n",
       "\n",
       "    .dataframe thead th {\n",
       "        text-align: right;\n",
       "    }\n",
       "</style>\n",
       "<table border=\"1\" class=\"dataframe\">\n",
       "  <thead>\n",
       "    <tr style=\"text-align: right;\">\n",
       "      <th></th>\n",
       "      <th>random_search</th>\n",
       "      <th>bayesian</th>\n",
       "    </tr>\n",
       "  </thead>\n",
       "  <tbody>\n",
       "    <tr>\n",
       "      <th>training_time(mins)</th>\n",
       "      <td>9.135307</td>\n",
       "      <td>51.897671</td>\n",
       "    </tr>\n",
       "    <tr>\n",
       "      <th>accuracy</th>\n",
       "      <td>0.818367</td>\n",
       "      <td>0.834694</td>\n",
       "    </tr>\n",
       "    <tr>\n",
       "      <th>hidden_size</th>\n",
       "      <td>128</td>\n",
       "      <td>47</td>\n",
       "    </tr>\n",
       "    <tr>\n",
       "      <th>dropout_rate</th>\n",
       "      <td>0.1</td>\n",
       "      <td>0.1</td>\n",
       "    </tr>\n",
       "    <tr>\n",
       "      <th>learning_rate</th>\n",
       "      <td>0.001</td>\n",
       "      <td>0.001</td>\n",
       "    </tr>\n",
       "    <tr>\n",
       "      <th>l2_reg</th>\n",
       "      <td>0.0001</td>\n",
       "      <td>0.001</td>\n",
       "    </tr>\n",
       "    <tr>\n",
       "      <th>num_filters</th>\n",
       "      <td>16</td>\n",
       "      <td>16</td>\n",
       "    </tr>\n",
       "    <tr>\n",
       "      <th>pool_size</th>\n",
       "      <td>16</td>\n",
       "      <td>9</td>\n",
       "    </tr>\n",
       "    <tr>\n",
       "      <th>num_mlp_layers</th>\n",
       "      <td>1</td>\n",
       "      <td>1</td>\n",
       "    </tr>\n",
       "    <tr>\n",
       "      <th>num_cnn_layers</th>\n",
       "      <td>1</td>\n",
       "      <td>1</td>\n",
       "    </tr>\n",
       "    <tr>\n",
       "      <th>num_of_epochs</th>\n",
       "      <td>15</td>\n",
       "      <td>15</td>\n",
       "    </tr>\n",
       "    <tr>\n",
       "      <th>kernel_size</th>\n",
       "      <td>(1, 2, 3, 4, 5)</td>\n",
       "      <td>(1, 2, 3, 4, 5)</td>\n",
       "    </tr>\n",
       "  </tbody>\n",
       "</table>\n",
       "</div>"
      ],
      "text/plain": [
       "                       random_search         bayesian\n",
       "training_time(mins)         9.135307        51.897671\n",
       "accuracy                    0.818367         0.834694\n",
       "hidden_size                      128               47\n",
       "dropout_rate                     0.1              0.1\n",
       "learning_rate                  0.001            0.001\n",
       "l2_reg                        0.0001            0.001\n",
       "num_filters                       16               16\n",
       "pool_size                         16                9\n",
       "num_mlp_layers                     1                1\n",
       "num_cnn_layers                     1                1\n",
       "num_of_epochs                     15               15\n",
       "kernel_size          (1, 2, 3, 4, 5)  (1, 2, 3, 4, 5)"
      ]
     },
     "execution_count": 34,
     "metadata": {},
     "output_type": "execute_result"
    }
   ],
   "source": [
    "result = pd.DataFrame.from_dict(result)\n",
    "result"
   ]
  },
  {
   "cell_type": "code",
   "execution_count": 19,
   "id": "chemical-interpretation",
   "metadata": {
    "executionInfo": {
     "elapsed": 1,
     "status": "ok",
     "timestamp": 1647728715871,
     "user": {
      "displayName": "Victor Lam",
      "photoUrl": "https://lh3.googleusercontent.com/a/default-user=s64",
      "userId": "14748696853212044832"
     },
     "user_tz": -480
    },
    "id": "chemical-interpretation"
   },
   "outputs": [],
   "source": []
  },
  {
   "cell_type": "code",
   "execution_count": 19,
   "id": "short-auction",
   "metadata": {
    "executionInfo": {
     "elapsed": 1,
     "status": "ok",
     "timestamp": 1647728715871,
     "user": {
      "displayName": "Victor Lam",
      "photoUrl": "https://lh3.googleusercontent.com/a/default-user=s64",
      "userId": "14748696853212044832"
     },
     "user_tz": -480
    },
    "id": "short-auction"
   },
   "outputs": [],
   "source": []
  },
  {
   "cell_type": "code",
   "execution_count": 19,
   "id": "verbal-cross",
   "metadata": {
    "executionInfo": {
     "elapsed": 3,
     "status": "ok",
     "timestamp": 1647728715873,
     "user": {
      "displayName": "Victor Lam",
      "photoUrl": "https://lh3.googleusercontent.com/a/default-user=s64",
      "userId": "14748696853212044832"
     },
     "user_tz": -480
    },
    "id": "verbal-cross"
   },
   "outputs": [],
   "source": []
  }
 ],
 "metadata": {
  "accelerator": "GPU",
  "colab": {
   "collapsed_sections": [],
   "machine_shape": "hm",
   "name": "1.CNN.ipynb",
   "provenance": []
  },
  "kernelspec": {
   "display_name": "Python 3 (ipykernel)",
   "language": "python",
   "name": "python3"
  },
  "language_info": {
   "codemirror_mode": {
    "name": "ipython",
    "version": 3
   },
   "file_extension": ".py",
   "mimetype": "text/x-python",
   "name": "python",
   "nbconvert_exporter": "python",
   "pygments_lexer": "ipython3",
   "version": "3.10.6"
  }
 },
 "nbformat": 4,
 "nbformat_minor": 5
}
